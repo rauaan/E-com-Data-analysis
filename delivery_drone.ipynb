{
  "cells": [
    {
      "cell_type": "code",
      "metadata": {
        "source_hash": "d6f0b40f",
        "execution_start": 1745325579054,
        "execution_millis": 1,
        "execution_context_id": "97b0769b-0061-424c-b558-cfb7d22a56a9",
        "cell_id": "4b97b5d51c704f2ba16e7199c7e18c30",
        "deepnote_cell_type": "code",
        "id": "cXIrXc2uwlU2"
      },
      "source": [
        "import pandas as pd\n",
        "import matplotlib.pyplot as plt\n",
        "import seaborn as sns\n",
        "import numpy as np"
      ],
      "execution_count": null,
      "outputs": []
    },
    {
      "cell_type": "markdown",
      "metadata": {
        "formattedRanges": [],
        "cell_id": "3f92a6e5e1d44329bffbe454a677f674",
        "deepnote_cell_type": "text-cell-h1",
        "id": "NWH9MHPKwlU3"
      },
      "source": [
        "# Предобработка данных"
      ]
    },
    {
      "cell_type": "markdown",
      "metadata": {
        "is_collapsed": false,
        "formattedRanges": [],
        "deepnote_app_block_visible": false,
        "cell_id": "61206faa70b24afba7b2bbd0b3368dae",
        "deepnote_cell_type": "text-cell-h3",
        "id": "YnOvOn61wlU4"
      },
      "source": [
        "### Чтение данных и перевод столбцов в PEP8"
      ]
    },
    {
      "cell_type": "code",
      "metadata": {
        "source_hash": "492dc81f",
        "execution_start": 1745325579114,
        "execution_millis": 237,
        "execution_context_id": "97b0769b-0061-424c-b558-cfb7d22a56a9",
        "cell_id": "71ed4ae5753445e79e86a4749035d669",
        "deepnote_cell_type": "code",
        "id": "3ogDxtG2wlU5",
        "outputId": "150d356f-da71-4389-a1dd-b0969f097224"
      },
      "source": [
        "data = pd.read_csv('ecom_yl.csv')\n",
        "data.columns = data.columns.str.lower().str.replace(' ', '_')\n",
        "data.head()"
      ],
      "execution_count": null,
      "outputs": [
        {
          "output_type": "execute_result",
          "execution_count": 109,
          "data": {
            "text/plain": "(1012, 15)"
          },
          "metadata": {}
        }
      ]
    },
    {
      "cell_type": "markdown",
      "metadata": {
        "is_collapsed": false,
        "formattedRanges": [],
        "deepnote_app_block_visible": false,
        "cell_id": "e30fc93e32b64d708e93adc5f4e464f2",
        "deepnote_cell_type": "text-cell-h3",
        "id": "PaplLSPLwlU6"
      },
      "source": [
        "### Количество изначальных пропусков"
      ]
    },
    {
      "cell_type": "code",
      "metadata": {
        "source_hash": "e7a7c636",
        "execution_start": 1745325579416,
        "execution_millis": 1,
        "execution_context_id": "97b0769b-0061-424c-b558-cfb7d22a56a9",
        "cell_id": "33a2a01b2e3c4240bb5f687bb38bfedd",
        "deepnote_cell_type": "code",
        "id": "sK0W6tCQwlU6",
        "outputId": "5ad99deb-716a-47f6-f1ef-9677a17146c0"
      },
      "source": [
        "cols = data.columns\n",
        "for col in cols:\n",
        "  missing_count = pd.isna(data[col]).sum().item()\n",
        "  print(f'{col} - {missing_count} пропусков')"
      ],
      "execution_count": null,
      "outputs": [
        {
          "name": "stdout",
          "text": "user_id - 0 пропусков\nregion - 13 пропусков\ndevice - 13 пропусков\nchannel - 13 пропусков\nsession_start - 0 пропусков\nsession_end - 0 пропусков\nsessiondurationsec - 0 пропусков\nsession_date - 0 пропусков\nmonth - 0 пропусков\nday - 0 пропусков\nhour_of_day - 0 пропусков\norder_dt - 727 пропусков\nrevenue - 727 пропусков\npayment_type - 727 пропусков\npromo_code - 727 пропусков\n",
          "output_type": "stream"
        }
      ]
    },
    {
      "cell_type": "markdown",
      "metadata": {
        "is_collapsed": false,
        "formattedRanges": [],
        "deepnote_app_block_visible": false,
        "cell_id": "7039603e33e54eebabe39a3d5e5c2159",
        "deepnote_cell_type": "text-cell-h3",
        "id": "ExJjcH-2wlU6"
      },
      "source": [
        "### Исправление лексикографических ошибок"
      ]
    },
    {
      "cell_type": "code",
      "metadata": {
        "source_hash": "cc5d9ea9",
        "execution_start": 1745325579464,
        "execution_millis": 1,
        "execution_context_id": "97b0769b-0061-424c-b558-cfb7d22a56a9",
        "cell_id": "ef62cfcb86124c5799e795ddef856b1b",
        "deepnote_cell_type": "code",
        "id": "OItuEMU0wlVJ"
      },
      "source": [
        "data['region'] = data['region'].replace(['Frаnce', 'Frаncе', 'Franсe'], 'France')\n",
        "data['region'] = data['region'].replace('Unjted States', 'United States')\n",
        "data['region'] = data['region'].replace('UК', 'UK')\n",
        "data['region'] = data['region'].replace('germany', 'Germany')\n",
        "data['device'] = data['device'].replace('android', 'Android')\n",
        "data['channel'] = data['channel'].replace('контексная реклама', 'контекстная реклама')"
      ],
      "execution_count": null,
      "outputs": []
    },
    {
      "cell_type": "markdown",
      "metadata": {
        "is_collapsed": false,
        "formattedRanges": [],
        "deepnote_app_block_visible": false,
        "cell_id": "22594664ab0f46d487cc12522ac56b48",
        "deepnote_cell_type": "text-cell-h3",
        "id": "Dvg1tCZfwlVK"
      },
      "source": [
        "### Заполнение пропусков пользователей, которые уже заходили"
      ]
    },
    {
      "cell_type": "code",
      "metadata": {
        "source_hash": "78fb4ea3",
        "execution_start": 1745325579514,
        "execution_millis": 421,
        "execution_context_id": "97b0769b-0061-424c-b558-cfb7d22a56a9",
        "cell_id": "ce920fc942224a97a85de98d258869c6",
        "deepnote_cell_type": "code",
        "id": "jPTBI6BBwlVK"
      },
      "source": [
        "data['region'] = data.groupby('user_id')['region'].transform(lambda x: x.fillna(x.iloc[0]))\n",
        "data['device'] = data.groupby('user_id')['device'].transform(lambda x: x.fillna(x.iloc[0]))\n",
        "data['channel'] = data.groupby('user_id')['channel'].transform(lambda x: x.fillna(x.iloc[0]))"
      ],
      "execution_count": null,
      "outputs": []
    },
    {
      "cell_type": "markdown",
      "metadata": {
        "is_collapsed": false,
        "formattedRanges": [],
        "deepnote_app_block_visible": false,
        "cell_id": "e5a3fbd03c644e72936b19be0805aa70",
        "deepnote_cell_type": "text-cell-h3",
        "id": "rVWjGxEOwlVK"
      },
      "source": [
        "### Удаление идентичных дубликатов"
      ]
    },
    {
      "cell_type": "code",
      "metadata": {
        "source_hash": "94dd7af4",
        "execution_start": 1745325579994,
        "execution_millis": 1,
        "execution_context_id": "97b0769b-0061-424c-b558-cfb7d22a56a9",
        "cell_id": "d802aeabaf3145ffa710a769d3d764d1",
        "deepnote_cell_type": "code",
        "id": "DOMgwT3nwlVL",
        "outputId": "757818af-f447-4c25-fc42-20e2a6fe3303"
      },
      "source": [
        "data.drop_duplicates(keep='first', inplace=True)"
      ],
      "execution_count": null,
      "outputs": [
        {
          "output_type": "execute_result",
          "execution_count": 113,
          "data": {
            "text/plain": "(1009, 15)"
          },
          "metadata": {}
        }
      ]
    },
    {
      "cell_type": "markdown",
      "metadata": {
        "is_collapsed": false,
        "formattedRanges": [],
        "deepnote_app_block_visible": false,
        "cell_id": "d35535afb56a46869f85b161543f6ec8",
        "deepnote_cell_type": "text-cell-h3",
        "id": "K92M-A_pwlVL"
      },
      "source": [
        "### Удалили пользователя без данных"
      ]
    },
    {
      "cell_type": "markdown",
      "metadata": {
        "is_collapsed": false,
        "formattedRanges": [],
        "deepnote_app_block_visible": false,
        "cell_id": "b83ba1870e7a47208017651422a9fe0b",
        "deepnote_cell_type": "text-cell-h3",
        "id": "nXJSaan0wlVL"
      },
      "source": [
        "### Убрали странный промокод"
      ]
    },
    {
      "cell_type": "code",
      "metadata": {
        "source_hash": "51230aef",
        "execution_start": 1745325580044,
        "execution_millis": 1,
        "execution_context_id": "97b0769b-0061-424c-b558-cfb7d22a56a9",
        "cell_id": "378e2d35f5a24eb4b3c639c32a8b4f89",
        "deepnote_cell_type": "code",
        "id": "n5s5peTwwlVL"
      },
      "source": [
        "data = data.drop(data[data['user_id'] == 16254498222].index)"
      ],
      "execution_count": null,
      "outputs": []
    },
    {
      "cell_type": "code",
      "metadata": {
        "source_hash": "6b9cba51",
        "execution_start": 1745325580094,
        "execution_millis": 0,
        "execution_context_id": "97b0769b-0061-424c-b558-cfb7d22a56a9",
        "cell_id": "f6c4dc6698d246f0a2c6d6e6f52b6861",
        "deepnote_cell_type": "code",
        "id": "WDyJ5rn3wlVL"
      },
      "source": [
        "data['promo_code'] = data['promo_code'].apply(lambda x: 0 if 0 < x < 1 else x)\n",
        "data['sessiondurationsec'] = data['sessiondurationsec'].apply(lambda x: round(x))"
      ],
      "execution_count": null,
      "outputs": []
    },
    {
      "cell_type": "markdown",
      "metadata": {
        "is_collapsed": false,
        "formattedRanges": [],
        "deepnote_app_block_visible": false,
        "cell_id": "b80ccfce2be847e9a784077302838670",
        "deepnote_cell_type": "text-cell-h3",
        "id": "B-_8y3lVwlVL"
      },
      "source": [
        "### Перевод типа данных необходимых столбцов в datetime"
      ]
    },
    {
      "cell_type": "code",
      "metadata": {
        "source_hash": "b831496b",
        "execution_start": 1745325580154,
        "execution_millis": 0,
        "deepnote_table_state": {
          "sortBy": [],
          "filters": [],
          "pageSize": 25,
          "pageIndex": 0,
          "columnOrder": [
            "user_id",
            "region",
            "device",
            "channel",
            "session_start",
            "session_end",
            "sessiondurationsec",
            "session_date",
            "month",
            "day",
            "hour_of_day",
            "order_dt",
            "revenue",
            "payment_type",
            "promo_code"
          ],
          "hiddenColumnIds": [],
          "columnDisplayNames": [],
          "conditionalFilters": [],
          "cellFormattingRules": [],
          "wrappedTextColumnIds": []
        },
        "execution_context_id": "97b0769b-0061-424c-b558-cfb7d22a56a9",
        "deepnote_table_loading": false,
        "cell_id": "c57daf0976dd4c82ae81f70c29eb844a",
        "deepnote_cell_type": "code",
        "id": "SyerElVKwlVL"
      },
      "source": [
        "data['session_start'] = pd.to_datetime(data['session_start'])\n",
        "data['session_end'] = pd.to_datetime(data['session_end'])\n",
        "data['session_date'] = pd.to_datetime(data['session_date'])\n",
        "data['order_dt'] = pd.to_datetime(data['order_dt'])"
      ],
      "execution_count": null,
      "outputs": []
    },
    {
      "cell_type": "markdown",
      "metadata": {
        "is_collapsed": false,
        "formattedRanges": [],
        "deepnote_app_block_visible": false,
        "cell_id": "ff548eb94e59499c950d601aacf9064c",
        "deepnote_cell_type": "text-cell-h3",
        "id": "inmHhXOEwlVL"
      },
      "source": [
        "### Проанализировать выбросы и заменить их"
      ]
    },
    {
      "cell_type": "code",
      "metadata": {
        "source_hash": "3f91bba7",
        "execution_start": 1745325580214,
        "execution_millis": 0,
        "execution_context_id": "97b0769b-0061-424c-b558-cfb7d22a56a9",
        "cell_id": "a43de4259a4f4994b9314ff51800f3b2",
        "deepnote_cell_type": "code",
        "id": "Q7eqOSo9wlVL"
      },
      "source": [
        "lower_bound = data['revenue'].quantile(0.01)\n",
        "upper_bound = data['revenue'].quantile(0.98)\n",
        "m = data['revenue'].median()\n",
        "data.loc[(data['revenue'] < lower_bound) | (data['revenue'] > upper_bound), 'revenue'] = m"
      ],
      "execution_count": null,
      "outputs": []
    },
    {
      "cell_type": "markdown",
      "metadata": {
        "is_collapsed": false,
        "formattedRanges": [],
        "deepnote_app_block_visible": false,
        "cell_id": "e66f226965ba45a78f0685f77c2f02c8",
        "deepnote_cell_type": "text-cell-h3",
        "id": "AbTXezcJwlVM"
      },
      "source": [
        "### Весь ли период исследовать?"
      ]
    },
    {
      "cell_type": "code",
      "metadata": {
        "source_hash": "a9414d3a",
        "execution_start": 1745325580264,
        "execution_millis": 230,
        "execution_context_id": "97b0769b-0061-424c-b558-cfb7d22a56a9",
        "cell_id": "cf51eb2779a34f4982774f28af8f6939",
        "deepnote_cell_type": "code",
        "id": "mnY05MCmwlVM",
        "outputId": "32f04eb6-a05c-4b1c-b341-34cd69c63be2"
      },
      "source": [
        "df_plot = data.groupby('session_date')['revenue'].sum().reset_index()\n",
        "plt.figure(figsize=(12, 6))\n",
        "plt.plot(df_plot['session_date'], df_plot['revenue'], marker='o', linestyle='-', color='b')\n",
        "plt.title('Revenue Over Time', fontsize=14)\n",
        "plt.xlabel('Session Date', fontsize=12)\n",
        "plt.ylabel('Revenue', fontsize=12)\n",
        "plt.grid(True)\n",
        "plt.xticks(rotation=45)\n",
        "plt.tight_layout()\n",
        "plt.show()"
      ],
      "execution_count": null,
      "outputs": [
        {
          "data": {
            "text/plain": "<Figure size 1200x600 with 1 Axes>",
            "image/png": "[encoded data removed]"
          },
          "metadata": {
            "image/png": {
              "width": 1189,
              "height": 590
            }
          },
          "output_type": "display_data"
        }
      ]
    },
    {
      "cell_type": "markdown",
      "metadata": {
        "is_collapsed": false,
        "formattedRanges": [],
        "deepnote_app_block_visible": false,
        "cell_id": "b8382fa6c3b543f1be69d952f1d98d1c",
        "deepnote_cell_type": "text-cell-h3",
        "id": "C4dm5R8AwlVN"
      },
      "source": [
        "### Столбец итоговой суммы с промокодом"
      ]
    },
    {
      "cell_type": "code",
      "metadata": {
        "source_hash": "f9321af",
        "execution_start": 1745325580554,
        "execution_millis": 0,
        "execution_context_id": "97b0769b-0061-424c-b558-cfb7d22a56a9",
        "cell_id": "4104dae81b774e4eadc0d9f0d5cbb871",
        "deepnote_cell_type": "code",
        "id": "2V8f9rVuwlVN"
      },
      "source": [
        "data['revenue'] = data['revenue'].fillna(0)\n",
        "data['total_revenue'] = data.apply(\n",
        "    lambda row: row['revenue'] * 0.9 if row['promo_code'] == 1 else row['revenue'],\n",
        "    axis=1\n",
        ")\n",
        "data['total_revenue'] = data['total_revenue'].fillna(0)"
      ],
      "execution_count": null,
      "outputs": []
    },
    {
      "cell_type": "markdown",
      "metadata": {
        "is_collapsed": false,
        "formattedRanges": [],
        "deepnote_app_block_visible": false,
        "cell_id": "2d36b21c48654f538beb881b4ab249e9",
        "deepnote_cell_type": "text-cell-h3",
        "id": "9s8lUqwEwlVN"
      },
      "source": [
        "### Добавить столбец с указанием времени суток визита \"time_of_day\""
      ]
    },
    {
      "cell_type": "code",
      "metadata": {
        "source_hash": "a6444023",
        "execution_start": 1745325580604,
        "execution_millis": 0,
        "execution_context_id": "97b0769b-0061-424c-b558-cfb7d22a56a9",
        "cell_id": "2892236a624e4dfbad8b623fa66097cc",
        "deepnote_cell_type": "code",
        "id": "Sf6wmx-AwlVN"
      },
      "source": [
        "data['time_of_day'] = data['hour_of_day'].apply(\n",
        "    lambda x: 'утро' if (x >= 6) and (x < 10) else ('день' if (x >= 10) and (x < 17) else ('вечер' if (x >= 17) and (x < 22) else 'ночь'))\n",
        ")"
      ],
      "execution_count": null,
      "outputs": []
    },
    {
      "cell_type": "markdown",
      "metadata": {
        "is_collapsed": false,
        "formattedRanges": [],
        "deepnote_app_block_visible": false,
        "cell_id": "ef2667162d6b47b2acdbbf04096d1025",
        "deepnote_cell_type": "text-cell-h3",
        "id": "N-v7xrebwlVN"
      },
      "source": [
        "### Добавить столбец с указанием, является ли человек платящим \"payer\""
      ]
    },
    {
      "cell_type": "code",
      "metadata": {
        "source_hash": "7ae21f70",
        "execution_start": 1745325580655,
        "execution_millis": 2,
        "deepnote_table_state": {
          "sortBy": [],
          "filters": [],
          "pageSize": 10,
          "pageIndex": 1,
          "columnOrder": [
            "user_id",
            "region",
            "device",
            "channel",
            "session_start",
            "session_end",
            "sessiondurationsec",
            "session_date",
            "month",
            "day",
            "hour_of_day",
            "order_dt",
            "revenue",
            "payment_type",
            "promo_code",
            "total_revenue",
            "time_of_day",
            "payer"
          ],
          "hiddenColumnIds": [],
          "columnDisplayNames": [],
          "conditionalFilters": [],
          "cellFormattingRules": [],
          "wrappedTextColumnIds": []
        },
        "execution_context_id": "97b0769b-0061-424c-b558-cfb7d22a56a9",
        "deepnote_table_loading": false,
        "cell_id": "090f391d12354bd89a8484d3225e14ec",
        "deepnote_cell_type": "code",
        "id": "Z9mWPVwuwlVN",
        "outputId": "02466f43-8bf8-4035-fa8a-91734626ab1a"
      },
      "source": [
        "data['payer'] = data.apply(\n",
        "    lambda x: 1 if (x['total_revenue'] > 0) else 0, axis =1)\n",
        "data.head(20)"
      ],
      "execution_count": null,
      "outputs": [
        {
          "output_type": "execute_result",
          "execution_count": 121,
          "data": {
            "application/vnd.deepnote.dataframe.v3+json": {
              "column_count": 18,
              "row_count": 20,
              "columns": [
                {
                  "name": "user_id",
                  "dtype": "int64",
                  "stats": {
                    "unique_count": 20,
                    "nan_count": 0,
                    "min": "141158670001",
                    "max": "998513020664",
                    "histogram": [
                      {
                        "bin_start": 141158670001,
                        "bin_end": 226894105067.3,
                        "count": 2
                      },
                      {
                        "bin_start": 226894105067.3,
                        "bin_end": 312629540133.6,
                        "count": 4
                      },
                      {
                        "bin_start": 312629540133.6,
                        "bin_end": 398364975199.9,
                        "count": 2
                      },
                      {
                        "bin_start": 398364975199.9,
                        "bin_end": 484100410266.2,
                        "count": 1
                      },
                      {
                        "bin_start": 484100410266.2,
                        "bin_end": 569835845332.5,
                        "count": 2
                      },
                      {
                        "bin_start": 569835845332.5,
                        "bin_end": 655571280398.8,
                        "count": 2
                      },
                      {
                        "bin_start": 655571280398.8,
                        "bin_end": 741306715465.1,
                        "count": 1
                      },
                      {
                        "bin_start": 741306715465.1,
                        "bin_end": 827042150531.4,
                        "count": 2
                      },
                      {
                        "bin_start": 827042150531.4,
                        "bin_end": 912777585597.7001,
                        "count": 2
                      },
                      {
                        "bin_start": 912777585597.7001,
                        "bin_end": 998513020664,
                        "count": 2
                      }
                    ]
                  }
                },
                {
                  "name": "region",
                  "dtype": "object",
                  "stats": {
                    "unique_count": 4,
                    "nan_count": 0,
                    "categories": [
                      {
                        "name": "United States",
                        "count": 15
                      },
                      {
                        "name": "France",
                        "count": 2
                      },
                      {
                        "name": "2 others",
                        "count": 3
                      }
                    ]
                  }
                },
                {
                  "name": "device",
                  "dtype": "object",
                  "stats": {
                    "unique_count": 4,
                    "nan_count": 0,
                    "categories": [
                      {
                        "name": "Mac",
                        "count": 6
                      },
                      {
                        "name": "iPhone",
                        "count": 5
                      },
                      {
                        "name": "2 others",
                        "count": 9
                      }
                    ]
                  }
                },
                {
                  "name": "channel",
                  "dtype": "object",
                  "stats": {
                    "unique_count": 4,
                    "nan_count": 0,
                    "categories": [
                      {
                        "name": "социальные сети",
                        "count": 10
                      },
                      {
                        "name": "organic",
                        "count": 7
                      },
                      {
                        "name": "2 others",
                        "count": 3
                      }
                    ]
                  }
                },
                {
                  "name": "session_start",
                  "dtype": "datetime64[ns]",
                  "stats": {
                    "unique_count": 20,
                    "nan_count": 0,
                    "min": "2019-05-01 00:06:40",
                    "max": "2019-05-05 21:04:51",
                    "histogram": [
                      {
                        "bin_start": 1556669200000000000,
                        "bin_end": 1556711309100000000,
                        "count": 3
                      },
                      {
                        "bin_start": 1556711309100000000,
                        "bin_end": 1556753418200000000,
                        "count": 1
                      },
                      {
                        "bin_start": 1556753418200000000,
                        "bin_end": 1556795527300000000,
                        "count": 2
                      },
                      {
                        "bin_start": 1556795527300000000,
                        "bin_end": 1556837636400000000,
                        "count": 2
                      },
                      {
                        "bin_start": 1556837636400000000,
                        "bin_end": 1556879745500000000,
                        "count": 2
                      },
                      {
                        "bin_start": 1556879745500000000,
                        "bin_end": 1556921854600000000,
                        "count": 3
                      },
                      {
                        "bin_start": 1556921854600000000,
                        "bin_end": 1556963963700000000,
                        "count": 3
                      },
                      {
                        "bin_start": 1556963963700000000,
                        "bin_end": 1557006072800000000,
                        "count": 1
                      },
                      {
                        "bin_start": 1557006072800000000,
                        "bin_end": 1557048181900000000,
                        "count": 1
                      },
                      {
                        "bin_start": 1557048181900000000,
                        "bin_end": 1557090291000000000,
                        "count": 2
                      }
                    ]
                  }
                },
                {
                  "name": "session_end",
                  "dtype": "datetime64[ns]",
                  "stats": {
                    "unique_count": 20,
                    "nan_count": 0,
                    "min": "2019-05-01 00:07:06",
                    "max": "2019-05-05 21:19:49",
                    "histogram": [
                      {
                        "bin_start": 1556669226000000000,
                        "bin_end": 1556711422300000000,
                        "count": 3
                      },
                      {
                        "bin_start": 1556711422300000000,
                        "bin_end": 1556753618600000000,
                        "count": 1
                      },
                      {
                        "bin_start": 1556753618600000000,
                        "bin_end": 1556795814900000000,
                        "count": 2
                      },
                      {
                        "bin_start": 1556795814900000000,
                        "bin_end": 1556838011200000000,
                        "count": 2
                      },
                      {
                        "bin_start": 1556838011200000000,
                        "bin_end": 1556880207500000000,
                        "count": 2
                      },
                      {
                        "bin_start": 1556880207500000000,
                        "bin_end": 1556922403800000000,
                        "count": 3
                      },
                      {
                        "bin_start": 1556922403800000000,
                        "bin_end": 1556964600100000000,
                        "count": 3
                      },
                      {
                        "bin_start": 1556964600100000000,
                        "bin_end": 1557006796400000000,
                        "count": 1
                      },
                      {
                        "bin_start": 1557006796400000000,
                        "bin_end": 1557048992700000000,
                        "count": 1
                      },
                      {
                        "bin_start": 1557048992700000000,
                        "bin_end": 1557091189000000000,
                        "count": 2
                      }
                    ]
                  }
                },
                {
                  "name": "sessiondurationsec",
                  "dtype": "int64",
                  "stats": {
                    "unique_count": 20,
                    "nan_count": 0,
                    "min": "26",
                    "max": "3401",
                    "histogram": [
                      {
                        "bin_start": 26,
                        "bin_end": 363.5,
                        "count": 5
                      },
                      {
                        "bin_start": 363.5,
                        "bin_end": 701,
                        "count": 1
                      },
                      {
                        "bin_start": 701,
                        "bin_end": 1038.5,
                        "count": 4
                      },
                      {
                        "bin_start": 1038.5,
                        "bin_end": 1376,
                        "count": 1
                      },
                      {
                        "bin_start": 1376,
                        "bin_end": 1713.5,
                        "count": 3
                      },
                      {
                        "bin_start": 1713.5,
                        "bin_end": 2051,
                        "count": 2
                      },
                      {
                        "bin_start": 2051,
                        "bin_end": 2388.5,
                        "count": 0
                      },
                      {
                        "bin_start": 2388.5,
                        "bin_end": 2726,
                        "count": 1
                      },
                      {
                        "bin_start": 2726,
                        "bin_end": 3063.5,
                        "count": 2
                      },
                      {
                        "bin_start": 3063.5,
                        "bin_end": 3401,
                        "count": 1
                      }
                    ]
                  }
                },
                {
                  "name": "session_date",
                  "dtype": "datetime64[ns]",
                  "stats": {
                    "unique_count": 5,
                    "nan_count": 0,
                    "min": "2019-05-01 00:00:00",
                    "max": "2019-05-05 00:00:00",
                    "histogram": [
                      {
                        "bin_start": 1556668800000000000,
                        "bin_end": 1556703360000000000,
                        "count": 4
                      },
                      {
                        "bin_start": 1556703360000000000,
                        "bin_end": 1556737920000000000,
                        "count": 0
                      },
                      {
                        "bin_start": 1556737920000000000,
                        "bin_end": 1556772480000000000,
                        "count": 4
                      },
                      {
                        "bin_start": 1556772480000000000,
                        "bin_end": 1556807040000000000,
                        "count": 0
                      },
                      {
                        "bin_start": 1556807040000000000,
                        "bin_end": 1556841600000000000,
                        "count": 0
                      },
                      {
                        "bin_start": 1556841600000000000,
                        "bin_end": 1556876160000000000,
                        "count": 6
                      },
                      {
                        "bin_start": 1556876160000000000,
                        "bin_end": 1556910720000000000,
                        "count": 0
                      },
                      {
                        "bin_start": 1556910720000000000,
                        "bin_end": 1556945280000000000,
                        "count": 3
                      },
                      {
                        "bin_start": 1556945280000000000,
                        "bin_end": 1556979840000000000,
                        "count": 0
                      },
                      {
                        "bin_start": 1556979840000000000,
                        "bin_end": 1557014400000000000,
                        "count": 3
                      }
                    ]
                  }
                },
                {
                  "name": "month",
                  "dtype": "int64",
                  "stats": {
                    "unique_count": 1,
                    "nan_count": 0,
                    "min": "5",
                    "max": "5",
                    "histogram": [
                      {
                        "bin_start": 4.5,
                        "bin_end": 4.6,
                        "count": 0
                      },
                      {
                        "bin_start": 4.6,
                        "bin_end": 4.7,
                        "count": 0
                      },
                      {
                        "bin_start": 4.7,
                        "bin_end": 4.8,
                        "count": 0
                      },
                      {
                        "bin_start": 4.8,
                        "bin_end": 4.9,
                        "count": 0
                      },
                      {
                        "bin_start": 4.9,
                        "bin_end": 5,
                        "count": 0
                      },
                      {
                        "bin_start": 5,
                        "bin_end": 5.1,
                        "count": 20
                      },
                      {
                        "bin_start": 5.1,
                        "bin_end": 5.2,
                        "count": 0
                      },
                      {
                        "bin_start": 5.2,
                        "bin_end": 5.3,
                        "count": 0
                      },
                      {
                        "bin_start": 5.3,
                        "bin_end": 5.4,
                        "count": 0
                      },
                      {
                        "bin_start": 5.4,
                        "bin_end": 5.5,
                        "count": 0
                      }
                    ]
                  }
                },
                {
                  "name": "day",
                  "dtype": "int64",
                  "stats": {
                    "unique_count": 5,
                    "nan_count": 0,
                    "min": "3",
                    "max": "7",
                    "histogram": [
                      {
                        "bin_start": 3,
                        "bin_end": 3.4,
                        "count": 4
                      },
                      {
                        "bin_start": 3.4,
                        "bin_end": 3.8,
                        "count": 0
                      },
                      {
                        "bin_start": 3.8,
                        "bin_end": 4.2,
                        "count": 4
                      },
                      {
                        "bin_start": 4.2,
                        "bin_end": 4.6,
                        "count": 0
                      },
                      {
                        "bin_start": 4.6,
                        "bin_end": 5,
                        "count": 0
                      },
                      {
                        "bin_start": 5,
                        "bin_end": 5.4,
                        "count": 6
                      },
                      {
                        "bin_start": 5.4,
                        "bin_end": 5.800000000000001,
                        "count": 0
                      },
                      {
                        "bin_start": 5.800000000000001,
                        "bin_end": 6.2,
                        "count": 3
                      },
                      {
                        "bin_start": 6.2,
                        "bin_end": 6.6,
                        "count": 0
                      },
                      {
                        "bin_start": 6.6,
                        "bin_end": 7,
                        "count": 3
                      }
                    ]
                  }
                },
                {
                  "name": "hour_of_day",
                  "dtype": "int64",
                  "stats": {
                    "unique_count": 15,
                    "nan_count": 0,
                    "min": "0",
                    "max": "22",
                    "histogram": [
                      {
                        "bin_start": 0,
                        "bin_end": 2.2,
                        "count": 1
                      },
                      {
                        "bin_start": 2.2,
                        "bin_end": 4.4,
                        "count": 2
                      },
                      {
                        "bin_start": 4.4,
                        "bin_end": 6.6000000000000005,
                        "count": 0
                      },
                      {
                        "bin_start": 6.6000000000000005,
                        "bin_end": 8.8,
                        "count": 4
                      },
                      {
                        "bin_start": 8.8,
                        "bin_end": 11,
                        "count": 3
                      },
                      {
                        "bin_start": 11,
                        "bin_end": 13.200000000000001,
                        "count": 1
                      },
                      {
                        "bin_start": 13.200000000000001,
                        "bin_end": 15.400000000000002,
                        "count": 1
                      },
                      {
                        "bin_start": 15.400000000000002,
                        "bin_end": 17.6,
                        "count": 2
                      },
                      {
                        "bin_start": 17.6,
                        "bin_end": 19.8,
                        "count": 3
                      },
                      {
                        "bin_start": 19.8,
                        "bin_end": 22,
                        "count": 3
                      }
                    ]
                  }
                },
                {
                  "name": "order_dt",
                  "dtype": "datetime64[ns]",
                  "stats": {
                    "unique_count": 1,
                    "nan_count": 19,
                    "min": "2019-05-01 00:06:40",
                    "max": "2019-05-01 00:06:40",
                    "histogram": null
                  }
                },
                {
                  "name": "revenue",
                  "dtype": "float64",
                  "stats": {
                    "unique_count": 2,
                    "nan_count": 0,
                    "min": "0.0",
                    "max": "9999.0",
                    "histogram": [
                      {
                        "bin_start": 0,
                        "bin_end": 999.9,
                        "count": 19
                      },
                      {
                        "bin_start": 999.9,
                        "bin_end": 1999.8,
                        "count": 0
                      },
                      {
                        "bin_start": 1999.8,
                        "bin_end": 2999.7,
                        "count": 0
                      },
                      {
                        "bin_start": 2999.7,
                        "bin_end": 3999.6,
                        "count": 0
                      },
                      {
                        "bin_start": 3999.6,
                        "bin_end": 4999.5,
                        "count": 0
                      },
                      {
                        "bin_start": 4999.5,
                        "bin_end": 5999.4,
                        "count": 0
                      },
                      {
                        "bin_start": 5999.4,
                        "bin_end": 6999.3,
                        "count": 0
                      },
                      {
                        "bin_start": 6999.3,
                        "bin_end": 7999.2,
                        "count": 0
                      },
                      {
                        "bin_start": 7999.2,
                        "bin_end": 8999.1,
                        "count": 0
                      },
                      {
                        "bin_start": 8999.1,
                        "bin_end": 9999,
                        "count": 1
                      }
                    ]
                  }
                },
                {
                  "name": "payment_type",
                  "dtype": "object",
                  "stats": {
                    "unique_count": 1,
                    "nan_count": 19,
                    "categories": [
                      {
                        "name": "Mobile payments",
                        "count": 1
                      },
                      {
                        "name": "Missing",
                        "count": 19
                      }
                    ]
                  }
                },
                {
                  "name": "promo_code",
                  "dtype": "float64",
                  "stats": {
                    "unique_count": 1,
                    "nan_count": 19,
                    "min": "0.0",
                    "max": "0.0",
                    "histogram": [
                      {
                        "bin_start": -0.5,
                        "bin_end": -0.4,
                        "count": 0
                      },
                      {
                        "bin_start": -0.4,
                        "bin_end": -0.3,
                        "count": 0
                      },
                      {
                        "bin_start": -0.3,
                        "bin_end": -0.19999999999999996,
                        "count": 0
                      },
                      {
                        "bin_start": -0.19999999999999996,
                        "bin_end": -0.09999999999999998,
                        "count": 0
                      },
                      {
                        "bin_start": -0.09999999999999998,
                        "bin_end": 0,
                        "count": 0
                      },
                      {
                        "bin_start": 0,
                        "bin_end": 0.10000000000000009,
                        "count": 1
                      },
                      {
                        "bin_start": 0.10000000000000009,
                        "bin_end": 0.20000000000000007,
                        "count": 0
                      },
                      {
                        "bin_start": 0.20000000000000007,
                        "bin_end": 0.30000000000000004,
                        "count": 0
                      },
                      {
                        "bin_start": 0.30000000000000004,
                        "bin_end": 0.4,
                        "count": 0
                      },
                      {
                        "bin_start": 0.4,
                        "bin_end": 0.5,
                        "count": 0
                      }
                    ]
                  }
                },
                {
                  "name": "total_revenue",
                  "dtype": "float64",
                  "stats": {
                    "unique_count": 2,
                    "nan_count": 0,
                    "min": "0.0",
                    "max": "9999.0",
                    "histogram": [
                      {
                        "bin_start": 0,
                        "bin_end": 999.9,
                        "count": 19
                      },
                      {
                        "bin_start": 999.9,
                        "bin_end": 1999.8,
                        "count": 0
                      },
                      {
                        "bin_start": 1999.8,
                        "bin_end": 2999.7,
                        "count": 0
                      },
                      {
                        "bin_start": 2999.7,
                        "bin_end": 3999.6,
                        "count": 0
                      },
                      {
                        "bin_start": 3999.6,
                        "bin_end": 4999.5,
                        "count": 0
                      },
                      {
                        "bin_start": 4999.5,
                        "bin_end": 5999.4,
                        "count": 0
                      },
                      {
                        "bin_start": 5999.4,
                        "bin_end": 6999.3,
                        "count": 0
                      },
                      {
                        "bin_start": 6999.3,
                        "bin_end": 7999.2,
                        "count": 0
                      },
                      {
                        "bin_start": 7999.2,
                        "bin_end": 8999.1,
                        "count": 0
                      },
                      {
                        "bin_start": 8999.1,
                        "bin_end": 9999,
                        "count": 1
                      }
                    ]
                  }
                },
                {
                  "name": "time_of_day",
                  "dtype": "object",
                  "stats": {
                    "unique_count": 4,
                    "nan_count": 0,
                    "categories": [
                      {
                        "name": "утро",
                        "count": 6
                      },
                      {
                        "name": "вечер",
                        "count": 5
                      },
                      {
                        "name": "2 others",
                        "count": 9
                      }
                    ]
                  }
                },
                {
                  "name": "payer",
                  "dtype": "int64",
                  "stats": {
                    "unique_count": 2,
                    "nan_count": 0,
                    "min": "0",
                    "max": "1",
                    "histogram": [
                      {
                        "bin_start": 0,
                        "bin_end": 0.1,
                        "count": 19
                      },
                      {
                        "bin_start": 0.1,
                        "bin_end": 0.2,
                        "count": 0
                      },
                      {
                        "bin_start": 0.2,
                        "bin_end": 0.30000000000000004,
                        "count": 0
                      },
                      {
                        "bin_start": 0.30000000000000004,
                        "bin_end": 0.4,
                        "count": 0
                      },
                      {
                        "bin_start": 0.4,
                        "bin_end": 0.5,
                        "count": 0
                      },
                      {
                        "bin_start": 0.5,
                        "bin_end": 0.6000000000000001,
                        "count": 0
                      },
                      {
                        "bin_start": 0.6000000000000001,
                        "bin_end": 0.7000000000000001,
                        "count": 0
                      },
                      {
                        "bin_start": 0.7000000000000001,
                        "bin_end": 0.8,
                        "count": 0
                      },
                      {
                        "bin_start": 0.8,
                        "bin_end": 0.9,
                        "count": 0
                      },
                      {
                        "bin_start": 0.9,
                        "bin_end": 1,
                        "count": 1
                      }
                    ]
                  }
                },
                {
                  "name": "_deepnote_index_column",
                  "dtype": "int64"
                }
              ],
              "rows": [
                {
                  "user_id": 646967194055,
                  "region": "Germany",
                  "device": "PC",
                  "channel": "organic",
                  "session_start": "2019-05-03 10:48:10",
                  "session_end": "2019-05-03 11:12:32",
                  "sessiondurationsec": 1462,
                  "session_date": "2019-05-03 00:00:00",
                  "month": 5,
                  "day": 5,
                  "hour_of_day": 11,
                  "order_dt": "NaT",
                  "revenue": 0,
                  "payment_type": "nan",
                  "promo_code": "nan",
                  "total_revenue": 0,
                  "time_of_day": "день",
                  "payer": 0,
                  "_deepnote_index_column": 10
                },
                {
                  "user_id": 690688816702,
                  "region": "France",
                  "device": "PC",
                  "channel": "organic",
                  "session_start": "2019-05-03 07:58:24",
                  "session_end": "2019-05-03 08:15:40",
                  "sessiondurationsec": 1036,
                  "session_date": "2019-05-03 00:00:00",
                  "month": 5,
                  "day": 5,
                  "hour_of_day": 8,
                  "order_dt": "NaT",
                  "revenue": 0,
                  "payment_type": "nan",
                  "promo_code": "nan",
                  "total_revenue": 0,
                  "time_of_day": "утро",
                  "payer": 0,
                  "_deepnote_index_column": 11
                },
                {
                  "user_id": 819430452750,
                  "region": "UK",
                  "device": "PC",
                  "channel": "organic",
                  "session_start": "2019-05-03 09:28:23",
                  "session_end": "2019-05-03 09:41:51",
                  "sessiondurationsec": 808,
                  "session_date": "2019-05-03 00:00:00",
                  "month": 5,
                  "day": 5,
                  "hour_of_day": 9,
                  "order_dt": "NaT",
                  "revenue": 0,
                  "payment_type": "nan",
                  "promo_code": "nan",
                  "total_revenue": 0,
                  "time_of_day": "утро",
                  "payer": 0,
                  "_deepnote_index_column": 12
                },
                {
                  "user_id": 841208777989,
                  "region": "United States",
                  "device": "Mac",
                  "channel": "социальные сети",
                  "session_start": "2019-05-03 22:19:03",
                  "session_end": "2019-05-03 22:59:53",
                  "sessiondurationsec": 2450,
                  "session_date": "2019-05-03 00:00:00",
                  "month": 5,
                  "day": 5,
                  "hour_of_day": 22,
                  "order_dt": "NaT",
                  "revenue": 0,
                  "payment_type": "nan",
                  "promo_code": "nan",
                  "total_revenue": 0,
                  "time_of_day": "ночь",
                  "payer": 0,
                  "_deepnote_index_column": 13
                },
                {
                  "user_id": 141158670001,
                  "region": "Germany",
                  "device": "Android",
                  "channel": "контекстная реклама",
                  "session_start": "2019-05-04 07:33:33",
                  "session_end": "2019-05-04 07:54:23",
                  "sessiondurationsec": 1250,
                  "session_date": "2019-05-04 00:00:00",
                  "month": 5,
                  "day": 6,
                  "hour_of_day": 7,
                  "order_dt": "NaT",
                  "revenue": 0,
                  "payment_type": "nan",
                  "promo_code": "nan",
                  "total_revenue": 0,
                  "time_of_day": "утро",
                  "payer": 0,
                  "_deepnote_index_column": 14
                },
                {
                  "user_id": 275047061155,
                  "region": "United States",
                  "device": "Mac",
                  "channel": "organic",
                  "session_start": "2019-05-04 19:02:24",
                  "session_end": "2019-05-04 19:36:31",
                  "sessiondurationsec": 2047,
                  "session_date": "2019-05-04 00:00:00",
                  "month": 5,
                  "day": 6,
                  "hour_of_day": 19,
                  "order_dt": "NaT",
                  "revenue": 0,
                  "payment_type": "nan",
                  "promo_code": "nan",
                  "total_revenue": 0,
                  "time_of_day": "вечер",
                  "payer": 0,
                  "_deepnote_index_column": 15
                },
                {
                  "user_id": 375412209113,
                  "region": "United States",
                  "device": "iPhone",
                  "channel": "organic",
                  "session_start": "2019-05-04 08:37:20",
                  "session_end": "2019-05-04 09:34:01",
                  "sessiondurationsec": 3401,
                  "session_date": "2019-05-04 00:00:00",
                  "month": 5,
                  "day": 6,
                  "hour_of_day": 9,
                  "order_dt": "NaT",
                  "revenue": 0,
                  "payment_type": "nan",
                  "promo_code": "nan",
                  "total_revenue": 0,
                  "time_of_day": "утро",
                  "payer": 0,
                  "_deepnote_index_column": 16
                },
                {
                  "user_id": 247341796763,
                  "region": "United States",
                  "device": "Android",
                  "channel": "социальные сети",
                  "session_start": "2019-05-05 16:34:52",
                  "session_end": "2019-05-05 16:41:52",
                  "sessiondurationsec": 420,
                  "session_date": "2019-05-05 00:00:00",
                  "month": 5,
                  "day": 7,
                  "hour_of_day": 16,
                  "order_dt": "NaT",
                  "revenue": 0,
                  "payment_type": "nan",
                  "promo_code": "nan",
                  "total_revenue": 0,
                  "time_of_day": "день",
                  "payer": 0,
                  "_deepnote_index_column": 17
                },
                {
                  "user_id": 497724697381,
                  "region": "United States",
                  "device": "Android",
                  "channel": "социальные сети",
                  "session_start": "2019-05-05 21:04:51",
                  "session_end": "2019-05-05 21:19:49",
                  "sessiondurationsec": 898,
                  "session_date": "2019-05-05 00:00:00",
                  "month": 5,
                  "day": 7,
                  "hour_of_day": 21,
                  "order_dt": "NaT",
                  "revenue": 0,
                  "payment_type": "nan",
                  "promo_code": "nan",
                  "total_revenue": 0,
                  "time_of_day": "вечер",
                  "payer": 0,
                  "_deepnote_index_column": 18
                },
                {
                  "user_id": 921538146366,
                  "region": "United States",
                  "device": "Mac",
                  "channel": "organic",
                  "session_start": "2019-05-05 02:19:53",
                  "session_end": "2019-05-05 03:07:46",
                  "sessiondurationsec": 2873,
                  "session_date": "2019-05-05 00:00:00",
                  "month": 5,
                  "day": 7,
                  "hour_of_day": 3,
                  "order_dt": "NaT",
                  "revenue": 0,
                  "payment_type": "nan",
                  "promo_code": "nan",
                  "total_revenue": 0,
                  "time_of_day": "ночь",
                  "payer": 0,
                  "_deepnote_index_column": 19
                }
              ],
              "type": "dataframe"
            },
            "text/plain": "         user_id         region   device              channel  \\\n0   529697267522  United States   iPhone      социальные сети   \n1   601292388085  United States       PC              organic   \n2   852898876338  United States      Mac      социальные сети   \n3   998513020664  United States   iPhone      социальные сети   \n4   240702200943  United States      Mac      социальные сети   \n5   271758921583  United States   iPhone      социальные сети   \n6   425357155257  United States  Android      социальные сети   \n7   768721432035         France      Mac   реклама у блогеров   \n8   177410811849  United States  Android      социальные сети   \n9   337713702816  United States   iPhone   реклама у блогеров   \n10  646967194055        Germany       PC              organic   \n11  690688816702         France       PC              organic   \n12  819430452750             UK       PC              organic   \n13  841208777989  United States      Mac      социальные сети   \n14  141158670001        Germany  Android  контекстная реклама   \n15  275047061155  United States      Mac              organic   \n16  375412209113  United States   iPhone              organic   \n17  247341796763  United States  Android      социальные сети   \n18  497724697381  United States  Android      социальные сети   \n19  921538146366  United States      Mac              organic   \n\n         session_start         session_end  sessiondurationsec session_date  \\\n0  2019-05-01 00:06:40 2019-05-01 00:07:06                  26   2019-05-01   \n1  2019-05-01 06:56:16 2019-05-01 07:09:18                 782   2019-05-01   \n2  2019-05-01 04:30:45 2019-05-01 04:34:56                 251   2019-05-01   \n3  2019-05-01 18:53:42 2019-05-01 18:57:35                 233   2019-05-01   \n4  2019-05-02 14:04:32 2019-05-02 14:09:51                 319   2019-05-02   \n5  2019-05-02 08:40:35 2019-05-02 08:41:15                  40   2019-05-02   \n6  2019-05-02 16:32:29 2019-05-02 16:55:30                1381   2019-05-02   \n7  2019-05-02 10:21:30 2019-05-02 10:51:54                1824   2019-05-02   \n8  2019-05-03 18:43:49 2019-05-03 19:30:52                2823   2019-05-03   \n9  2019-05-03 19:48:35 2019-05-03 20:16:10                1655   2019-05-03   \n10 2019-05-03 10:48:10 2019-05-03 11:12:32                1462   2019-05-03   \n11 2019-05-03 07:58:24 2019-05-03 08:15:40                1036   2019-05-03   \n12 2019-05-03 09:28:23 2019-05-03 09:41:51                 808   2019-05-03   \n13 2019-05-03 22:19:03 2019-05-03 22:59:53                2450   2019-05-03   \n14 2019-05-04 07:33:33 2019-05-04 07:54:23                1250   2019-05-04   \n15 2019-05-04 19:02:24 2019-05-04 19:36:31                2047   2019-05-04   \n16 2019-05-04 08:37:20 2019-05-04 09:34:01                3401   2019-05-04   \n17 2019-05-05 16:34:52 2019-05-05 16:41:52                 420   2019-05-05   \n18 2019-05-05 21:04:51 2019-05-05 21:19:49                 898   2019-05-05   \n19 2019-05-05 02:19:53 2019-05-05 03:07:46                2873   2019-05-05   \n\n    month  day  hour_of_day            order_dt  revenue     payment_type  \\\n0       5    3            0 2019-05-01 00:06:40   9999.0  Mobile payments   \n1       5    3            7                 NaT      0.0              NaN   \n2       5    3            4                 NaT      0.0              NaN   \n3       5    3           18                 NaT      0.0              NaN   \n4       5    4           14                 NaT      0.0              NaN   \n5       5    4            8                 NaT      0.0              NaN   \n6       5    4           16                 NaT      0.0              NaN   \n7       5    4           10                 NaT      0.0              NaN   \n8       5    5           19                 NaT      0.0              NaN   \n9       5    5           20                 NaT      0.0              NaN   \n10      5    5           11                 NaT      0.0              NaN   \n11      5    5            8                 NaT      0.0              NaN   \n12      5    5            9                 NaT      0.0              NaN   \n13      5    5           22                 NaT      0.0              NaN   \n14      5    6            7                 NaT      0.0              NaN   \n15      5    6           19                 NaT      0.0              NaN   \n16      5    6            9                 NaT      0.0              NaN   \n17      5    7           16                 NaT      0.0              NaN   \n18      5    7           21                 NaT      0.0              NaN   \n19      5    7            3                 NaT      0.0              NaN   \n\n    promo_code  total_revenue time_of_day  payer  \n0          0.0         9999.0        ночь      1  \n1          NaN            0.0        утро      0  \n2          NaN            0.0        ночь      0  \n3          NaN            0.0       вечер      0  \n4          NaN            0.0        день      0  \n5          NaN            0.0        утро      0  \n6          NaN            0.0        день      0  \n7          NaN            0.0        день      0  \n8          NaN            0.0       вечер      0  \n9          NaN            0.0       вечер      0  \n10         NaN            0.0        день      0  \n11         NaN            0.0        утро      0  \n12         NaN            0.0        утро      0  \n13         NaN            0.0        ночь      0  \n14         NaN            0.0        утро      0  \n15         NaN            0.0       вечер      0  \n16         NaN            0.0        утро      0  \n17         NaN            0.0        день      0  \n18         NaN            0.0       вечер      0  \n19         NaN            0.0        ночь      0  ",
            "text/html": "<div>\n<style scoped>\n    .dataframe tbody tr th:only-of-type {\n        vertical-align: middle;\n    }\n\n    .dataframe tbody tr th {\n        vertical-align: top;\n    }\n\n    .dataframe thead th {\n        text-align: right;\n    }\n</style>\n<table border=\"1\" class=\"dataframe\">\n  <thead>\n    <tr style=\"text-align: right;\">\n      <th></th>\n      <th>user_id</th>\n      <th>region</th>\n      <th>device</th>\n      <th>channel</th>\n      <th>session_start</th>\n      <th>session_end</th>\n      <th>sessiondurationsec</th>\n      <th>session_date</th>\n      <th>month</th>\n      <th>day</th>\n      <th>hour_of_day</th>\n      <th>order_dt</th>\n      <th>revenue</th>\n      <th>payment_type</th>\n      <th>promo_code</th>\n      <th>total_revenue</th>\n      <th>time_of_day</th>\n      <th>payer</th>\n    </tr>\n  </thead>\n  <tbody>\n    <tr>\n      <th>0</th>\n      <td>529697267522</td>\n      <td>United States</td>\n      <td>iPhone</td>\n      <td>социальные сети</td>\n      <td>2019-05-01 00:06:40</td>\n      <td>2019-05-01 00:07:06</td>\n      <td>26</td>\n      <td>2019-05-01</td>\n      <td>5</td>\n      <td>3</td>\n      <td>0</td>\n      <td>2019-05-01 00:06:40</td>\n      <td>9999.0</td>\n      <td>Mobile payments</td>\n      <td>0.0</td>\n      <td>9999.0</td>\n      <td>ночь</td>\n      <td>1</td>\n    </tr>\n    <tr>\n      <th>1</th>\n      <td>601292388085</td>\n      <td>United States</td>\n      <td>PC</td>\n      <td>organic</td>\n      <td>2019-05-01 06:56:16</td>\n      <td>2019-05-01 07:09:18</td>\n      <td>782</td>\n      <td>2019-05-01</td>\n      <td>5</td>\n      <td>3</td>\n      <td>7</td>\n      <td>NaT</td>\n      <td>0.0</td>\n      <td>NaN</td>\n      <td>NaN</td>\n      <td>0.0</td>\n      <td>утро</td>\n      <td>0</td>\n    </tr>\n    <tr>\n      <th>2</th>\n      <td>852898876338</td>\n      <td>United States</td>\n      <td>Mac</td>\n      <td>социальные сети</td>\n      <td>2019-05-01 04:30:45</td>\n      <td>2019-05-01 04:34:56</td>\n      <td>251</td>\n      <td>2019-05-01</td>\n      <td>5</td>\n      <td>3</td>\n      <td>4</td>\n      <td>NaT</td>\n      <td>0.0</td>\n      <td>NaN</td>\n      <td>NaN</td>\n      <td>0.0</td>\n      <td>ночь</td>\n      <td>0</td>\n    </tr>\n    <tr>\n      <th>3</th>\n      <td>998513020664</td>\n      <td>United States</td>\n      <td>iPhone</td>\n      <td>социальные сети</td>\n      <td>2019-05-01 18:53:42</td>\n      <td>2019-05-01 18:57:35</td>\n      <td>233</td>\n      <td>2019-05-01</td>\n      <td>5</td>\n      <td>3</td>\n      <td>18</td>\n      <td>NaT</td>\n      <td>0.0</td>\n      <td>NaN</td>\n      <td>NaN</td>\n      <td>0.0</td>\n      <td>вечер</td>\n      <td>0</td>\n    </tr>\n    <tr>\n      <th>4</th>\n      <td>240702200943</td>\n      <td>United States</td>\n      <td>Mac</td>\n      <td>социальные сети</td>\n      <td>2019-05-02 14:04:32</td>\n      <td>2019-05-02 14:09:51</td>\n      <td>319</td>\n      <td>2019-05-02</td>\n      <td>5</td>\n      <td>4</td>\n      <td>14</td>\n      <td>NaT</td>\n      <td>0.0</td>\n      <td>NaN</td>\n      <td>NaN</td>\n      <td>0.0</td>\n      <td>день</td>\n      <td>0</td>\n    </tr>\n    <tr>\n      <th>5</th>\n      <td>271758921583</td>\n      <td>United States</td>\n      <td>iPhone</td>\n      <td>социальные сети</td>\n      <td>2019-05-02 08:40:35</td>\n      <td>2019-05-02 08:41:15</td>\n      <td>40</td>\n      <td>2019-05-02</td>\n      <td>5</td>\n      <td>4</td>\n      <td>8</td>\n      <td>NaT</td>\n      <td>0.0</td>\n      <td>NaN</td>\n      <td>NaN</td>\n      <td>0.0</td>\n      <td>утро</td>\n      <td>0</td>\n    </tr>\n    <tr>\n      <th>6</th>\n      <td>425357155257</td>\n      <td>United States</td>\n      <td>Android</td>\n      <td>социальные сети</td>\n      <td>2019-05-02 16:32:29</td>\n      <td>2019-05-02 16:55:30</td>\n      <td>1381</td>\n      <td>2019-05-02</td>\n      <td>5</td>\n      <td>4</td>\n      <td>16</td>\n      <td>NaT</td>\n      <td>0.0</td>\n      <td>NaN</td>\n      <td>NaN</td>\n      <td>0.0</td>\n      <td>день</td>\n      <td>0</td>\n    </tr>\n    <tr>\n      <th>7</th>\n      <td>768721432035</td>\n      <td>France</td>\n      <td>Mac</td>\n      <td>реклама у блогеров</td>\n      <td>2019-05-02 10:21:30</td>\n      <td>2019-05-02 10:51:54</td>\n      <td>1824</td>\n      <td>2019-05-02</td>\n      <td>5</td>\n      <td>4</td>\n      <td>10</td>\n      <td>NaT</td>\n      <td>0.0</td>\n      <td>NaN</td>\n      <td>NaN</td>\n      <td>0.0</td>\n      <td>день</td>\n      <td>0</td>\n    </tr>\n    <tr>\n      <th>8</th>\n      <td>177410811849</td>\n      <td>United States</td>\n      <td>Android</td>\n      <td>социальные сети</td>\n      <td>2019-05-03 18:43:49</td>\n      <td>2019-05-03 19:30:52</td>\n      <td>2823</td>\n      <td>2019-05-03</td>\n      <td>5</td>\n      <td>5</td>\n      <td>19</td>\n      <td>NaT</td>\n      <td>0.0</td>\n      <td>NaN</td>\n      <td>NaN</td>\n      <td>0.0</td>\n      <td>вечер</td>\n      <td>0</td>\n    </tr>\n    <tr>\n      <th>9</th>\n      <td>337713702816</td>\n      <td>United States</td>\n      <td>iPhone</td>\n      <td>реклама у блогеров</td>\n      <td>2019-05-03 19:48:35</td>\n      <td>2019-05-03 20:16:10</td>\n      <td>1655</td>\n      <td>2019-05-03</td>\n      <td>5</td>\n      <td>5</td>\n      <td>20</td>\n      <td>NaT</td>\n      <td>0.0</td>\n      <td>NaN</td>\n      <td>NaN</td>\n      <td>0.0</td>\n      <td>вечер</td>\n      <td>0</td>\n    </tr>\n    <tr>\n      <th>10</th>\n      <td>646967194055</td>\n      <td>Germany</td>\n      <td>PC</td>\n      <td>organic</td>\n      <td>2019-05-03 10:48:10</td>\n      <td>2019-05-03 11:12:32</td>\n      <td>1462</td>\n      <td>2019-05-03</td>\n      <td>5</td>\n      <td>5</td>\n      <td>11</td>\n      <td>NaT</td>\n      <td>0.0</td>\n      <td>NaN</td>\n      <td>NaN</td>\n      <td>0.0</td>\n      <td>день</td>\n      <td>0</td>\n    </tr>\n    <tr>\n      <th>11</th>\n      <td>690688816702</td>\n      <td>France</td>\n      <td>PC</td>\n      <td>organic</td>\n      <td>2019-05-03 07:58:24</td>\n      <td>2019-05-03 08:15:40</td>\n      <td>1036</td>\n      <td>2019-05-03</td>\n      <td>5</td>\n      <td>5</td>\n      <td>8</td>\n      <td>NaT</td>\n      <td>0.0</td>\n      <td>NaN</td>\n      <td>NaN</td>\n      <td>0.0</td>\n      <td>утро</td>\n      <td>0</td>\n    </tr>\n    <tr>\n      <th>12</th>\n      <td>819430452750</td>\n      <td>UK</td>\n      <td>PC</td>\n      <td>organic</td>\n      <td>2019-05-03 09:28:23</td>\n      <td>2019-05-03 09:41:51</td>\n      <td>808</td>\n      <td>2019-05-03</td>\n      <td>5</td>\n      <td>5</td>\n      <td>9</td>\n      <td>NaT</td>\n      <td>0.0</td>\n      <td>NaN</td>\n      <td>NaN</td>\n      <td>0.0</td>\n      <td>утро</td>\n      <td>0</td>\n    </tr>\n    <tr>\n      <th>13</th>\n      <td>841208777989</td>\n      <td>United States</td>\n      <td>Mac</td>\n      <td>социальные сети</td>\n      <td>2019-05-03 22:19:03</td>\n      <td>2019-05-03 22:59:53</td>\n      <td>2450</td>\n      <td>2019-05-03</td>\n      <td>5</td>\n      <td>5</td>\n      <td>22</td>\n      <td>NaT</td>\n      <td>0.0</td>\n      <td>NaN</td>\n      <td>NaN</td>\n      <td>0.0</td>\n      <td>ночь</td>\n      <td>0</td>\n    </tr>\n    <tr>\n      <th>14</th>\n      <td>141158670001</td>\n      <td>Germany</td>\n      <td>Android</td>\n      <td>контекстная реклама</td>\n      <td>2019-05-04 07:33:33</td>\n      <td>2019-05-04 07:54:23</td>\n      <td>1250</td>\n      <td>2019-05-04</td>\n      <td>5</td>\n      <td>6</td>\n      <td>7</td>\n      <td>NaT</td>\n      <td>0.0</td>\n      <td>NaN</td>\n      <td>NaN</td>\n      <td>0.0</td>\n      <td>утро</td>\n      <td>0</td>\n    </tr>\n    <tr>\n      <th>15</th>\n      <td>275047061155</td>\n      <td>United States</td>\n      <td>Mac</td>\n      <td>organic</td>\n      <td>2019-05-04 19:02:24</td>\n      <td>2019-05-04 19:36:31</td>\n      <td>2047</td>\n      <td>2019-05-04</td>\n      <td>5</td>\n      <td>6</td>\n      <td>19</td>\n      <td>NaT</td>\n      <td>0.0</td>\n      <td>NaN</td>\n      <td>NaN</td>\n      <td>0.0</td>\n      <td>вечер</td>\n      <td>0</td>\n    </tr>\n    <tr>\n      <th>16</th>\n      <td>375412209113</td>\n      <td>United States</td>\n      <td>iPhone</td>\n      <td>organic</td>\n      <td>2019-05-04 08:37:20</td>\n      <td>2019-05-04 09:34:01</td>\n      <td>3401</td>\n      <td>2019-05-04</td>\n      <td>5</td>\n      <td>6</td>\n      <td>9</td>\n      <td>NaT</td>\n      <td>0.0</td>\n      <td>NaN</td>\n      <td>NaN</td>\n      <td>0.0</td>\n      <td>утро</td>\n      <td>0</td>\n    </tr>\n    <tr>\n      <th>17</th>\n      <td>247341796763</td>\n      <td>United States</td>\n      <td>Android</td>\n      <td>социальные сети</td>\n      <td>2019-05-05 16:34:52</td>\n      <td>2019-05-05 16:41:52</td>\n      <td>420</td>\n      <td>2019-05-05</td>\n      <td>5</td>\n      <td>7</td>\n      <td>16</td>\n      <td>NaT</td>\n      <td>0.0</td>\n      <td>NaN</td>\n      <td>NaN</td>\n      <td>0.0</td>\n      <td>день</td>\n      <td>0</td>\n    </tr>\n    <tr>\n      <th>18</th>\n      <td>497724697381</td>\n      <td>United States</td>\n      <td>Android</td>\n      <td>социальные сети</td>\n      <td>2019-05-05 21:04:51</td>\n      <td>2019-05-05 21:19:49</td>\n      <td>898</td>\n      <td>2019-05-05</td>\n      <td>5</td>\n      <td>7</td>\n      <td>21</td>\n      <td>NaT</td>\n      <td>0.0</td>\n      <td>NaN</td>\n      <td>NaN</td>\n      <td>0.0</td>\n      <td>вечер</td>\n      <td>0</td>\n    </tr>\n    <tr>\n      <th>19</th>\n      <td>921538146366</td>\n      <td>United States</td>\n      <td>Mac</td>\n      <td>organic</td>\n      <td>2019-05-05 02:19:53</td>\n      <td>2019-05-05 03:07:46</td>\n      <td>2873</td>\n      <td>2019-05-05</td>\n      <td>5</td>\n      <td>7</td>\n      <td>3</td>\n      <td>NaT</td>\n      <td>0.0</td>\n      <td>NaN</td>\n      <td>NaN</td>\n      <td>0.0</td>\n      <td>ночь</td>\n      <td>0</td>\n    </tr>\n  </tbody>\n</table>\n</div>"
          },
          "metadata": {}
        }
      ]
    },
    {
      "cell_type": "markdown",
      "metadata": {
        "formattedRanges": [],
        "cell_id": "b035f8f6817b4f23b3dbc4a9722a0958",
        "deepnote_cell_type": "text-cell-h3",
        "id": "1rV5SU_uwlVN"
      },
      "source": [
        "### Вывод"
      ]
    },
    {
      "cell_type": "markdown",
      "metadata": {
        "formattedRanges": [],
        "cell_id": "4ba248c96aff4ed8a15450f5a11fd720",
        "deepnote_cell_type": "text-cell-p",
        "id": "VckYsutFwlVN"
      },
      "source": [
        "Исправили пропуски:\n",
        "        12 пропусков в полях region, device, channel:\n",
        "            Второй заход пользователя\n",
        "        1 пропуск в полях region, device, channel:\n",
        "            Пользователь без данных входа - удалили\n",
        "        727 пропусков, связанных с покупкой:\n",
        "            Пользователь не купил ничего - игнорировали"
      ]
    },
    {
      "cell_type": "markdown",
      "metadata": {
        "formattedRanges": [],
        "cell_id": "2a9f6f637fcc43508a624b64ff565194",
        "deepnote_cell_type": "text-cell-p",
        "id": "7Rd2T4YewlVO"
      },
      "source": [
        "Идентичные дубликаты - удалили (4 дубликата)"
      ]
    },
    {
      "cell_type": "markdown",
      "metadata": {
        "formattedRanges": [],
        "cell_id": "d391d6cfb9644eae8617edbc9d6d7955",
        "deepnote_cell_type": "text-cell-p",
        "id": "QD7ohnbJwlVO"
      },
      "source": [
        "Баг в системе: значение 0.86 в поле promo_code  -  обнулили (2 промокода)"
      ]
    },
    {
      "cell_type": "markdown",
      "metadata": {
        "formattedRanges": [],
        "cell_id": "f673456ac7ac472a8097afa67ccd4e92",
        "deepnote_cell_type": "text-cell-h1",
        "id": "SKRaiBgtwlVO"
      },
      "source": [
        "# Аналитический и графический анализ данных"
      ]
    },
    {
      "cell_type": "markdown",
      "metadata": {
        "formattedRanges": [],
        "cell_id": "b5a9f51804c2497f8f9ee2fda586b8d7",
        "deepnote_cell_type": "text-cell-h3",
        "id": "TahcXlRSwlVO"
      },
      "source": [
        "### Доля продаж по регионам"
      ]
    },
    {
      "cell_type": "code",
      "metadata": {
        "source_hash": "12c8a485",
        "execution_start": 1745325580714,
        "execution_millis": 0,
        "execution_context_id": "97b0769b-0061-424c-b558-cfb7d22a56a9",
        "cell_id": "2014ea5c8c644daebeca7b90b1fada6c",
        "deepnote_cell_type": "code",
        "id": "_KS4uNLTwlVO",
        "outputId": "dbfcdf89-b2fb-492f-cd4d-dbf001874198"
      },
      "source": [
        "total = data['total_revenue'].sum()\n",
        "revenue_by_region = data.groupby('region')['total_revenue'].agg(['sum', 'median']).reset_index()\n",
        "revenue_by_region['sum_percentage'] = revenue_by_region['sum'].apply(lambda x: str(round(x* 100/total, 2)) + '%')\n",
        "print(revenue_by_region, '\\n')"
      ],
      "execution_count": null,
      "outputs": [
        {
          "name": "stdout",
          "text": "          region        sum  median sum_percentage\n0         France   134874.8     0.0          8.89%\n1        Germany   133275.7     0.0          8.79%\n2             UK   186766.6     0.0         12.32%\n3  United States  1061609.8     0.0          70.0% \n\n",
          "output_type": "stream"
        }
      ]
    },
    {
      "cell_type": "code",
      "metadata": {
        "source_hash": "8ba93d88",
        "execution_start": 1745325580764,
        "execution_millis": 53,
        "execution_context_id": "97b0769b-0061-424c-b558-cfb7d22a56a9",
        "cell_id": "b5f0ef62923f497ba987502b97a37163",
        "deepnote_cell_type": "code",
        "id": "e1e_yqbPwlVP",
        "outputId": "168e6cc7-5972-426f-ad84-e61100e64697"
      },
      "source": [
        "colors = sns.color_palette(\"plasma\")\n",
        "revenue_by_region = data.groupby('region')['total_revenue'].sum()\n",
        "plt.pie(revenue_by_region, labels=revenue_by_region.index, autopct='%1.1f%%', startangle=140, colors=colors)\n",
        "plt.title('Доля продаж по регионам')\n",
        "plt.axis('equal')\n",
        "plt.show()"
      ],
      "execution_count": null,
      "outputs": [
        {
          "data": {
            "text/plain": "<Figure size 640x480 with 1 Axes>",
            "image/png": "[encoded data removed]"
          },
          "metadata": {
            "image/png": {
              "width": 541,
              "height": 411
            }
          },
          "output_type": "display_data"
        }
      ]
    },
    {
      "cell_type": "markdown",
      "metadata": {
        "formattedRanges": [],
        "cell_id": "e158b983f3854bf28b798d540dcc3fcc",
        "deepnote_cell_type": "text-cell-h3",
        "id": "UHwAzArUwlVP"
      },
      "source": [
        "### Доля продаж по источникам"
      ]
    },
    {
      "cell_type": "code",
      "metadata": {
        "source_hash": "c576f404",
        "execution_start": 1745325580864,
        "execution_millis": 2,
        "execution_context_id": "97b0769b-0061-424c-b558-cfb7d22a56a9",
        "cell_id": "44f8cc57e45b41399fad2a3038d95d3a",
        "deepnote_cell_type": "code",
        "id": "HGj6xCK2wlVP",
        "outputId": "1c6f3691-5c1b-497a-8efd-a8c6122d9e49"
      },
      "source": [
        "revenue_by_channel = data.groupby('channel')['total_revenue'].agg(['sum', 'median']).reset_index()\n",
        "revenue_by_channel['sum_percentage'] = revenue_by_channel['sum'].apply(lambda x: str(round(x* 100/total, 2)) + '%')\n",
        "print(revenue_by_channel, '\\n')"
      ],
      "execution_count": null,
      "outputs": [
        {
          "name": "stdout",
          "text": "               channel       sum  median sum_percentage\n0       email-рассылки   36493.3     0.0          2.41%\n1              organic  475814.8     0.0         31.38%\n2  контекстная реклама  230156.6     0.0         15.18%\n3   реклама у блогеров  156271.3     0.0          10.3%\n4      социальные сети  617790.9     0.0         40.74% \n\n",
          "output_type": "stream"
        }
      ]
    },
    {
      "cell_type": "code",
      "metadata": {
        "source_hash": "7d3482c",
        "execution_start": 1745325580924,
        "execution_millis": 97,
        "execution_context_id": "97b0769b-0061-424c-b558-cfb7d22a56a9",
        "cell_id": "c3c32a728ab742469d71de31732d4f97",
        "deepnote_cell_type": "code",
        "id": "qMhcTsRVwlVP",
        "outputId": "0696cffd-4f8b-43a9-e598-ac26c90d47f7"
      },
      "source": [
        "revenue_by_channel = data.groupby('channel')['total_revenue'].sum()\n",
        "plt.pie(revenue_by_channel, labels=revenue_by_channel.index, autopct='%1.1f%%', startangle=140, colors=colors)\n",
        "plt.title('Доля продаж по источникам')\n",
        "plt.axis('equal')\n",
        "plt.show()"
      ],
      "execution_count": null,
      "outputs": [
        {
          "data": {
            "text/plain": "<Figure size 640x480 with 1 Axes>",
            "image/png": "[encoded data removed]"
          },
          "metadata": {
            "image/png": {
              "width": 598,
              "height": 411
            }
          },
          "output_type": "display_data"
        }
      ]
    },
    {
      "cell_type": "markdown",
      "metadata": {
        "formattedRanges": [],
        "cell_id": "c016ca4a7a3445d6b105147f115eacf8",
        "deepnote_cell_type": "text-cell-h3",
        "id": "u7ZMIoprwlVa"
      },
      "source": [
        "### Доля продаж по устройствам"
      ]
    },
    {
      "cell_type": "code",
      "metadata": {
        "source_hash": "b79acdc0",
        "execution_start": 1745325581074,
        "execution_millis": 0,
        "execution_context_id": "97b0769b-0061-424c-b558-cfb7d22a56a9",
        "cell_id": "788afe31c1d5482f818b2e8182eeeb59",
        "deepnote_cell_type": "code",
        "id": "hSHOJN9GwlVa",
        "outputId": "255f696f-bf91-4ce3-843a-0913947275f5"
      },
      "source": [
        "revenue_by_device = data.groupby('device')['total_revenue'].agg(['sum', 'median']).reset_index()\n",
        "revenue_by_device['sum_percentage'] = revenue_by_device['sum'].apply(lambda x: str(round(x* 100/total, 2)) + '%')\n",
        "print(revenue_by_device, '\\n')"
      ],
      "execution_count": null,
      "outputs": [
        {
          "name": "stdout",
          "text": "    device       sum  median sum_percentage\n0  Android  388429.3     0.0         25.61%\n1      Mac  328340.8     0.0         21.65%\n2       PC  283149.4     0.0         18.67%\n3   iPhone  516607.4     0.0         34.07% \n\n",
          "output_type": "stream"
        }
      ]
    },
    {
      "cell_type": "code",
      "metadata": {
        "source_hash": "fcfc1df1",
        "execution_start": 1745325581144,
        "execution_millis": 65,
        "execution_context_id": "97b0769b-0061-424c-b558-cfb7d22a56a9",
        "cell_id": "8eb68a176d9e4f1ebd648052c3bedb8e",
        "deepnote_cell_type": "code",
        "id": "sKRclF5SwlVa",
        "outputId": "2f597e6f-1246-4537-eb91-b69ba605be4c"
      },
      "source": [
        "revenue_by_device = data.groupby('device')['total_revenue'].sum()\n",
        "plt.pie(revenue_by_device, labels=revenue_by_device.index, autopct='%1.1f%%', startangle=140, colors=colors)\n",
        "plt.title('Доля продаж по устройствам')\n",
        "plt.axis('equal')\n",
        "plt.show()"
      ],
      "execution_count": null,
      "outputs": [
        {
          "data": {
            "text/plain": "<Figure size 640x480 with 1 Axes>",
            "image/png": "[encoded data removed]"
          },
          "metadata": {
            "image/png": {
              "width": 515,
              "height": 418
            }
          },
          "output_type": "display_data"
        }
      ]
    },
    {
      "cell_type": "markdown",
      "metadata": {
        "formattedRanges": [],
        "cell_id": "f73ed6b280ed46ed8fe4b8e23518a8fb",
        "deepnote_cell_type": "text-cell-h3",
        "id": "sl2yNwPywlVa"
      },
      "source": [
        "### Количество пользователей с разбивкой на платящих/не платящих по регионам"
      ]
    },
    {
      "cell_type": "code",
      "metadata": {
        "source_hash": "198c1cc9",
        "execution_start": 1745325581274,
        "execution_millis": 1,
        "execution_context_id": "97b0769b-0061-424c-b558-cfb7d22a56a9",
        "cell_id": "33d875a437654896898132341466e95e",
        "deepnote_cell_type": "code",
        "id": "aqS8W7lzwlVa",
        "outputId": "85b8f042-8149-4a45-e9ed-12868cee399a"
      },
      "source": [
        "payer_by_region = data.groupby(['region', 'payer'])['payer'].value_counts().reset_index()\n",
        "print(payer_by_region)"
      ],
      "execution_count": null,
      "outputs": [
        {
          "name": "stdout",
          "text": "          region  payer  count\n0         France      0     78\n1         France      1     26\n2        Germany      0     78\n3        Germany      1     25\n4             UK      0     83\n5             UK      1     34\n6  United States      0    488\n7  United States      1    196\n",
          "output_type": "stream"
        }
      ]
    },
    {
      "cell_type": "code",
      "metadata": {
        "source_hash": "8d929dd",
        "execution_start": 1745325601126,
        "execution_millis": 196,
        "execution_context_id": "97b0769b-0061-424c-b558-cfb7d22a56a9",
        "cell_id": "2d0d32beb96e417083752222d59945d5",
        "deepnote_cell_type": "code",
        "id": "gbWOPamHwlVb",
        "outputId": "8aa8b990-e712-4d01-f5c9-e482971a7add"
      },
      "source": [
        "payer_by_region = data.groupby(['region', 'payer'])['payer'].value_counts().reset_index()\n",
        "sns.barplot(data=payer_by_region, x='count', y='region', hue='payer', palette='muted')\n",
        "plt.title('Количество пользователей с разбивкой на платящих/не платящих по регионам')\n",
        "plt.xlabel('Количество людей')\n",
        "plt.ylabel('Регион')\n",
        "plt.legend(title='Payer')\n",
        "plt.show()"
      ],
      "execution_count": null,
      "outputs": [
        {
          "data": {
            "text/plain": "<Figure size 640x480 with 1 Axes>",
            "image/png": "[encoded data removed]"
          },
          "metadata": {
            "image/png": {
              "width": 743,
              "height": 455
            }
          },
          "output_type": "display_data"
        }
      ]
    },
    {
      "cell_type": "markdown",
      "metadata": {
        "formattedRanges": [],
        "cell_id": "963675850c7747cda449cba69fa5834b",
        "deepnote_cell_type": "text-cell-h3",
        "id": "KAFb9_G2wlVb"
      },
      "source": [
        "### Количество пользователей с разбивкой на платящих/не платящих по источникам"
      ]
    },
    {
      "cell_type": "code",
      "metadata": {
        "source_hash": "8a40582f",
        "execution_start": 1745325581714,
        "execution_millis": 1,
        "execution_context_id": "97b0769b-0061-424c-b558-cfb7d22a56a9",
        "cell_id": "ccf144f49e8543b28a1889e526208920",
        "deepnote_cell_type": "code",
        "id": "nOo_k2YvwlVb",
        "outputId": "2e4deeca-0493-4135-c137-00b9ec179cda"
      },
      "source": [
        "payer_by_channel = data.groupby(['channel', 'payer'])['payer'].value_counts().reset_index()\n",
        "print(payer_by_channel)"
      ],
      "execution_count": null,
      "outputs": [
        {
          "name": "stdout",
          "text": "               channel  payer  count\n0       email-рассылки      0     17\n1       email-рассылки      1      7\n2              organic      0    259\n3              organic      1     88\n4  контекстная реклама      0    117\n5  контекстная реклама      1     45\n6   реклама у блогеров      0     72\n7   реклама у блогеров      1     29\n8      социальные сети      0    262\n9      социальные сети      1    112\n",
          "output_type": "stream"
        }
      ]
    },
    {
      "cell_type": "code",
      "metadata": {
        "source_hash": "966c16c0",
        "execution_start": 1745325656131,
        "execution_millis": 210,
        "execution_context_id": "97b0769b-0061-424c-b558-cfb7d22a56a9",
        "cell_id": "65bd8fbc4b3c4e379d63a0a075261735",
        "deepnote_cell_type": "code",
        "id": "udU7EibvwlVb",
        "outputId": "641447d0-3997-4869-fd50-975a4cb39ca8"
      },
      "source": [
        "payer_by_channel = data.groupby(['channel', 'payer'])['payer'].value_counts().reset_index()\n",
        "sns.barplot(data=payer_by_channel, x='count', y='channel', hue='payer', palette='muted')\n",
        "plt.title('Количество пользователей с разбивкой на платящих/не платящих по источникам')\n",
        "plt.xlabel('Количество людей')\n",
        "plt.ylabel('Источник')\n",
        "plt.legend(title='Payer')\n",
        "plt.show()"
      ],
      "execution_count": null,
      "outputs": [
        {
          "data": {
            "text/plain": "<Figure size 640x480 with 1 Axes>",
            "image/png": "[encoded data removed]"
          },
          "metadata": {
            "image/png": {
              "width": 819,
              "height": 455
            }
          },
          "output_type": "display_data"
        }
      ]
    },
    {
      "cell_type": "markdown",
      "metadata": {
        "formattedRanges": [],
        "cell_id": "423b3983132e481ab8f82e4cab63db39",
        "deepnote_cell_type": "text-cell-h3",
        "id": "2q_c5TqjwlVb"
      },
      "source": [
        "### Количество пользователей с разбивкой на платящих/не платящих по устройствам"
      ]
    },
    {
      "cell_type": "code",
      "metadata": {
        "source_hash": "8a9b730d",
        "execution_start": 1745325581965,
        "execution_millis": 0,
        "execution_context_id": "97b0769b-0061-424c-b558-cfb7d22a56a9",
        "cell_id": "4e7a887e5ddf4a1d963ed8c96cba7912",
        "deepnote_cell_type": "code",
        "id": "NZuPeLkIwlVb",
        "outputId": "077639f5-3e93-4c90-aee9-ac1109d35b2a"
      },
      "source": [
        "payer_by_device = data.groupby(['device', 'payer'])['payer'].value_counts().reset_index()\n",
        "print(payer_by_device)"
      ],
      "execution_count": null,
      "outputs": [
        {
          "name": "stdout",
          "text": "    device  payer  count\n0  Android      0    165\n1  Android      1     73\n2      Mac      0    146\n3      Mac      1     61\n4       PC      0    155\n5       PC      1     52\n6   iPhone      0    261\n7   iPhone      1     95\n",
          "output_type": "stream"
        }
      ]
    },
    {
      "cell_type": "code",
      "metadata": {
        "source_hash": "1acb931a",
        "execution_start": 1745325665314,
        "execution_millis": 116,
        "execution_context_id": "97b0769b-0061-424c-b558-cfb7d22a56a9",
        "cell_id": "ec34d0e5be5b407eafc585484b83703e",
        "deepnote_cell_type": "code",
        "id": "R0owwaHOwlVb",
        "outputId": "b27cbe9f-f736-4305-8fab-480d93eba381"
      },
      "source": [
        "payer_by_device = data.groupby(['device', 'payer'])['payer'].value_counts().reset_index()\n",
        "sns.barplot(data=payer_by_device, x='count', y='device', hue='payer', palette='muted')\n",
        "plt.title('Количество пользователей с разбивкой на платящих/не платящих по источникам')\n",
        "plt.xlabel('Количество людей')\n",
        "plt.ylabel('Устройство')\n",
        "plt.legend(title='Payer')\n",
        "plt.show()"
      ],
      "execution_count": null,
      "outputs": [
        {
          "data": {
            "text/plain": "<Figure size 640x480 with 1 Axes>",
            "image/png": "[encoded data removed]"
          },
          "metadata": {
            "image/png": {
              "width": 744,
              "height": 455
            }
          },
          "output_type": "display_data"
        }
      ]
    },
    {
      "cell_type": "markdown",
      "metadata": {
        "formattedRanges": [],
        "cell_id": "32427fcf14ae4c61bb37030be04a8bcd",
        "deepnote_cell_type": "text-cell-h3",
        "id": "8i99jPGqwlVb"
      },
      "source": [
        "### Графики, показывающие есть ли сезонность в продажах по месяцам, дням недели, времени суток"
      ]
    },
    {
      "cell_type": "code",
      "metadata": {
        "source_hash": "15f8a617",
        "execution_start": 1745325069614,
        "execution_millis": 105,
        "execution_context_id": "97b0769b-0061-424c-b558-cfb7d22a56a9",
        "cell_id": "22d2ff84ba6144eea3d1a93f1540d2a8",
        "deepnote_cell_type": "code",
        "id": "zdZT-axowlVb",
        "outputId": "40797f00-8c6c-41d6-f7e2-dfeb46405fa5"
      },
      "source": [
        "monthly_revenue = data.groupby('month')['total_revenue'].sum().reset_index()\n",
        "plt.figure(figsize=(10, 5))\n",
        "plt.plot(monthly_revenue['month'], monthly_revenue['total_revenue'], marker='o', color='teal')\n",
        "plt.title('Сезонность продаж по месяцам', fontsize=14)\n",
        "plt.xlabel('Месяц', fontsize=12)\n",
        "plt.ylabel('Выручка', fontsize=12)\n",
        "plt.xticks(range(1, 13), labels=['Янв', 'Фев', 'Мар', 'Апр', 'Май', 'Июн', 'Июл', 'Авг', 'Сен', 'Окт', 'Ноя', 'Дек'])\n",
        "plt.grid(axis='y', linestyle='--')\n",
        "plt.show()"
      ],
      "execution_count": null,
      "outputs": [
        {
          "data": {
            "text/plain": "<Figure size 1000x500 with 1 Axes>",
            "image/png": "[encoded data removed]"
          },
          "metadata": {
            "image/png": {
              "width": 894,
              "height": 475
            }
          },
          "output_type": "display_data"
        }
      ]
    },
    {
      "cell_type": "code",
      "metadata": {
        "source_hash": "353300a4",
        "execution_start": 1745325069764,
        "execution_millis": 114,
        "execution_context_id": "97b0769b-0061-424c-b558-cfb7d22a56a9",
        "cell_id": "90fed8e4c1a64f199f93eb2eec30ead7",
        "deepnote_cell_type": "code",
        "id": "PFAHemBfwlVc",
        "outputId": "bd4540d3-5228-418c-be30-e24191b08e2d"
      },
      "source": [
        "weekday_revenue = data.groupby('day')['revenue'].sum().reset_index()\n",
        "plt.figure(figsize=(8, 4))\n",
        "plt.plot(weekday_revenue['day'], weekday_revenue['revenue'], marker='o', color='orange')\n",
        "plt.title('Продажи по дням недели', fontsize=14)\n",
        "plt.xlabel('День недели', fontsize=12)\n",
        "plt.ylabel('Выручка', fontsize=12)\n",
        "plt.xticks(range(1, 8), labels=['Пн', 'Вт', 'Ср', 'Чт', 'Пт', 'Сб', 'Вс'])\n",
        "plt.grid(axis='y', linestyle='--')\n",
        "plt.show()"
      ],
      "execution_count": null,
      "outputs": [
        {
          "data": {
            "text/plain": "<Figure size 800x400 with 1 Axes>",
            "image/png": "[encoded data removed]"
          },
          "metadata": {
            "image/png": {
              "width": 725,
              "height": 398
            }
          },
          "output_type": "display_data"
        }
      ]
    },
    {
      "cell_type": "code",
      "metadata": {
        "source_hash": "fdaeacce",
        "execution_start": 1745325069924,
        "execution_millis": 193,
        "execution_context_id": "97b0769b-0061-424c-b558-cfb7d22a56a9",
        "cell_id": "6cbf1a4a3b1e41c1ad59ea2439cfc79f",
        "deepnote_cell_type": "code",
        "id": "TXS1xQKqwlVc",
        "outputId": "51807afa-669f-4304-a9cf-806247713466"
      },
      "source": [
        "hourly_revenue = data.groupby('hour_of_day')['revenue'].sum().reset_index()\n",
        "plt.figure(figsize=(10, 4))\n",
        "plt.plot(hourly_revenue['hour_of_day'], hourly_revenue['revenue'], marker='o', color='purple')\n",
        "plt.title('Продажи по времени суток', fontsize=14)\n",
        "plt.xlabel('Час дня', fontsize=12)\n",
        "plt.ylabel('Выручка', fontsize=12)\n",
        "plt.xticks(range(0, 24))\n",
        "plt.grid(axis='y', linestyle='--')\n",
        "plt.show()"
      ],
      "execution_count": null,
      "outputs": [
        {
          "data": {
            "text/plain": "<Figure size 1000x400 with 1 Axes>",
            "image/png": "[encoded data removed]"
          },
          "metadata": {
            "image/png": {
              "width": 880,
              "height": 398
            }
          },
          "output_type": "display_data"
        }
      ]
    },
    {
      "cell_type": "markdown",
      "metadata": {
        "formattedRanges": [],
        "cell_id": "6b7886ec7b13471d9a5f2749a63b2817",
        "deepnote_cell_type": "text-cell-h3",
        "id": "vbxHqHC3wlVc"
      },
      "source": [
        "### Диаграмма количества покупок по типу оплаты"
      ]
    },
    {
      "cell_type": "code",
      "metadata": {
        "source_hash": "30d743c5",
        "execution_start": 1745325070164,
        "execution_millis": 1,
        "execution_context_id": "97b0769b-0061-424c-b558-cfb7d22a56a9",
        "cell_id": "cc126ec1eb424d62b84dc62004bc5663",
        "deepnote_cell_type": "code",
        "id": "AfvLmqeSwlVc",
        "outputId": "cc23e900-6041-459a-81e7-e53d835d02f7"
      },
      "source": [
        "payment_type_counts = data['payment_type'].value_counts().reset_index()\n",
        "print(payment_type_counts)"
      ],
      "execution_count": null,
      "outputs": [
        {
          "name": "stdout",
          "text": "      payment_type  count\n0  Mobile payments     85\n1         E-wallet     66\n2             Cash     60\n3       Debit card     36\n4      Credit card     34\n",
          "output_type": "stream"
        }
      ]
    },
    {
      "cell_type": "code",
      "metadata": {
        "source_hash": "696b99b5",
        "execution_start": 1745325070234,
        "execution_millis": 125,
        "execution_context_id": "97b0769b-0061-424c-b558-cfb7d22a56a9",
        "cell_id": "b3fbe944a6794893abdbf715daa4b523",
        "deepnote_cell_type": "code",
        "id": "hiZKl2U3wlVc",
        "outputId": "384fac10-d9d0-4267-ef73-49c5257ff406"
      },
      "source": [
        "plt.figure(figsize=(10, 6))\n",
        "sns.barplot(data=payment_type_counts, y='payment_type', x='count', hue='payment_type', palette='viridis')\n",
        "plt.title('Диаграмма количества покупок по типу оплаты')\n",
        "plt.xlabel('Количесвто покупок')\n",
        "plt.ylabel('Тип оплаты')\n",
        "plt.show()"
      ],
      "execution_count": null,
      "outputs": [
        {
          "data": {
            "text/plain": "<Figure size 1000x600 with 1 Axes>",
            "image/png": "[encoded data removed]"
          },
          "metadata": {
            "image/png": {
              "width": 943,
              "height": 547
            }
          },
          "output_type": "display_data"
        }
      ]
    },
    {
      "cell_type": "markdown",
      "metadata": {
        "formattedRanges": [],
        "cell_id": "ae08ed45f5604a0cad67dc76ad7bec74",
        "deepnote_cell_type": "text-cell-h1",
        "id": "1m5q9_izwlVc"
      },
      "source": [
        "# Проведение расчётов"
      ]
    },
    {
      "cell_type": "markdown",
      "metadata": {
        "formattedRanges": [],
        "cell_id": "fb8f15dc32074300b707e99caec85e07",
        "deepnote_cell_type": "text-cell-h3",
        "id": "KvkHnOY3wlVc"
      },
      "source": [
        "### Рассчитать средний чек."
      ]
    },
    {
      "cell_type": "code",
      "metadata": {
        "source_hash": "c8578fac",
        "execution_start": 1745325070404,
        "execution_millis": 1,
        "execution_context_id": "97b0769b-0061-424c-b558-cfb7d22a56a9",
        "cell_id": "5b72235fcee1440182fd87718d323f48",
        "deepnote_cell_type": "code",
        "id": "Dea0mpvXwlVc",
        "outputId": "6b05f8ba-6393-44e6-8945-d09c82ae0c38"
      },
      "source": [
        "avg_receipt = data['total_revenue'].mean()\n",
        "print(f\"Средний чек: {avg_receipt:.2f}\")"
      ],
      "execution_count": null,
      "outputs": [
        {
          "name": "stdout",
          "text": "Средний чек: 1504.49\n",
          "output_type": "stream"
        }
      ]
    },
    {
      "cell_type": "markdown",
      "metadata": {
        "formattedRanges": [],
        "cell_id": "2a42909727504df4bb1292c9033a1a6c",
        "deepnote_cell_type": "text-cell-h3",
        "id": "c22MY8q0wlVc"
      },
      "source": [
        "### Сколько покупок в среднем совершает 1 пользователь?"
      ]
    },
    {
      "cell_type": "code",
      "metadata": {
        "source_hash": "876848bc",
        "execution_start": 1745325070454,
        "execution_millis": 1,
        "execution_context_id": "97b0769b-0061-424c-b558-cfb7d22a56a9",
        "cell_id": "cd101823555c495a9464dcc432f686a4",
        "deepnote_cell_type": "code",
        "id": "ukWoZ69mwlVc",
        "outputId": "d401ec32-5558-444d-9111-63de0a3e6158"
      },
      "source": [
        "payer_count = data.groupby('user_id')['payer'].sum().reset_index()\n",
        "print(\"Среднее количество покупок одного пользователя:\",round(payer_count['payer'].mean(), 5))"
      ],
      "execution_count": null,
      "outputs": [
        {
          "name": "stdout",
          "text": "Среднее количество покупок одного пользователя: 0.28185\n",
          "output_type": "stream"
        }
      ]
    },
    {
      "cell_type": "markdown",
      "metadata": {
        "formattedRanges": [],
        "cell_id": "a4f6962fd5c64164ac094372278935dd",
        "deepnote_cell_type": "text-cell-h3",
        "id": "z0tvRq9ywlVc"
      },
      "source": [
        "### Рассчитать среднюю продолжительность сессии по рекламным каналам."
      ]
    },
    {
      "cell_type": "code",
      "metadata": {
        "source_hash": "7b91cfa2",
        "execution_start": 1745325070504,
        "execution_millis": 1,
        "execution_context_id": "97b0769b-0061-424c-b558-cfb7d22a56a9",
        "cell_id": "539abc753c364669bf8da19418c76aef",
        "deepnote_cell_type": "code",
        "id": "J6BeVGotwlVc",
        "outputId": "dee8d781-0134-4639-fa85-5fef4636b012"
      },
      "source": [
        "avg_sessiondur_by_channel = data.groupby('channel')['sessiondurationsec'].mean().reset_index()\n",
        "avg_sessiondur_by_channel['sessiondurationsec'] = avg_sessiondur_by_channel['sessiondurationsec'].apply(lambda x: round(x, 2))\n",
        "print(avg_sessiondur_by_channel)"
      ],
      "execution_count": null,
      "outputs": [
        {
          "name": "stdout",
          "text": "               channel  sessiondurationsec\n0       email-рассылки             1982.12\n1              organic             1873.38\n2  контекстная реклама             1960.79\n3   реклама у блогеров             1861.45\n4      социальные сети             1694.59\n",
          "output_type": "stream"
        }
      ]
    },
    {
      "cell_type": "markdown",
      "metadata": {
        "formattedRanges": [],
        "cell_id": "408df08254fe49a68bb7f2f6bdc14abf",
        "deepnote_cell_type": "text-cell-h3",
        "id": "wr2QOUtXwlVd"
      },
      "source": [
        "### Рассчитать среднюю продолжительность сессии по типу устройства."
      ]
    },
    {
      "cell_type": "code",
      "metadata": {
        "source_hash": "ebaf205a",
        "execution_start": 1745325070555,
        "execution_millis": 1,
        "execution_context_id": "97b0769b-0061-424c-b558-cfb7d22a56a9",
        "cell_id": "515f6f4e17c04d569cbd5c17c331e562",
        "deepnote_cell_type": "code",
        "id": "6F1-QYY_wlVd",
        "outputId": "c85fa14e-a001-45d8-9162-1b38469c129e"
      },
      "source": [
        "avg_sessiondur_by_device = data.groupby('device')['sessiondurationsec'].mean().reset_index()\n",
        "avg_sessiondur_by_device['sessiondurationsec'] = avg_sessiondur_by_device['sessiondurationsec'].apply(lambda x: round(x, 2))\n",
        "print(avg_sessiondur_by_device)"
      ],
      "execution_count": null,
      "outputs": [
        {
          "name": "stdout",
          "text": "    device  sessiondurationsec\n0  Android             1914.04\n1      Mac             1773.43\n2       PC             1934.10\n3   iPhone             1724.90\n",
          "output_type": "stream"
        }
      ]
    },
    {
      "cell_type": "markdown",
      "metadata": {
        "formattedRanges": [],
        "cell_id": "69bbe66fc7f84bcb8acd05c9bcca22ab",
        "deepnote_cell_type": "text-cell-h3",
        "id": "gcC7XLphwlVe"
      },
      "source": [
        "### Определить топ-3 рекламных канала по среднему чеку."
      ]
    },
    {
      "cell_type": "code",
      "metadata": {
        "source_hash": "b78214f8",
        "execution_start": 1745325070605,
        "execution_millis": 1,
        "execution_context_id": "97b0769b-0061-424c-b558-cfb7d22a56a9",
        "cell_id": "858510da224e4385b3ebbbce1866af8b",
        "deepnote_cell_type": "code",
        "id": "mNbZ3aE7wlVe",
        "outputId": "1515650d-b755-45f4-fecf-f1e979991321"
      },
      "source": [
        "avg_total_revenue_by_channel = (\n",
        "    data.groupby('channel')['total_revenue']\n",
        "    .mean()\n",
        "    .round(2)\n",
        "    .reset_index()\n",
        "    .sort_values('total_revenue', ascending=False)\n",
        ")\n",
        "avg_total_revenue_by_channel = avg_total_revenue_by_channel.reset_index(drop=True)\n",
        "avg_total_revenue_by_channel.index = avg_total_revenue_by_channel.index + 1\n",
        "avg_total_revenue_by_channel.head(3)"
      ],
      "execution_count": null,
      "outputs": [
        {
          "output_type": "execute_result",
          "execution_count": 36,
          "data": {
            "application/vnd.deepnote.dataframe.v3+json": {
              "column_count": 2,
              "row_count": 3,
              "columns": [
                {
                  "name": "channel",
                  "dtype": "object",
                  "stats": {
                    "unique_count": 3,
                    "nan_count": 0,
                    "categories": [
                      {
                        "name": "социальные сети",
                        "count": 1
                      },
                      {
                        "name": "реклама у блогеров",
                        "count": 1
                      },
                      {
                        "name": "email-рассылки",
                        "count": 1
                      }
                    ]
                  }
                },
                {
                  "name": "total_revenue",
                  "dtype": "float64",
                  "stats": {
                    "unique_count": 3,
                    "nan_count": 0,
                    "min": "1520.55",
                    "max": "1651.85",
                    "histogram": [
                      {
                        "bin_start": 1520.55,
                        "bin_end": 1533.6799999999998,
                        "count": 1
                      },
                      {
                        "bin_start": 1533.6799999999998,
                        "bin_end": 1546.81,
                        "count": 0
                      },
                      {
                        "bin_start": 1546.81,
                        "bin_end": 1559.94,
                        "count": 1
                      },
                      {
                        "bin_start": 1559.94,
                        "bin_end": 1573.07,
                        "count": 0
                      },
                      {
                        "bin_start": 1573.07,
                        "bin_end": 1586.1999999999998,
                        "count": 0
                      },
                      {
                        "bin_start": 1586.1999999999998,
                        "bin_end": 1599.33,
                        "count": 0
                      },
                      {
                        "bin_start": 1599.33,
                        "bin_end": 1612.46,
                        "count": 0
                      },
                      {
                        "bin_start": 1612.46,
                        "bin_end": 1625.59,
                        "count": 0
                      },
                      {
                        "bin_start": 1625.59,
                        "bin_end": 1638.7199999999998,
                        "count": 0
                      },
                      {
                        "bin_start": 1638.7199999999998,
                        "bin_end": 1651.85,
                        "count": 1
                      }
                    ]
                  }
                },
                {
                  "name": "_deepnote_index_column",
                  "dtype": "int64"
                }
              ],
              "rows": [
                {
                  "channel": "социальные сети",
                  "total_revenue": 1651.85,
                  "_deepnote_index_column": 1
                },
                {
                  "channel": "реклама у блогеров",
                  "total_revenue": 1547.24,
                  "_deepnote_index_column": 2
                },
                {
                  "channel": "email-рассылки",
                  "total_revenue": 1520.55,
                  "_deepnote_index_column": 3
                }
              ],
              "type": "dataframe"
            },
            "text/plain": "              channel  total_revenue\n1     социальные сети        1651.85\n2  реклама у блогеров        1547.24\n3      email-рассылки        1520.55",
            "text/html": "<div>\n<style scoped>\n    .dataframe tbody tr th:only-of-type {\n        vertical-align: middle;\n    }\n\n    .dataframe tbody tr th {\n        vertical-align: top;\n    }\n\n    .dataframe thead th {\n        text-align: right;\n    }\n</style>\n<table border=\"1\" class=\"dataframe\">\n  <thead>\n    <tr style=\"text-align: right;\">\n      <th></th>\n      <th>channel</th>\n      <th>total_revenue</th>\n    </tr>\n  </thead>\n  <tbody>\n    <tr>\n      <th>1</th>\n      <td>социальные сети</td>\n      <td>1651.85</td>\n    </tr>\n    <tr>\n      <th>2</th>\n      <td>реклама у блогеров</td>\n      <td>1547.24</td>\n    </tr>\n    <tr>\n      <th>3</th>\n      <td>email-рассылки</td>\n      <td>1520.55</td>\n    </tr>\n  </tbody>\n</table>\n</div>"
          },
          "metadata": {}
        }
      ]
    },
    {
      "cell_type": "markdown",
      "metadata": {
        "formattedRanges": [],
        "cell_id": "31ad228cdda24e2298aa02ba10f81e0b",
        "deepnote_cell_type": "text-cell-h3",
        "id": "LjKm5CUMwlVe"
      },
      "source": [
        "### Определить топ-3 региона по среднему чеку."
      ]
    },
    {
      "cell_type": "code",
      "metadata": {
        "source_hash": "f161e0f6",
        "execution_start": 1745325070654,
        "execution_millis": 1,
        "execution_context_id": "97b0769b-0061-424c-b558-cfb7d22a56a9",
        "cell_id": "08c6279dd7964e5d8bd464c541ad2b6b",
        "deepnote_cell_type": "code",
        "id": "5IS0ck01wlVe",
        "outputId": "4ed1b012-cbad-4846-857b-25c6ac6aaf73"
      },
      "source": [
        "avg_total_revenue_by_channel = (\n",
        "    data.groupby('region')['total_revenue']\n",
        "    .mean()\n",
        "    .round(2)\n",
        "    .reset_index()\n",
        "    .sort_values('total_revenue', ascending=False)\n",
        ")\n",
        "avg_total_revenue_by_channel = avg_total_revenue_by_channel.reset_index(drop=True)\n",
        "avg_total_revenue_by_channel.index = avg_total_revenue_by_channel.index + 1\n",
        "avg_total_revenue_by_channel.head(3)"
      ],
      "execution_count": null,
      "outputs": [
        {
          "output_type": "execute_result",
          "execution_count": 37,
          "data": {
            "application/vnd.deepnote.dataframe.v3+json": {
              "column_count": 2,
              "row_count": 3,
              "columns": [
                {
                  "name": "region",
                  "dtype": "object",
                  "stats": {
                    "unique_count": 3,
                    "nan_count": 0,
                    "categories": [
                      {
                        "name": "UK",
                        "count": 1
                      },
                      {
                        "name": "United States",
                        "count": 1
                      },
                      {
                        "name": "France",
                        "count": 1
                      }
                    ]
                  }
                },
                {
                  "name": "total_revenue",
                  "dtype": "float64",
                  "stats": {
                    "unique_count": 3,
                    "nan_count": 0,
                    "min": "1296.87",
                    "max": "1596.3",
                    "histogram": [
                      {
                        "bin_start": 1296.87,
                        "bin_end": 1326.8129999999999,
                        "count": 1
                      },
                      {
                        "bin_start": 1326.8129999999999,
                        "bin_end": 1356.7559999999999,
                        "count": 0
                      },
                      {
                        "bin_start": 1356.7559999999999,
                        "bin_end": 1386.6989999999998,
                        "count": 0
                      },
                      {
                        "bin_start": 1386.6989999999998,
                        "bin_end": 1416.6419999999998,
                        "count": 0
                      },
                      {
                        "bin_start": 1416.6419999999998,
                        "bin_end": 1446.585,
                        "count": 0
                      },
                      {
                        "bin_start": 1446.585,
                        "bin_end": 1476.5279999999998,
                        "count": 0
                      },
                      {
                        "bin_start": 1476.5279999999998,
                        "bin_end": 1506.471,
                        "count": 0
                      },
                      {
                        "bin_start": 1506.471,
                        "bin_end": 1536.414,
                        "count": 0
                      },
                      {
                        "bin_start": 1536.414,
                        "bin_end": 1566.357,
                        "count": 1
                      },
                      {
                        "bin_start": 1566.357,
                        "bin_end": 1596.3,
                        "count": 1
                      }
                    ]
                  }
                },
                {
                  "name": "_deepnote_index_column",
                  "dtype": "int64"
                }
              ],
              "rows": [
                {
                  "region": "UK",
                  "total_revenue": 1596.3,
                  "_deepnote_index_column": 1
                },
                {
                  "region": "United States",
                  "total_revenue": 1552.06,
                  "_deepnote_index_column": 2
                },
                {
                  "region": "France",
                  "total_revenue": 1296.87,
                  "_deepnote_index_column": 3
                }
              ],
              "type": "dataframe"
            },
            "text/plain": "          region  total_revenue\n1             UK        1596.30\n2  United States        1552.06\n3         France        1296.87",
            "text/html": "<div>\n<style scoped>\n    .dataframe tbody tr th:only-of-type {\n        vertical-align: middle;\n    }\n\n    .dataframe tbody tr th {\n        vertical-align: top;\n    }\n\n    .dataframe thead th {\n        text-align: right;\n    }\n</style>\n<table border=\"1\" class=\"dataframe\">\n  <thead>\n    <tr style=\"text-align: right;\">\n      <th></th>\n      <th>region</th>\n      <th>total_revenue</th>\n    </tr>\n  </thead>\n  <tbody>\n    <tr>\n      <th>1</th>\n      <td>UK</td>\n      <td>1596.30</td>\n    </tr>\n    <tr>\n      <th>2</th>\n      <td>United States</td>\n      <td>1552.06</td>\n    </tr>\n    <tr>\n      <th>3</th>\n      <td>France</td>\n      <td>1296.87</td>\n    </tr>\n  </tbody>\n</table>\n</div>"
          },
          "metadata": {}
        }
      ]
    },
    {
      "cell_type": "markdown",
      "metadata": {
        "formattedRanges": [],
        "cell_id": "42982c5cfddd4da48fefc0a10688b713",
        "deepnote_cell_type": "text-cell-h3",
        "id": "ZR7elEd6wlVe"
      },
      "source": [
        "### Определить топ-3 месяца по среднему чеку с разбивкой по регионам."
      ]
    },
    {
      "cell_type": "code",
      "metadata": {
        "source_hash": "1ca12173",
        "execution_start": 1745325070704,
        "execution_millis": 1,
        "execution_context_id": "97b0769b-0061-424c-b558-cfb7d22a56a9",
        "cell_id": "5d9393468643479a8029d4e77ae1c62d",
        "deepnote_cell_type": "code",
        "id": "RWP9a-E1wlVe",
        "outputId": "39314b4e-d4c7-4a91-cd5a-5fec6b5f417f"
      },
      "source": [
        "avg_total_revenue_by_month_region = (\n",
        "    data.groupby(['region', 'month'])['total_revenue']\n",
        "    .mean()\n",
        "    .round(2)\n",
        "    .reset_index()\n",
        ")\n",
        "\n",
        "top_3_months_by_region = (\n",
        "    avg_total_revenue_by_month_region\n",
        "    .sort_values(['region', 'total_revenue'], ascending=[True, False])\n",
        "    .groupby('region')\n",
        "    .head(3)\n",
        "    .reset_index(drop=True)\n",
        ")\n",
        "\n",
        "top3_channels = top_3_months_by_region.set_index(['region', 'month'])\n",
        "print(top3_channels)"
      ],
      "execution_count": null,
      "outputs": [
        {
          "name": "stdout",
          "text": "                     total_revenue\nregion        month               \nFrance        6            2264.30\n              10           1549.71\n              5            1229.19\nGermany       8            2244.57\n              6            1352.15\n              5            1166.43\nUK            8            2240.34\n              6            1941.75\n              10           1926.96\nUnited States 8            2133.23\n              7            1755.01\n              6            1688.36\n",
          "output_type": "stream"
        }
      ]
    },
    {
      "cell_type": "markdown",
      "metadata": {
        "formattedRanges": [],
        "cell_id": "9eb5e61ef8944a7da11f9a2a49d27401",
        "deepnote_cell_type": "text-cell-h3",
        "id": "ou8I4-B4wlVe"
      },
      "source": [
        "### Посчитать MAU по каждому месяцу с разбивкой по рекламным каналам и выделить топ-3 рекламных каналов по количеству уникальных пользователей в месяц"
      ]
    },
    {
      "cell_type": "code",
      "metadata": {
        "source_hash": "7ad49cf0",
        "execution_start": 1745325070754,
        "execution_millis": 1,
        "execution_context_id": "97b0769b-0061-424c-b558-cfb7d22a56a9",
        "cell_id": "65167c99c9c6499d8edbf972eeaecc59",
        "deepnote_cell_type": "code",
        "id": "MJ-hauCDwlVe",
        "outputId": "8e7fea9a-6f73-4c9b-9afb-cb0fb7851f35"
      },
      "source": [
        "mau_by_channel = (\n",
        "    data.groupby(['month', 'channel'])['user_id']\n",
        "    .nunique()\n",
        "    .reset_index(name='mau')\n",
        ")\n",
        "\n",
        "top3_channels = (\n",
        "    mau_by_channel\n",
        "    .sort_values(['month', 'mau'], ascending=[True, False])\n",
        "    .groupby('month')\n",
        "    .head(3)\n",
        ")\n",
        "\n",
        "top3_channels = top3_channels.set_index(['month', 'channel'])\n",
        "\n",
        "print(top3_channels)"
      ],
      "execution_count": null,
      "outputs": [
        {
          "name": "stdout",
          "text": "                           mau\nmonth channel                 \n5     organic               76\n      социальные сети       41\n      реклама у блогеров    14\n6     organic               59\n      социальные сети       53\n      контекстная реклама   28\n7     социальные сети       57\n      organic               46\n      контекстная реклама   24\n8     социальные сети       68\n      organic               61\n      контекстная реклама   37\n9     социальные сети       67\n      organic               58\n      контекстная реклама   38\n10    социальные сети       85\n      organic               47\n      контекстная реклама   27\n",
          "output_type": "stream"
        }
      ]
    },
    {
      "cell_type": "markdown",
      "metadata": {
        "is_collapsed": false,
        "formattedRanges": [],
        "deepnote_app_block_visible": false,
        "cell_id": "b1b34fcdfef24af9bcb3c4fcae3354f1",
        "deepnote_cell_type": "text-cell-h3",
        "id": "3X4qjydEwlVf"
      },
      "source": [
        "### Составить таблицу в которой будет указано по рекламным каналам: количество пользователей, количество уникальных пользователей, количество платящих пользователей, сумма продаж и определить какой источник “принес” больше всего платящих пользователей и большую сумму продаж."
      ]
    },
    {
      "cell_type": "code",
      "metadata": {
        "source_hash": "d2335cd2",
        "execution_start": 1745325070804,
        "execution_millis": 1,
        "execution_context_id": "97b0769b-0061-424c-b558-cfb7d22a56a9",
        "cell_id": "c249a9dc74a547a78212ce2311118448",
        "deepnote_cell_type": "code",
        "id": "3p9KsKudwlVf",
        "outputId": "a05752ae-bcd6-44ba-ab1f-b2f10d40ef54"
      },
      "source": [
        "channels_info = data.groupby('channel').agg(\n",
        "    total_users=('user_id', 'count'),\n",
        "    unique_users=('user_id', 'nunique'),\n",
        "    paying_users=('payer', 'sum'),\n",
        "    total_sales=('total_revenue', 'sum')\n",
        ").reset_index()\n",
        "\n",
        "max_payers = channels_info.loc[channels_info['paying_users'].idxmax()].values[0]\n",
        "max_sales = channels_info.loc[channels_info['total_sales'].idxmax()].values[0]\n",
        "\n",
        "print(channels_info)\n",
        "print('\\nКанал с максимальным количеством платящих пользователей -', max_payers)\n",
        "print('Канал с максимальной суммой продаж -', max_sales)"
      ],
      "execution_count": null,
      "outputs": [
        {
          "name": "stdout",
          "text": "               channel  total_users  unique_users  paying_users  total_sales\n0       email-рассылки           24            23             7      36493.3\n1              organic          347           346            88     475814.8\n2  контекстная реклама          162           159            45     230156.6\n3   реклама у блогеров          101           100            29     156271.3\n4      социальные сети          374           369           112     617790.9\n\nКанал с максимальным количеством платящих пользователей - социальные сети\nКанал с максимальной суммой продаж - социальные сети\n",
          "output_type": "stream"
        }
      ]
    },
    {
      "cell_type": "markdown",
      "metadata": {
        "formattedRanges": [],
        "cell_id": "a9c1ec63681e4a378a1e12f521dbbbd2",
        "deepnote_cell_type": "text-cell-h1",
        "id": "fBpaycWPwlVf"
      },
      "source": [
        "# Проверка гипотез"
      ]
    },
    {
      "cell_type": "code",
      "metadata": {
        "source_hash": "2ef9aa9f",
        "execution_start": 1745325070854,
        "execution_millis": 0,
        "execution_context_id": "97b0769b-0061-424c-b558-cfb7d22a56a9",
        "cell_id": "3d4dfde7e7ca43a29b98ed4e4b3a7ade",
        "deepnote_cell_type": "code",
        "id": "hl85hNzxwlVf"
      },
      "source": [
        "from scipy.stats import mannwhitneyu, ttest_ind, shapiro, spearmanr, kruskal, f_oneway\n",
        "import warnings\n",
        "warnings.filterwarnings('ignore')"
      ],
      "execution_count": null,
      "outputs": []
    },
    {
      "cell_type": "markdown",
      "metadata": {
        "formattedRanges": [],
        "cell_id": "105ebd8949424212855663daf1fd18a3",
        "deepnote_cell_type": "text-cell-h3",
        "id": "PmKnpAKSwlVf"
      },
      "source": [
        "### Тест на нормальность"
      ]
    },
    {
      "cell_type": "code",
      "metadata": {
        "source_hash": "304fc11c",
        "execution_start": 1745325070904,
        "execution_millis": 0,
        "execution_context_id": "97b0769b-0061-424c-b558-cfb7d22a56a9",
        "cell_id": "e1c6022b28054b8d8bdcdc9eabe0fcb0",
        "deepnote_cell_type": "code",
        "id": "o5ntaEkgwlVg"
      },
      "source": [
        "def check_normality(data):\n",
        "    normality_results = {}\n",
        "    for group, values in data.items():\n",
        "        if len(values) >= 3:\n",
        "            stat, p_value = shapiro(values)\n",
        "            normality_results[group] = p_value\n",
        "        else:\n",
        "            normality_results[group] = None\n",
        "    return normality_results"
      ],
      "execution_count": null,
      "outputs": []
    },
    {
      "cell_type": "markdown",
      "metadata": {
        "formattedRanges": [],
        "cell_id": "fa8bc3fd5c9645f499ade7bb71245d89",
        "deepnote_cell_type": "text-cell-h3",
        "id": "lapZx0A8wlVg"
      },
      "source": [
        "### Влияет ли тип устройства на количество покупок в день по каждому региону?"
      ]
    },
    {
      "cell_type": "markdown",
      "metadata": {
        "formattedRanges": [],
        "cell_id": "d7c7850b593f4eda8f80a732b9dd1c92",
        "deepnote_cell_type": "text-cell-p",
        "id": "bRAf9sWuwlVg"
      },
      "source": [
        "    H₀ (нулевая гипотеза): Количество покупок в день не зависит от типа устройства в регионе\n",
        "    H₁ (альтернативная гипотеза): Количество покупок в день зависит от типа устройства в регионе"
      ]
    },
    {
      "cell_type": "markdown",
      "metadata": {
        "formattedRanges": [],
        "cell_id": "4041c65f1d56436eaa285cf3b09af8fd",
        "deepnote_cell_type": "text-cell-p",
        "id": "DSwefdgbwlVg"
      },
      "source": [
        "Тип устройства (device) - номинальная шкала\n",
        "Количество покупок в день по каждому региону - количественная шкала\n",
        "Используем либо ANOVA, либо критерий Краскела-Уоллиса"
      ]
    },
    {
      "cell_type": "markdown",
      "metadata": {
        "formattedRanges": [
          {
            "type": "marks",
            "marks": {
              "bold": true
            },
            "toCodePoint": 25,
            "fromCodePoint": 0
          }
        ],
        "cell_id": "1f861be528b446798909206f127f6d4a",
        "deepnote_cell_type": "text-cell-p",
        "id": "XARJAgYYwlVg"
      },
      "source": [
        "Проверяем на нормальность"
      ]
    },
    {
      "cell_type": "code",
      "metadata": {
        "source_hash": "da0608af",
        "execution_start": 1745325070954,
        "execution_millis": 1,
        "execution_context_id": "97b0769b-0061-424c-b558-cfb7d22a56a9",
        "cell_id": "0e787e87828e40f49c47031f019ae23c",
        "deepnote_cell_type": "code",
        "id": "Yz0LynLjwlVg",
        "outputId": "f8c3e4f4-feb1-4b9f-f613-339b4d0d6179"
      },
      "source": [
        "grouped1 = (data.groupby(['region', 'device', 'session_date'])\n",
        "    .agg({'user_id': 'count'})\n",
        "    .rename(columns={'user_id': 'sessions'})\n",
        "    .reset_index()\n",
        ")\n",
        "data_by_region_device = {}\n",
        "for (region, device), group in grouped1.groupby(['region', 'device']):\n",
        "    data_by_region_device[(region, device)] = group['sessions']\n",
        "\n",
        "print(\"Результаты проверки нормальности (p-value):\")\n",
        "normality_results = check_normality(data_by_region_device)\n",
        "\n",
        "for group, p_value in normality_results.items():\n",
        "    region, device = group\n",
        "    print(f\"Регион {region}, канал {device}: p-value = {p_value:.4f}\")"
      ],
      "execution_count": null,
      "outputs": [
        {
          "name": "stdout",
          "text": "Результаты проверки нормальности (p-value):\nРегион France, канал Android: p-value = 0.0000\nРегион France, канал Mac: p-value = 1.0000\nРегион France, канал PC: p-value = 0.0000\nРегион France, канал iPhone: p-value = 0.0000\nРегион Germany, канал Android: p-value = 0.0000\nРегион Germany, канал Mac: p-value = 1.0000\nРегион Germany, канал PC: p-value = 0.0000\nРегион Germany, канал iPhone: p-value = 0.0000\nРегион UK, канал Android: p-value = 0.0000\nРегион UK, канал Mac: p-value = 1.0000\nРегион UK, канал PC: p-value = 0.0000\nРегион UK, канал iPhone: p-value = 0.0000\nРегион United States, канал Android: p-value = 0.0000\nРегион United States, канал Mac: p-value = 0.0000\nРегион United States, канал PC: p-value = 0.0000\nРегион United States, канал iPhone: p-value = 0.0000\n",
          "output_type": "stream"
        }
      ]
    },
    {
      "cell_type": "markdown",
      "metadata": {
        "formattedRanges": [
          {
            "type": "marks",
            "marks": {
              "bold": true
            },
            "toCodePoint": 63,
            "fromCodePoint": 0
          }
        ],
        "cell_id": "46b84831319840609528fbbe26a2b46a",
        "deepnote_cell_type": "text-cell-p",
        "id": "j4yqsSlDwlVg"
      },
      "source": [
        "Дата - ненормальная, тогда используем критерий Краскела-Уоллиса"
      ]
    },
    {
      "cell_type": "code",
      "metadata": {
        "source_hash": "eef43edb",
        "execution_start": 1745326132930,
        "execution_millis": 27,
        "execution_context_id": "97b0769b-0061-424c-b558-cfb7d22a56a9",
        "cell_id": "90ef82785ac24d7196c9e4c1a0c762d4",
        "deepnote_cell_type": "code",
        "id": "x22JKIe9wlVg",
        "outputId": "7dbced12-22b6-491f-bda2-1943046c21d0"
      },
      "source": [
        "def test_device_effect_on_purchases(df):\n",
        "    print(\"Результаты проверки гипотез:\")\n",
        "    for region in df['region'].unique():\n",
        "        region_data = grouped1[grouped1['region'] == region]\n",
        "\n",
        "        device_groups = [\n",
        "            region_data[region_data['device'] == device]['sessions']\n",
        "            for device in region_data['device'].unique()\n",
        "        ]\n",
        "\n",
        "        stat, p_value = kruskal(*device_groups)\n",
        "        print(f\"Регион {region}: p-value = {p_value:.4f}\")\n",
        "\n",
        "\n",
        "test_device_effect_on_purchases(data)"
      ],
      "execution_count": null,
      "outputs": [
        {
          "name": "stdout",
          "text": "Результаты проверки гипотез:\nРегион United States: p-value = 0.0000\nРегион France: p-value = 0.8625\nРегион Germany: p-value = 0.2218\nРегион UK: p-value = 0.1921\n",
          "output_type": "stream"
        }
      ]
    },
    {
      "cell_type": "markdown",
      "metadata": {
        "formattedRanges": [],
        "cell_id": "56cf8f8fda4f41a79f715db6236c89bd",
        "deepnote_cell_type": "text-cell-p",
        "id": "RvoLFBd9wlVg"
      },
      "source": [
        "1. Регион United States: p-value = 0.0000"
      ]
    },
    {
      "cell_type": "markdown",
      "metadata": {
        "formattedRanges": [
          {
            "type": "marks",
            "marks": {
              "bold": true
            },
            "toCodePoint": 28,
            "fromCodePoint": 16
          },
          {
            "type": "marks",
            "marks": {
              "bold": true
            },
            "toCodePoint": 122,
            "fromCodePoint": 115
          }
        ],
        "cell_id": "a6ee042c26c7426484d9b159425fe3d8",
        "deepnote_cell_type": "text-cell-p",
        "id": "-QRLGUDcwlVg"
      },
      "source": [
        "    Решение: Мы отвергаем H₀, так как p-value ≤ 0.05.\n",
        "    Вывод: В регионе United States количество покупок в день зависит от типа устройства."
      ]
    },
    {
      "cell_type": "markdown",
      "metadata": {
        "formattedRanges": [],
        "cell_id": "7283591c58734517aa2d887fb496d206",
        "deepnote_cell_type": "text-cell-p",
        "id": "fuRY7ztTwlVg"
      },
      "source": [
        "2. Регион France: p-value = 0.8625"
      ]
    },
    {
      "cell_type": "markdown",
      "metadata": {
        "formattedRanges": [
          {
            "type": "marks",
            "marks": {
              "bold": true
            },
            "toCodePoint": 31,
            "fromCodePoint": 16
          },
          {
            "type": "marks",
            "marks": {
              "bold": true
            },
            "toCodePoint": 121,
            "fromCodePoint": 111
          }
        ],
        "cell_id": "4806c5c1e7df48f9ad36c706f9850b4a",
        "deepnote_cell_type": "text-cell-p",
        "id": "1EqdnmK8wlVg"
      },
      "source": [
        "    Решение: Мы не отвергаем H₀, так как p-value > 0.05.\n",
        "    Вывод: В регионе France количество покупок в день не зависит от типа устройства."
      ]
    },
    {
      "cell_type": "markdown",
      "metadata": {
        "formattedRanges": [],
        "cell_id": "639094b1924d47358d3239f4537109d9",
        "deepnote_cell_type": "text-cell-p",
        "id": "NJQnA1F-wlVg"
      },
      "source": [
        "3. Регион Germany: p-value = 0.2218"
      ]
    },
    {
      "cell_type": "markdown",
      "metadata": {
        "formattedRanges": [
          {
            "type": "marks",
            "marks": {
              "bold": true
            },
            "toCodePoint": 31,
            "fromCodePoint": 16
          },
          {
            "type": "marks",
            "marks": {
              "bold": true
            },
            "toCodePoint": 122,
            "fromCodePoint": 112
          }
        ],
        "cell_id": "5719237333824e29939cf95d4c19beea",
        "deepnote_cell_type": "text-cell-p",
        "id": "mpuseyNCwlVg"
      },
      "source": [
        "    Решение: Мы не отвергаем H₀, так как p-value > 0.05.\n",
        "    Вывод: В регионе Germany количество покупок в день не зависит от типа устройства."
      ]
    },
    {
      "cell_type": "markdown",
      "metadata": {
        "formattedRanges": [],
        "cell_id": "30e1359950ac4547807527dbd73c5c76",
        "deepnote_cell_type": "text-cell-p",
        "id": "wmcRXqRxwlVg"
      },
      "source": [
        "4. Регион UK: p-value = 0.1921"
      ]
    },
    {
      "cell_type": "markdown",
      "metadata": {
        "formattedRanges": [
          {
            "type": "marks",
            "marks": {
              "bold": true
            },
            "toCodePoint": 31,
            "fromCodePoint": 16
          },
          {
            "type": "marks",
            "marks": {
              "bold": true
            },
            "toCodePoint": 117,
            "fromCodePoint": 107
          }
        ],
        "cell_id": "3a39c74ee63c45a5b2b2d2c1f70b05ab",
        "deepnote_cell_type": "text-cell-p",
        "id": "sVhTQ2tPwlVg"
      },
      "source": [
        "    Решение: Мы не отвергаем H₀, так как p-value > 0.05.\n",
        "    Вывод: В регионе UK количество покупок в день не зависит от типа устройства."
      ]
    },
    {
      "cell_type": "markdown",
      "metadata": {
        "formattedRanges": [],
        "cell_id": "20f3d47051fe4dc5b397c69a7d5ec056",
        "deepnote_cell_type": "text-cell-p",
        "id": "pFc-o1xCwlVg"
      },
      "source": []
    },
    {
      "cell_type": "markdown",
      "metadata": {
        "formattedRanges": [],
        "cell_id": "b89d90e43eda47ab9339fd9894ae0ef2",
        "deepnote_cell_type": "text-cell-h3",
        "id": "LmBzS8eFwlVg"
      },
      "source": [
        "### Влияет ли тип рекламного канала на количество покупок в день по каждому региону?"
      ]
    },
    {
      "cell_type": "markdown",
      "metadata": {
        "formattedRanges": [],
        "cell_id": "0fd1c985031b4b32b8ba7946c3307957",
        "deepnote_cell_type": "text-cell-p",
        "id": "GzykbjkgwlVh"
      },
      "source": [
        "    H₀ (нулевая гипотеза): Количество покупок в день не зависит от типа рекламного канала в каждом регионе\n",
        "    H₁ (альтернативная гипотеза): Количество покупок в день зависит от типа рекламного канала в каждом регионе"
      ]
    },
    {
      "cell_type": "markdown",
      "metadata": {
        "formattedRanges": [],
        "cell_id": "15c4fa94bb2a4c09827db90d38532bcb",
        "deepnote_cell_type": "text-cell-p",
        "id": "_JPEGc-VwlVh"
      },
      "source": [
        "Тип рекламного канала (channel) - номинальная шкала\n",
        "Количество покупок в день по каждому региону - количественная шкала\n",
        "Используем либо ANOVA, либо критерий Краскела-Уоллиса"
      ]
    },
    {
      "cell_type": "markdown",
      "metadata": {
        "formattedRanges": [
          {
            "type": "marks",
            "marks": {
              "bold": true
            },
            "toCodePoint": 25,
            "fromCodePoint": 0
          }
        ],
        "cell_id": "3e82b3dc1f534ee0a2155ad2bcf12d10",
        "deepnote_cell_type": "text-cell-p",
        "id": "FgsIIJxHwlVh"
      },
      "source": [
        "Проверяем на нормальность"
      ]
    },
    {
      "cell_type": "code",
      "metadata": {
        "source_hash": "d901569b",
        "execution_start": 1745325071084,
        "execution_millis": 1,
        "execution_context_id": "97b0769b-0061-424c-b558-cfb7d22a56a9",
        "cell_id": "10df6a869fe24c24a86c6e8e6bc05d42",
        "deepnote_cell_type": "code",
        "id": "vHaVT3VewlVh",
        "outputId": "929d238c-3b51-437f-8970-a544c3fe5dce"
      },
      "source": [
        "grouped2 = (\n",
        "    data.groupby(['region', 'channel', 'session_date'])\n",
        "    .agg({'user_id': 'count'})\n",
        "    .rename(columns={'user_id': 'sessions'})\n",
        "    .reset_index()\n",
        ")\n",
        "\n",
        "data_by_region_channel = {}\n",
        "for (region, channel), group in grouped2.groupby(['region', 'channel']):\n",
        "    data_by_region_channel[(region, channel)] = group['sessions']\n",
        "\n",
        "print(\"Результаты проверки нормальности (p-value):\")\n",
        "normality_results = check_normality(data_by_region_channel)\n",
        "\n",
        "for group, p_value in normality_results.items():\n",
        "    region, channel = group\n",
        "    print(f\"Регион {region}, канал {channel}: p-value = {p_value:.4f}\")\n",
        ""
      ],
      "execution_count": null,
      "outputs": [
        {
          "name": "stdout",
          "text": "Результаты проверки нормальности (p-value):\nРегион France, канал email-рассылки: p-value = 0.0000\nРегион France, канал organic: p-value = 0.0000\nРегион France, канал контекстная реклама: p-value = 0.0000\nРегион France, канал реклама у блогеров: p-value = 0.0000\nРегион Germany, канал email-рассылки: p-value = 1.0000\nРегион Germany, канал organic: p-value = 0.0000\nРегион Germany, канал контекстная реклама: p-value = 0.0000\nРегион Germany, канал реклама у блогеров: p-value = 1.0000\nРегион UK, канал email-рассылки: p-value = 1.0000\nРегион UK, канал organic: p-value = 0.0000\nРегион UK, канал контекстная реклама: p-value = 0.0000\nРегион UK, канал реклама у блогеров: p-value = 0.0000\nРегион United States, канал organic: p-value = 0.0000\nРегион United States, канал контекстная реклама: p-value = 0.0000\nРегион United States, канал реклама у блогеров: p-value = 0.0000\nРегион United States, канал социальные сети: p-value = 0.0000\n",
          "output_type": "stream"
        }
      ]
    },
    {
      "cell_type": "markdown",
      "metadata": {
        "formattedRanges": [
          {
            "type": "marks",
            "marks": {
              "bold": true
            },
            "toCodePoint": 63,
            "fromCodePoint": 0
          }
        ],
        "cell_id": "03355f1669b7470ba5d5a39d19fafc5d",
        "deepnote_cell_type": "text-cell-p",
        "id": "_0Shr3GlwlVh"
      },
      "source": [
        "Дата - ненормальная, тогда используем критерий Краскела-Уоллиса"
      ]
    },
    {
      "cell_type": "code",
      "metadata": {
        "source_hash": "fac32238",
        "execution_start": 1745325071135,
        "execution_millis": 0,
        "execution_context_id": "97b0769b-0061-424c-b558-cfb7d22a56a9",
        "cell_id": "a7a860e89532466780ac5271e9aa4d05",
        "deepnote_cell_type": "code",
        "id": "Wmlc582xwlVh",
        "outputId": "370fd18a-056e-415e-f38c-c69d400c1e06"
      },
      "source": [
        "def test_channel_effect_on_purchases(df):\n",
        "    print(\"Результаты проверки гипотез:\")\n",
        "    for region in df['region'].unique():\n",
        "        region_data = grouped2[grouped2['region'] == region]\n",
        "\n",
        "        channel_groups = [\n",
        "            region_data[region_data['channel'] == channel]['sessions']\n",
        "            for channel in region_data['channel'].unique()\n",
        "        ]\n",
        "\n",
        "        stat, p_value = kruskal(*channel_groups)\n",
        "        print(f\"Регион {region}: p-value = {p_value:.4f}\")\n",
        "\n",
        "\n",
        "test_channel_effect_on_purchases(data)"
      ],
      "execution_count": null,
      "outputs": [
        {
          "name": "stdout",
          "text": "Результаты проверки гипотез:\nРегион United States: p-value = 0.0000\nРегион France: p-value = 0.5260\nРегион Germany: p-value = 0.2164\nРегион UK: p-value = 0.1721\n",
          "output_type": "stream"
        }
      ]
    },
    {
      "cell_type": "markdown",
      "metadata": {
        "formattedRanges": [],
        "cell_id": "262112e31a6a4ab38ebcc304008aac25",
        "deepnote_cell_type": "text-cell-p",
        "id": "rVNC-iVSwlVh"
      },
      "source": [
        "1. Регион United States: p-value = 0.0000"
      ]
    },
    {
      "cell_type": "markdown",
      "metadata": {
        "formattedRanges": [
          {
            "type": "marks",
            "marks": {
              "bold": true
            },
            "toCodePoint": 28,
            "fromCodePoint": 16
          },
          {
            "type": "marks",
            "marks": {
              "bold": true
            },
            "toCodePoint": 122,
            "fromCodePoint": 115
          }
        ],
        "cell_id": "e57534aeb74b410cb579e7840ad67a04",
        "deepnote_cell_type": "text-cell-p",
        "id": "uSiWfEX3wlVh"
      },
      "source": [
        "    Решение: Мы отвергаем H₀, так как p-value ≤ 0.05.\n",
        "    Вывод: В регионе United States количество покупок в день зависит от типа рекламного канала."
      ]
    },
    {
      "cell_type": "markdown",
      "metadata": {
        "formattedRanges": [],
        "cell_id": "8fe9255d47a742a785857e7d5c0677d7",
        "deepnote_cell_type": "text-cell-p",
        "id": "A3uH7t9FwlVh"
      },
      "source": [
        "2. Регион France: p-value = 0.5260"
      ]
    },
    {
      "cell_type": "markdown",
      "metadata": {
        "formattedRanges": [
          {
            "type": "marks",
            "marks": {
              "bold": true
            },
            "toCodePoint": 31,
            "fromCodePoint": 16
          },
          {
            "type": "marks",
            "marks": {
              "bold": true
            },
            "toCodePoint": 121,
            "fromCodePoint": 111
          }
        ],
        "cell_id": "6a51a7f557784822ab457355fc99e3de",
        "deepnote_cell_type": "text-cell-p",
        "id": "g4KiRr38wlVh"
      },
      "source": [
        "    Решение: Мы не отвергаем H₀, так как p-value > 0.05.\n",
        "    Вывод: В регионе France количество покупок в день не зависит от типа рекламного канала."
      ]
    },
    {
      "cell_type": "markdown",
      "metadata": {
        "formattedRanges": [],
        "cell_id": "5adb3a1e365f4abd9a519ff1c0b457c4",
        "deepnote_cell_type": "text-cell-p",
        "id": "BCw8cCzqwlVh"
      },
      "source": [
        "3. Регион Germany: p-value = 0.2164"
      ]
    },
    {
      "cell_type": "markdown",
      "metadata": {
        "formattedRanges": [
          {
            "type": "marks",
            "marks": {
              "bold": true
            },
            "toCodePoint": 31,
            "fromCodePoint": 16
          },
          {
            "type": "marks",
            "marks": {
              "bold": true
            },
            "toCodePoint": 122,
            "fromCodePoint": 112
          }
        ],
        "cell_id": "49d676841d074f40820cf1e1a4ac4b53",
        "deepnote_cell_type": "text-cell-p",
        "id": "WYSvlXEFwlVh"
      },
      "source": [
        "    Решение: Мы не отвергаем H₀, так как p-value > 0.05.\n",
        "    Вывод: В регионе Germany количество покупок в день не зависит от типа рекламного канала."
      ]
    },
    {
      "cell_type": "markdown",
      "metadata": {
        "formattedRanges": [],
        "cell_id": "dc357ec335cd4c1fae98a0822821a1b9",
        "deepnote_cell_type": "text-cell-p",
        "id": "unwohYRzwlVh"
      },
      "source": [
        "4. Регион UK: p-value = 0.1721"
      ]
    },
    {
      "cell_type": "markdown",
      "metadata": {
        "formattedRanges": [
          {
            "type": "marks",
            "marks": {
              "bold": true
            },
            "toCodePoint": 31,
            "fromCodePoint": 16
          },
          {
            "type": "marks",
            "marks": {
              "bold": true
            },
            "toCodePoint": 117,
            "fromCodePoint": 107
          }
        ],
        "cell_id": "e05627ed3baf4c188066c9bb1bfc445b",
        "deepnote_cell_type": "text-cell-p",
        "id": "-wNLAOkYwlVh"
      },
      "source": [
        "    Решение: Мы не отвергаем H₀, так как p-value > 0.05.\n",
        "    Вывод: В регионе UK количество покупок в день не зависит от типа рекламного канала."
      ]
    },
    {
      "cell_type": "markdown",
      "metadata": {
        "formattedRanges": [],
        "cell_id": "71719101c3df4b0e8888f023ccde64a0",
        "deepnote_cell_type": "text-cell-p",
        "id": "rmrr_Pk_wlVh"
      },
      "source": []
    },
    {
      "cell_type": "markdown",
      "metadata": {
        "formattedRanges": [],
        "cell_id": "96b65bf2533145e1a1a6dd97c6f03ff8",
        "deepnote_cell_type": "text-cell-h3",
        "id": "EoCPEJ-iwlVh"
      },
      "source": [
        "### Есть ли взаимосвязь между продолжительностью сессии с суммой покупок?"
      ]
    },
    {
      "cell_type": "markdown",
      "metadata": {
        "formattedRanges": [],
        "cell_id": "592d6e34c8cf44a9b3b12b0aadf0bc63",
        "deepnote_cell_type": "text-cell-p",
        "id": "FoPdXKglwlVh"
      },
      "source": [
        "    H₀ (нулевая гипотеза): Сумма покупок не зависит от продолжительностью сессии\n",
        "    H₁ (альтернативная гипотеза): Сумма покупок зависит от продолжительностью сессии"
      ]
    },
    {
      "cell_type": "markdown",
      "metadata": {
        "formattedRanges": [],
        "cell_id": "3c6746a9492449ffafdee79a00027f5f",
        "deepnote_cell_type": "text-cell-p",
        "id": "3JyF0sJvwlVh"
      },
      "source": [
        "Продолжительность сессии (sessiondurationsec) - количественная шкала\n",
        "Сумма покупок (revenue) - количественная шкала\n",
        "Используем либо корреляцию Пирсона, либо корреляцию Спирмена"
      ]
    },
    {
      "cell_type": "markdown",
      "metadata": {
        "formattedRanges": [
          {
            "type": "marks",
            "marks": {
              "bold": true
            },
            "toCodePoint": 25,
            "fromCodePoint": 0
          }
        ],
        "cell_id": "1da195f8c1ee4781b9d408add6a17844",
        "deepnote_cell_type": "text-cell-p",
        "id": "uU0-1V7mwlVi"
      },
      "source": [
        "Проверяем на нормальность"
      ]
    },
    {
      "cell_type": "code",
      "metadata": {
        "source_hash": "34ac36c5",
        "execution_start": 1745325071184,
        "execution_millis": 0,
        "execution_context_id": "97b0769b-0061-424c-b558-cfb7d22a56a9",
        "cell_id": "386bdd0f6814423d869948e66316c5c9",
        "deepnote_cell_type": "code",
        "id": "77AbkrvbwlVi",
        "outputId": "ce387a54-03c6-4f49-ae4b-07ee0a2e9c57"
      },
      "source": [
        "normality = {'sessiondurationsec': data['sessiondurationsec'], 'revenue': data['revenue']}\n",
        "\n",
        "print(\"Результаты проверки нормальности (p-value):\")\n",
        "normality_results = check_normality(normality)\n",
        "\n",
        "for group, p_value in normality_results.items():\n",
        "    print(f\"Столбец {group}: p-value = {p_value:.4f}\")"
      ],
      "execution_count": null,
      "outputs": [
        {
          "name": "stdout",
          "text": "Результаты проверки нормальности (p-value):\nСтолбец sessiondurationsec: p-value = 0.0000\nСтолбец revenue: p-value = 0.0000\n",
          "output_type": "stream"
        }
      ]
    },
    {
      "cell_type": "markdown",
      "metadata": {
        "formattedRanges": [
          {
            "type": "marks",
            "marks": {
              "bold": true
            },
            "toCodePoint": 57,
            "fromCodePoint": 0
          }
        ],
        "cell_id": "c3acf643ee4146f08e0933989ab632d6",
        "deepnote_cell_type": "text-cell-p",
        "id": "7483CiUmwlVi"
      },
      "source": [
        "Дата - ненормальная, тогда используем корреляцию Спирмена"
      ]
    },
    {
      "cell_type": "code",
      "metadata": {
        "source_hash": "3e8b318d",
        "execution_start": 1745325071234,
        "execution_millis": 1,
        "execution_context_id": "97b0769b-0061-424c-b558-cfb7d22a56a9",
        "cell_id": "bcaef104ccbe4f049dd842571c77ed73",
        "deepnote_cell_type": "code",
        "id": "YRtg6n4pwlVi",
        "outputId": "98a80689-5662-45d5-8832-4a9cd14ef1b2"
      },
      "source": [
        "stat, p_value = spearmanr(data['sessiondurationsec'], data['revenue'])\n",
        "print(f\"Статистическая значимость: {stat:.4f}, p-value: {p_value:.4f}\")\n",
        "if p_value < 0.05:\n",
        "    print(\"Вывод: Есть статистически значимая взаимосвязь между продолжительностью сессии с суммой покупок\")\n",
        "else:\n",
        "    print(\"Вывод: Нет статистически значимой взаимосвязь между продолжительностью сессии с суммой покупок\")\n",
        "\n",
        "# plot = data.boxplot(column='revenue', by='region', figsize=(10,6))"
      ],
      "execution_count": null,
      "outputs": [
        {
          "name": "stdout",
          "text": "Статистическая значимость: 0.0301, p-value: 0.3394\nВывод: Нет статистически значимой взаимосвязь между продолжительностью сессии с суммой покупок\n",
          "output_type": "stream"
        }
      ]
    },
    {
      "cell_type": "markdown",
      "metadata": {
        "formattedRanges": [
          {
            "type": "marks",
            "marks": {
              "bold": true
            },
            "toCodePoint": 31,
            "fromCodePoint": 16
          },
          {
            "type": "marks",
            "marks": {
              "bold": true
            },
            "toCodePoint": 92,
            "fromCodePoint": 82
          }
        ],
        "cell_id": "3a2d15cf26eb4721b3f11c74928efbd7",
        "deepnote_cell_type": "text-cell-p",
        "id": "tDFFCXdCwlVi"
      },
      "source": [
        "    Решение: Мы не отвергаем H₀, так как p-value > 0.05.\n",
        "    Вывод: Сумма покупок не зависит от продолжительностью сессии"
      ]
    },
    {
      "cell_type": "markdown",
      "metadata": {
        "formattedRanges": [],
        "cell_id": "42fa74053f5447c0b351107eb8ab2399",
        "deepnote_cell_type": "text-cell-p",
        "id": "dtfeevhWwlVi"
      },
      "source": []
    },
    {
      "cell_type": "markdown",
      "metadata": {
        "formattedRanges": [],
        "cell_id": "2d902b35db4d41468367e20553a7a451",
        "deepnote_cell_type": "text-cell-h3",
        "id": "WNCRb2PvwlVi"
      },
      "source": [
        "### Проверить гипотезу о том, что средний чек отличается в зависимости от региона?"
      ]
    },
    {
      "cell_type": "markdown",
      "metadata": {
        "formattedRanges": [],
        "cell_id": "2b3e636cb28b48a1b5a3178d806f011b",
        "deepnote_cell_type": "text-cell-p",
        "id": "ua53ZjeUwlVi"
      },
      "source": [
        "    H₀ (нулевая гипотеза): Средний чек не зависит от региона\n",
        "    H₁ (альтернативная гипотеза): Средний чек зависит от региона"
      ]
    },
    {
      "cell_type": "markdown",
      "metadata": {
        "formattedRanges": [],
        "cell_id": "656c86fb723745e4823bf6b698767b98",
        "deepnote_cell_type": "text-cell-p",
        "id": "eSh9ba1zwlVi"
      },
      "source": [
        "Регион (region) - номинальная шкала\n",
        "Средний чек (revenue) - количественная шкала\n",
        "Используем либо ANOVA, либо критерий Краскела-Уоллиса"
      ]
    },
    {
      "cell_type": "markdown",
      "metadata": {
        "formattedRanges": [
          {
            "type": "marks",
            "marks": {
              "bold": true
            },
            "toCodePoint": 25,
            "fromCodePoint": 0
          }
        ],
        "cell_id": "1c5cc9c943ec4890b564b0ceb32ad11d",
        "deepnote_cell_type": "text-cell-p",
        "id": "IU0gyFTtwlVi"
      },
      "source": [
        "Проверяем на нормальность"
      ]
    },
    {
      "cell_type": "code",
      "metadata": {
        "source_hash": "d6d59a31",
        "execution_start": 1745325071284,
        "execution_millis": 1,
        "execution_context_id": "97b0769b-0061-424c-b558-cfb7d22a56a9",
        "cell_id": "9c48f21927dc426cac8eb4b6e96c6851",
        "deepnote_cell_type": "code",
        "id": "YqmhJhW6wlVi",
        "outputId": "b892f3ee-29bd-4ef0-9257-631dcaa2c7f5"
      },
      "source": [
        "grouped3 = data.groupby('region')['revenue']\n",
        "normality = {x: group for x, group in grouped3}\n",
        "\n",
        "print(\"Результаты проверки нормальности (p-value):\")\n",
        "normality_results = check_normality(normality)\n",
        "\n",
        "for region, p_value in normality_results.items():\n",
        "    print(f\"Регион {region}: p-value = {p_value:.4f}\")"
      ],
      "execution_count": null,
      "outputs": [
        {
          "name": "stdout",
          "text": "Результаты проверки нормальности (p-value):\nРегион France: p-value = 0.0000\nРегион Germany: p-value = 0.0000\nРегион UK: p-value = 0.0000\nРегион United States: p-value = 0.0000\n",
          "output_type": "stream"
        }
      ]
    },
    {
      "cell_type": "markdown",
      "metadata": {
        "formattedRanges": [
          {
            "type": "marks",
            "marks": {
              "bold": true
            },
            "toCodePoint": 63,
            "fromCodePoint": 0
          }
        ],
        "cell_id": "fc6c0659d2084e60b51b0e3aa8bd2886",
        "deepnote_cell_type": "text-cell-p",
        "id": "vpWldEyewlVi"
      },
      "source": [
        "Дата - ненормальная, тогда используем критерий Краскела-Уоллиса"
      ]
    },
    {
      "cell_type": "code",
      "metadata": {
        "source_hash": "b263ea31",
        "execution_start": 1745326210694,
        "execution_millis": 1,
        "execution_context_id": "97b0769b-0061-424c-b558-cfb7d22a56a9",
        "cell_id": "b6c0790a3ce945cba83fe51620acd7be",
        "deepnote_cell_type": "code",
        "id": "qAnNs9euwlVj",
        "outputId": "e011db37-0333-48db-99ea-3d020f4f1b5b"
      },
      "source": [
        "groups = [group for x, group in grouped3]\n",
        "\n",
        "stat, p_value = kruskal(*groups)\n",
        "\n",
        "print(f\"Статистическая значимость: {stat:.4f}, p-значение: {p_value:.4f}\")\n",
        "\n",
        "if p_value < 0.05:\n",
        "    print(\"Вывод: Средний чек статистически значимо отличается в зависимости от региона.\")\n",
        "else:\n",
        "    print(\"Вывод: Нет статистически значимых различий среднего чека в зависимости от региона.\")"
      ],
      "execution_count": null,
      "outputs": [
        {
          "name": "stdout",
          "text": "Статистическая значимость: 1.2801, p-значение: 0.7339\nВывод: Нет статистически значимых различий среднего чека в зависимости от региона.\n",
          "output_type": "stream"
        }
      ]
    },
    {
      "cell_type": "markdown",
      "metadata": {
        "formattedRanges": [
          {
            "type": "marks",
            "marks": {
              "bold": true
            },
            "toCodePoint": 31,
            "fromCodePoint": 16
          },
          {
            "type": "marks",
            "marks": {
              "bold": true
            },
            "toCodePoint": 90,
            "fromCodePoint": 80
          }
        ],
        "cell_id": "624cd4bcd4f34ac4b296c454a1fa59c2",
        "deepnote_cell_type": "text-cell-p",
        "id": "Y1aheajCwlVj"
      },
      "source": [
        "    Решение: Мы не отвергаем H₀, так как p-value > 0.05.\n",
        "    Вывод: Средний чек не зависит от региона"
      ]
    },
    {
      "cell_type": "markdown",
      "metadata": {
        "formattedRanges": [],
        "cell_id": "c0a41fa12a4245b6812f557bdbe536bb",
        "deepnote_cell_type": "text-cell-p",
        "id": "JaVzAvnewlVj"
      },
      "source": []
    },
    {
      "cell_type": "markdown",
      "metadata": {
        "formattedRanges": [],
        "cell_id": "824ed51d2d1b42ed989bffd0a0d19eda",
        "deepnote_cell_type": "text-cell-h3",
        "id": "W1WnZ4rQwlVj"
      },
      "source": [
        "### Проверить гипотезу о том, что средний чек отличается в зависимости от рекламного канала?"
      ]
    },
    {
      "cell_type": "markdown",
      "metadata": {
        "formattedRanges": [],
        "cell_id": "9e16b3233ce94818ae037766943da74a",
        "deepnote_cell_type": "text-cell-p",
        "id": "AFwHp9y8wlVj"
      },
      "source": [
        "    H₀ (нулевая гипотеза): Средний чек не зависит от рекламного канала\n",
        "    H₁ (альтернативная гипотеза): Средний чек зависит от рекламного канала"
      ]
    },
    {
      "cell_type": "markdown",
      "metadata": {
        "formattedRanges": [],
        "cell_id": "c2c19d5736e544aaa0b0c0352d1d7fba",
        "deepnote_cell_type": "text-cell-p",
        "id": "qFi5CoQrwlVj"
      },
      "source": [
        "Рекламный канал (channel) - номинальная шкала\n",
        "Средний чек (revenue) - количественная шкала\n",
        "Используем либо ANOVA, либо критерий Краскела-Уоллиса"
      ]
    },
    {
      "cell_type": "markdown",
      "metadata": {
        "formattedRanges": [
          {
            "type": "marks",
            "marks": {
              "bold": true
            },
            "toCodePoint": 25,
            "fromCodePoint": 0
          }
        ],
        "cell_id": "66de487d9a3b4005a1b273b3262866f6",
        "deepnote_cell_type": "text-cell-p",
        "id": "3f5B64ajwlVj"
      },
      "source": [
        "Проверяем на нормальность"
      ]
    },
    {
      "cell_type": "code",
      "metadata": {
        "source_hash": "d73663d",
        "execution_start": 1745325071384,
        "execution_millis": 1,
        "execution_context_id": "97b0769b-0061-424c-b558-cfb7d22a56a9",
        "cell_id": "96e29fb0032a4f30b65e155ac43a3488",
        "deepnote_cell_type": "code",
        "id": "kNH25DNTwlVj",
        "outputId": "9b1a72d4-dc9e-4a80-f2b8-1349754f327e"
      },
      "source": [
        "channel_revenue = data.groupby('channel')['revenue']\n",
        "channels = data['channel'].unique()\n",
        "normality = {channel: data[data['channel'] == channel]['revenue'] for channel in channels}\n",
        "\n",
        "print(\"Результаты проверки нормальности (p-value):\")\n",
        "normality_results = check_normality(normality)\n",
        "\n",
        "for channel, p_value in normality_results.items():\n",
        "    print(f\"Рекламный канал {channel}: p-value = {p_value:.4f}\")"
      ],
      "execution_count": null,
      "outputs": [
        {
          "name": "stdout",
          "text": "Результаты проверки нормальности (p-value):\nРекламный канал социальные сети: p-value = 0.0000\nРекламный канал organic: p-value = 0.0000\nРекламный канал реклама у блогеров: p-value = 0.0000\nРекламный канал контекстная реклама: p-value = 0.0000\nРекламный канал email-рассылки: p-value = 0.0000\n",
          "output_type": "stream"
        }
      ]
    },
    {
      "cell_type": "markdown",
      "metadata": {
        "formattedRanges": [
          {
            "type": "marks",
            "marks": {
              "bold": true
            },
            "toCodePoint": 63,
            "fromCodePoint": 0
          }
        ],
        "cell_id": "fcb2ecd7928f4b448988dc63d080c750",
        "deepnote_cell_type": "text-cell-p",
        "id": "pRvpuuLTwlVj"
      },
      "source": [
        "Дата - ненормальная, тогда используем критерий Краскела-Уоллиса"
      ]
    },
    {
      "cell_type": "code",
      "metadata": {
        "source_hash": "431b2e6f",
        "execution_start": 1745325071434,
        "execution_millis": 1,
        "execution_context_id": "97b0769b-0061-424c-b558-cfb7d22a56a9",
        "cell_id": "3dea5e4b6ed94d0b9a8dd345fd83e513",
        "deepnote_cell_type": "code",
        "id": "gyVSqAh2wlVj",
        "outputId": "e4e763a6-4bf4-4137-e590-d9a0f8d34861"
      },
      "source": [
        "channel_revenue_data = [data[data['channel'] == channel]['revenue'] for channel in channels]\n",
        "stat, p_value = kruskal(*channel_revenue_data)\n",
        "\n",
        "print(f\"Статистическая значимость: {stat:.4f}, p-значение: {p_value:.4f}\")\n",
        "\n",
        "if p_value < 0.05:\n",
        "    print(\"Вывод: Средний чек статистически значимо отличается в зависимости от региона.\")\n",
        "else:\n",
        "    print(\"Вывод: Нет статистически значимых различий среднего чека в зависимости от канала.\")\n"
      ],
      "execution_count": null,
      "outputs": [
        {
          "name": "stdout",
          "text": "Статистическая значимость: 2.0590, p-значение: 0.7249\nВывод: Нет статистически значимых различий среднего чека в зависимости от канала.\n",
          "output_type": "stream"
        }
      ]
    },
    {
      "cell_type": "markdown",
      "metadata": {
        "formattedRanges": [
          {
            "type": "marks",
            "marks": {
              "bold": true
            },
            "toCodePoint": 31,
            "fromCodePoint": 16
          },
          {
            "type": "marks",
            "marks": {
              "bold": true
            },
            "toCodePoint": 90,
            "fromCodePoint": 80
          }
        ],
        "cell_id": "85f72d79df0c44f38a75b88d005def21",
        "deepnote_cell_type": "text-cell-p",
        "id": "cbmV67jywlVj"
      },
      "source": [
        "    Решение: Мы не отвергаем H₀, так как p-value > 0.05.\n",
        "    Вывод: Средний чек не зависит от рекламного канала"
      ]
    },
    {
      "cell_type": "markdown",
      "metadata": {
        "formattedRanges": [],
        "cell_id": "6d269a4b9bfc40c293cbf2cb5e06312b",
        "deepnote_cell_type": "text-cell-p",
        "id": "zLy77F6rwlVj"
      },
      "source": []
    },
    {
      "cell_type": "markdown",
      "metadata": {
        "formattedRanges": [],
        "cell_id": "28c7463cddd243d79b0c957ff90879ef",
        "deepnote_cell_type": "text-cell-h3",
        "id": "ftQBjbrmwlVj"
      },
      "source": [
        "### Проверить гипотезу о том, что средний чек отличается в зависимости от времени суток?"
      ]
    },
    {
      "cell_type": "markdown",
      "metadata": {
        "formattedRanges": [],
        "cell_id": "12b63c139e0a45f2af2c515e535d6f1a",
        "deepnote_cell_type": "text-cell-p",
        "id": "zUrKdz9YwlVj"
      },
      "source": [
        "    H₀ (нулевая гипотеза): Средний чек не зависит от времени суток\n",
        "    H₁ (альтернативная гипотеза): Средний чек зависит от времени суток"
      ]
    },
    {
      "cell_type": "markdown",
      "metadata": {
        "formattedRanges": [],
        "cell_id": "3676a57a8da54eeebdefeea29a466ad3",
        "deepnote_cell_type": "text-cell-p",
        "id": "9TC1LdlCwlVj"
      },
      "source": [
        "Время суток (time_of_day) - номинальная шкала\n",
        "Средний чек (revenue) - количественная шкала\n",
        "Используем либо ANOVA, либо критерий Краскела-Уоллиса"
      ]
    },
    {
      "cell_type": "markdown",
      "metadata": {
        "formattedRanges": [
          {
            "type": "marks",
            "marks": {
              "bold": true
            },
            "toCodePoint": 25,
            "fromCodePoint": 0
          }
        ],
        "cell_id": "a256ccff4ea74ce0814f7a12d9ccf011",
        "deepnote_cell_type": "text-cell-p",
        "id": "w1X_oUTcwlVj"
      },
      "source": [
        "Проверяем на нормальность"
      ]
    },
    {
      "cell_type": "code",
      "metadata": {
        "source_hash": "c7c51a53",
        "execution_start": 1745325071484,
        "execution_millis": 1,
        "execution_context_id": "97b0769b-0061-424c-b558-cfb7d22a56a9",
        "cell_id": "aaefdc5cd4b240e6adddcc12a83bc32b",
        "deepnote_cell_type": "code",
        "id": "r5BgybQ0wlVj",
        "outputId": "b79d8157-c1cd-48b5-aa83-a9463ffe96ba"
      },
      "source": [
        "data_by_time = {}\n",
        "for time_of_day, group in data.groupby('time_of_day'):\n",
        "    data_by_time[time_of_day] = group['revenue']\n",
        "\n",
        "print(\"Результаты проверки нормальности (p-value):\")\n",
        "normality_results = check_normality(data_by_time)\n",
        "\n",
        "for time_of_day, p_value in normality_results.items():\n",
        "    print(f\"Время суток: {time_of_day}, p-value = {p_value:.4f}\")"
      ],
      "execution_count": null,
      "outputs": [
        {
          "name": "stdout",
          "text": "Результаты проверки нормальности (p-value):\nВремя суток: вечер, p-value = 0.0000\nВремя суток: день, p-value = 0.0000\nВремя суток: ночь, p-value = 0.0000\nВремя суток: утро, p-value = 0.0000\n",
          "output_type": "stream"
        }
      ]
    },
    {
      "cell_type": "markdown",
      "metadata": {
        "formattedRanges": [
          {
            "type": "marks",
            "marks": {
              "bold": true
            },
            "toCodePoint": 63,
            "fromCodePoint": 0
          }
        ],
        "cell_id": "5e9f1c6cb0f2497ba745130c32e76021",
        "deepnote_cell_type": "text-cell-p",
        "id": "TEfuZbQXwlVk"
      },
      "source": [
        "Дата - ненормальная, тогда используем критерий Краскела-Уоллиса"
      ]
    },
    {
      "cell_type": "code",
      "metadata": {
        "source_hash": "555c1d8a",
        "execution_start": 1745325071534,
        "execution_millis": 0,
        "execution_context_id": "97b0769b-0061-424c-b558-cfb7d22a56a9",
        "cell_id": "51f7235c18d048098c68341239de344b",
        "deepnote_cell_type": "code",
        "id": "nx8rQlfLwlVk",
        "outputId": "b2f0e4df-ae15-48b3-91a2-a36d746bf2ab"
      },
      "source": [
        "def test_time_of_day_total_revenue(df):\n",
        "    print(\"Результаты проверки гипотезы:\")\n",
        "    groups = [group['revenue'] for x, group in df.groupby('time_of_day')]\n",
        "\n",
        "    stat, p_value = kruskal(*groups)\n",
        "    print(f\"Краскел-Уоллис: p-value = {p_value:.4f}\")\n",
        "\n",
        "\n",
        "test_time_of_day_total_revenue(data)"
      ],
      "execution_count": null,
      "outputs": [
        {
          "name": "stdout",
          "text": "Результаты проверки гипотезы:\nКраскел-Уоллис: p-value = 0.7545\n",
          "output_type": "stream"
        }
      ]
    },
    {
      "cell_type": "markdown",
      "metadata": {
        "formattedRanges": [
          {
            "type": "marks",
            "marks": {
              "bold": true
            },
            "toCodePoint": 27,
            "fromCodePoint": 12
          },
          {
            "type": "marks",
            "marks": {
              "bold": true
            },
            "toCodePoint": 74,
            "fromCodePoint": 72
          },
          {
            "type": "marks",
            "marks": {
              "bold": true
            },
            "toCodePoint": 82,
            "fromCodePoint": 75
          }
        ],
        "cell_id": "eaaf6d9941744b99bf309cbc8abea160",
        "deepnote_cell_type": "text-cell-p",
        "id": "KN81EKYLwlVk"
      },
      "source": [
        "Решение: Мы не отвергаем H₀, так как p-value > 0.05.\n",
        "Вывод: Средний чек не зависит от времени суток."
      ]
    },
    {
      "cell_type": "markdown",
      "metadata": {
        "formattedRanges": [],
        "cell_id": "5786cff286084c1aa6cd4dea692edb5b",
        "deepnote_cell_type": "text-cell-p",
        "id": "A3lY6wLlwlVk"
      },
      "source": []
    },
    {
      "cell_type": "markdown",
      "metadata": {
        "formattedRanges": [],
        "cell_id": "3458429df38a47c99d0088bda5b3621c",
        "deepnote_cell_type": "text-cell-h3",
        "id": "sw0b1rFRwlVk"
      },
      "source": [
        "### Влияет ли тип рекламного канала на сумму покупок по каждому региону?"
      ]
    },
    {
      "cell_type": "markdown",
      "metadata": {
        "formattedRanges": [],
        "cell_id": "e427637f1d894d31872bedf94c8ffe7e",
        "deepnote_cell_type": "text-cell-p",
        "id": "eqZhD5gtwlVk"
      },
      "source": [
        "    H₀ (нулевая гипотеза): Сумма покупок не зависит от типа рекламного канала в регионе\n",
        "    H₁ (альтернативная гипотеза): Сумма покупок зависит от типа рекламного канала в регионе"
      ]
    },
    {
      "cell_type": "markdown",
      "metadata": {
        "formattedRanges": [],
        "cell_id": "9afb40c9d4af467883545e1de2e38e70",
        "deepnote_cell_type": "text-cell-p",
        "id": "TENCfQIDwlVk"
      },
      "source": [
        "Тип рекламного канала (channel) - номинальная шкала\n",
        "Сумма покупок по каждому региону - количественная шкала\n",
        "Используем либо ANOVA, либо критерий Краскела-Уоллиса"
      ]
    },
    {
      "cell_type": "markdown",
      "metadata": {
        "formattedRanges": [
          {
            "type": "marks",
            "marks": {
              "bold": true
            },
            "toCodePoint": 25,
            "fromCodePoint": 0
          }
        ],
        "cell_id": "b3433821e9df47e4bd694839d29b52f4",
        "deepnote_cell_type": "text-cell-p",
        "id": "NNf0DfUCwlVk"
      },
      "source": [
        "Проверяем на нормальность"
      ]
    },
    {
      "cell_type": "code",
      "metadata": {
        "source_hash": "9b4f35bf",
        "execution_start": 1745325071584,
        "execution_millis": 1,
        "execution_context_id": "97b0769b-0061-424c-b558-cfb7d22a56a9",
        "cell_id": "cefc3df578704255a90e0c07e49d77e3",
        "deepnote_cell_type": "code",
        "id": "cF3gVRfYwlVk",
        "outputId": "a30b8158-6603-4653-b7e8-186d826d1e28"
      },
      "source": [
        "data_by_region_channel = {}\n",
        "for (region, channel), group in data.groupby(['region', 'channel']):\n",
        "    data_by_region_channel[(region, channel)] = group['revenue']\n",
        "\n",
        "print(\"Результаты проверки нормальности (p-value):\")\n",
        "normality_results = check_normality(data_by_region_channel)\n",
        "for (region, channel), p_value in normality_results.items():\n",
        "    print(f\"Регион {region}, канал {channel}: p-value = {p_value:.4f}\")"
      ],
      "execution_count": null,
      "outputs": [
        {
          "name": "stdout",
          "text": "Результаты проверки нормальности (p-value):\nРегион France, канал email-рассылки: p-value = 0.0002\nРегион France, канал organic: p-value = 0.0000\nРегион France, канал контекстная реклама: p-value = 0.0000\nРегион France, канал реклама у блогеров: p-value = 0.0000\nРегион Germany, канал email-рассылки: p-value = 0.0001\nРегион Germany, канал organic: p-value = 0.0000\nРегион Germany, канал контекстная реклама: p-value = 0.0000\nРегион Germany, канал реклама у блогеров: p-value = 0.0000\nРегион UK, канал email-рассылки: p-value = 0.0003\nРегион UK, канал organic: p-value = 0.0000\nРегион UK, канал контекстная реклама: p-value = 0.0000\nРегион UK, канал реклама у блогеров: p-value = 0.0000\nРегион United States, канал organic: p-value = 0.0000\nРегион United States, канал контекстная реклама: p-value = 0.0000\nРегион United States, канал реклама у блогеров: p-value = 0.0000\nРегион United States, канал социальные сети: p-value = 0.0000\n",
          "output_type": "stream"
        }
      ]
    },
    {
      "cell_type": "markdown",
      "metadata": {
        "formattedRanges": [
          {
            "type": "marks",
            "marks": {
              "bold": true
            },
            "toCodePoint": 63,
            "fromCodePoint": 0
          }
        ],
        "cell_id": "ab5c4942f6984930afcf023c85cfe521",
        "deepnote_cell_type": "text-cell-p",
        "id": "cAY2mf_KwlVk"
      },
      "source": [
        "Дата - ненормальная, тогда используем критерий Краскела-Уоллиса"
      ]
    },
    {
      "cell_type": "code",
      "metadata": {
        "source_hash": "e4392943",
        "execution_start": 1745325071635,
        "execution_millis": 0,
        "execution_context_id": "97b0769b-0061-424c-b558-cfb7d22a56a9",
        "cell_id": "b195558bab5c422bbc086c73efec702b",
        "deepnote_cell_type": "code",
        "id": "VmlSeR7jwlVk",
        "outputId": "fb9dd352-e644-43b2-bfa6-2d92c4b99bb0"
      },
      "source": [
        "def test_channel_effect_on_total_revenue(df):\n",
        "    regions = df['region'].unique()\n",
        "    channels = df['channel'].unique()\n",
        "    print(\"Результаты проверки гипотез:\")\n",
        "    for region in regions:\n",
        "        region_data = df[df['region'] == region]\n",
        "        channel_groups = [region_data[region_data['channel'] == channel]['revenue'] for channel in region_data['channel'].unique()]\n",
        "\n",
        "        stat, p_value = kruskal(*channel_groups)\n",
        "        print(f\"Регион {region}: p-value = {p_value:.4f}\")\n",
        "\n",
        "\n",
        "test_channel_effect_on_total_revenue(data)"
      ],
      "execution_count": null,
      "outputs": [
        {
          "name": "stdout",
          "text": "Результаты проверки гипотез:\nРегион United States: p-value = 0.8035\nРегион France: p-value = 0.1662\nРегион Germany: p-value = 0.8702\nРегион UK: p-value = 0.9523\n",
          "output_type": "stream"
        }
      ]
    },
    {
      "cell_type": "markdown",
      "metadata": {
        "formattedRanges": [],
        "cell_id": "7c8a46c96f9144aa9075ee51dc73ed6f",
        "deepnote_cell_type": "text-cell-p",
        "id": "lzDu29upwlVk"
      },
      "source": [
        "1. Регион United States: p-value = 0.8035"
      ]
    },
    {
      "cell_type": "markdown",
      "metadata": {
        "formattedRanges": [
          {
            "type": "marks",
            "marks": {
              "bold": true
            },
            "toCodePoint": 31,
            "fromCodePoint": 16
          },
          {
            "type": "marks",
            "marks": {
              "bold": true
            },
            "toCodePoint": 123,
            "fromCodePoint": 113
          }
        ],
        "cell_id": "68b23287b87145edadeb34ab11ac0fda",
        "deepnote_cell_type": "text-cell-p",
        "id": "1jqbw1PAwlVk"
      },
      "source": [
        "    Решение: Мы не отвергаем H₀, так как p-value > 0.05.\n",
        "    Вывод: В регионе United States сумма покупок в день не зависит от типа канала."
      ]
    },
    {
      "cell_type": "markdown",
      "metadata": {
        "formattedRanges": [],
        "cell_id": "a3a9eb981f45423ba1fab01155a2767c",
        "deepnote_cell_type": "text-cell-p",
        "id": "c7l5M9X4wlVn"
      },
      "source": [
        "2. Регион France: p-value = 0.1662"
      ]
    },
    {
      "cell_type": "markdown",
      "metadata": {
        "formattedRanges": [
          {
            "type": "marks",
            "marks": {
              "bold": true
            },
            "toCodePoint": 31,
            "fromCodePoint": 16
          },
          {
            "type": "marks",
            "marks": {
              "bold": true
            },
            "toCodePoint": 116,
            "fromCodePoint": 106
          }
        ],
        "cell_id": "492192acab674569a57ba8ada8c6889b",
        "deepnote_cell_type": "text-cell-p",
        "id": "4-_dKT8mwlVn"
      },
      "source": [
        "    Решение: Мы не отвергаем H₀, так как p-value > 0.05.\n",
        "    Вывод: В регионе France сумма покупок в день не зависит от типа канала."
      ]
    },
    {
      "cell_type": "markdown",
      "metadata": {
        "formattedRanges": [],
        "cell_id": "28e882603d1d4141b010682aa665ae7a",
        "deepnote_cell_type": "text-cell-p",
        "id": "468KPlYSwlVn"
      },
      "source": [
        "3. Регион Germany: p-value = 0.8702"
      ]
    },
    {
      "cell_type": "markdown",
      "metadata": {
        "formattedRanges": [
          {
            "type": "marks",
            "marks": {
              "bold": true
            },
            "toCodePoint": 31,
            "fromCodePoint": 16
          },
          {
            "type": "marks",
            "marks": {
              "bold": true
            },
            "toCodePoint": 117,
            "fromCodePoint": 107
          }
        ],
        "cell_id": "e4671d6354d54a4a909b0f2aa301f018",
        "deepnote_cell_type": "text-cell-p",
        "id": "6uccSLCiwlVn"
      },
      "source": [
        "    Решение: Мы не отвергаем H₀, так как p-value > 0.05.\n",
        "    Вывод: В регионе Germany сумма покупок в день не зависит от типа канала."
      ]
    },
    {
      "cell_type": "markdown",
      "metadata": {
        "formattedRanges": [],
        "cell_id": "fa31273c40604b339575426b9f491844",
        "deepnote_cell_type": "text-cell-p",
        "id": "ZxC8egRlwlVn"
      },
      "source": [
        "4. Регион UK: p-value = 0.9523"
      ]
    },
    {
      "cell_type": "markdown",
      "metadata": {
        "formattedRanges": [
          {
            "type": "marks",
            "marks": {
              "bold": true
            },
            "toCodePoint": 31,
            "fromCodePoint": 16
          },
          {
            "type": "marks",
            "marks": {
              "bold": true
            },
            "toCodePoint": 112,
            "fromCodePoint": 102
          }
        ],
        "cell_id": "3addde8a1b244892a83c30bc1f335566",
        "deepnote_cell_type": "text-cell-p",
        "id": "MTh-eFKTwlVn"
      },
      "source": [
        "    Решение: Мы не отвергаем H₀, так как p-value > 0.05.\n",
        "    Вывод: В регионе UK сумма покупок в день не зависит от типа канала."
      ]
    },
    {
      "cell_type": "markdown",
      "metadata": {
        "formattedRanges": [],
        "cell_id": "96e8434c9c7d4177b20259be401966a5",
        "deepnote_cell_type": "text-cell-p",
        "id": "ePp9hh_rwlVn"
      },
      "source": []
    },
    {
      "cell_type": "markdown",
      "metadata": {
        "formattedRanges": [],
        "cell_id": "3edb79d5a11d474b84cf6b1f55d1eed1",
        "deepnote_cell_type": "text-cell-h3",
        "id": "Mt0XpKSXwlVn"
      },
      "source": [
        "### Влияет ли тип устройства на сумму покупок по каждому региону?"
      ]
    },
    {
      "cell_type": "markdown",
      "metadata": {
        "formattedRanges": [],
        "cell_id": "32793e9ea3b4472a82fa6f42abb94e98",
        "deepnote_cell_type": "text-cell-p",
        "id": "W4YqzFcywlVn"
      },
      "source": [
        "    H₀ (нулевая гипотеза): Сумма покупок не зависит от типа устройства в регионе\n",
        "    H₁ (альтернативная гипотеза): Сумма покупок зависит от типа устройства в регионе"
      ]
    },
    {
      "cell_type": "markdown",
      "metadata": {
        "formattedRanges": [],
        "cell_id": "b99119e678a24e0fbe8358320d257493",
        "deepnote_cell_type": "text-cell-p",
        "id": "5ZM0KO4_wlVn"
      },
      "source": [
        "Тип устройства (device) - номинальная шкала\n",
        "Сумма покупок по каждому региону - количественная шкала\n",
        "Используем либо ANOVA, либо критерий Краскела-Уоллиса"
      ]
    },
    {
      "cell_type": "markdown",
      "metadata": {
        "formattedRanges": [
          {
            "type": "marks",
            "marks": {
              "bold": true
            },
            "toCodePoint": 25,
            "fromCodePoint": 0
          }
        ],
        "cell_id": "b606331f4c0e4895917e629f637ebb66",
        "deepnote_cell_type": "text-cell-p",
        "id": "8qqn7a2AwlVn"
      },
      "source": [
        "Проверяем на нормальность"
      ]
    },
    {
      "cell_type": "code",
      "metadata": {
        "allow_embed": false,
        "source_hash": "97b272ff",
        "execution_start": 1745325071685,
        "execution_millis": 0,
        "execution_context_id": "97b0769b-0061-424c-b558-cfb7d22a56a9",
        "cell_id": "07aea13acf1241bcb8835de158dc6731",
        "deepnote_cell_type": "code",
        "id": "JlkItY3nwlVn",
        "outputId": "e638db10-a185-463d-d63a-232f9ba22807"
      },
      "source": [
        "data_by_region_device = {}\n",
        "for (region, device), group in data.groupby(['region', 'device']):\n",
        "    data_by_region_device[(region, device)] = group['revenue']\n",
        "\n",
        "print(\"Результаты проверки нормальности (p-value):\")\n",
        "normality_results = check_normality(data_by_region_device)\n",
        "for (region, device), p_value in normality_results.items():\n",
        "    print(f\"Регион {region}, канал {device}: p-value = {p_value:.4f}\")"
      ],
      "execution_count": null,
      "outputs": [
        {
          "name": "stdout",
          "text": "Результаты проверки нормальности (p-value):\nРегион France, канал Android: p-value = 0.0000\nРегион France, канал Mac: p-value = 0.0002\nРегион France, канал PC: p-value = 0.0000\nРегион France, канал iPhone: p-value = 0.0000\nРегион Germany, канал Android: p-value = 0.0000\nРегион Germany, канал Mac: p-value = 0.0000\nРегион Germany, канал PC: p-value = 0.0000\nРегион Germany, канал iPhone: p-value = 0.0000\nРегион UK, канал Android: p-value = 0.0000\nРегион UK, канал Mac: p-value = 0.0003\nРегион UK, канал PC: p-value = 0.0000\nРегион UK, канал iPhone: p-value = 0.0000\nРегион United States, канал Android: p-value = 0.0000\nРегион United States, канал Mac: p-value = 0.0000\nРегион United States, канал PC: p-value = 0.0000\nРегион United States, канал iPhone: p-value = 0.0000\n",
          "output_type": "stream"
        }
      ]
    },
    {
      "cell_type": "markdown",
      "metadata": {
        "formattedRanges": [
          {
            "type": "marks",
            "marks": {
              "bold": true
            },
            "toCodePoint": 63,
            "fromCodePoint": 0
          }
        ],
        "cell_id": "890c9f448e6b42d3995a0a9d8ff7fe90",
        "deepnote_cell_type": "text-cell-p",
        "id": "1sk81BxpwlVn"
      },
      "source": [
        "Дата - ненормальная, тогда используем критерий Краскела-Уоллиса"
      ]
    },
    {
      "cell_type": "code",
      "metadata": {
        "allow_embed": false,
        "source_hash": "dba39713",
        "execution_start": 1745325071734,
        "execution_millis": 1,
        "execution_context_id": "97b0769b-0061-424c-b558-cfb7d22a56a9",
        "cell_id": "0135e72db0a14688b58ebc434c92a7f3",
        "deepnote_cell_type": "code",
        "id": "RbQZnB9JwlVn",
        "outputId": "53c62bed-19a7-41a7-a25f-090c9033d57c"
      },
      "source": [
        "def test_device_effect_on_total_revenue(df):\n",
        "    regions = df['region'].unique()\n",
        "    devices = df['device'].unique()\n",
        "    print(\"Результаты проверки гипотез:\")\n",
        "    for region in regions:\n",
        "        region_data = df[df['region'] == region]\n",
        "        device_groups = [region_data[region_data['device'] == device]['revenue'] for device in region_data['device'].unique()]\n",
        "\n",
        "        stat, p_value = kruskal(*device_groups)\n",
        "        print(f\"Регион {region}: p-value = {p_value:.4f}\")\n",
        "\n",
        "\n",
        "test_device_effect_on_total_revenue(data)"
      ],
      "execution_count": null,
      "outputs": [
        {
          "name": "stdout",
          "text": "Результаты проверки гипотез:\nРегион United States: p-value = 0.6596\nРегион France: p-value = 0.2102\nРегион Germany: p-value = 0.6543\nРегион UK: p-value = 0.5422\n",
          "output_type": "stream"
        }
      ]
    },
    {
      "cell_type": "markdown",
      "metadata": {
        "formattedRanges": [],
        "cell_id": "99b7b89906bc4d3cb2a63739cd3d6edf",
        "deepnote_cell_type": "text-cell-p",
        "id": "HA0Wz5GlwlVo"
      },
      "source": [
        "1. Регион United States: p-value = 0.6596"
      ]
    },
    {
      "cell_type": "markdown",
      "metadata": {
        "formattedRanges": [
          {
            "type": "marks",
            "marks": {
              "bold": true
            },
            "toCodePoint": 31,
            "fromCodePoint": 16
          },
          {
            "type": "marks",
            "marks": {
              "bold": true
            },
            "toCodePoint": 123,
            "fromCodePoint": 113
          }
        ],
        "cell_id": "936f059918a04b6097e31681e8f8f2aa",
        "deepnote_cell_type": "text-cell-p",
        "id": "XLTFYpMlwlVo"
      },
      "source": [
        "    Решение: Мы не отвергаем H₀, так как p-value > 0.05.\n",
        "    Вывод: В регионе United States сумма покупок в день не зависит от типа устройства."
      ]
    },
    {
      "cell_type": "markdown",
      "metadata": {
        "formattedRanges": [],
        "cell_id": "b8ed0133857840baba515f1ec5ad7e29",
        "deepnote_cell_type": "text-cell-p",
        "id": "lw85RWwIwlVo"
      },
      "source": [
        "2. Регион France: p-value = 0.2102"
      ]
    },
    {
      "cell_type": "markdown",
      "metadata": {
        "formattedRanges": [
          {
            "type": "marks",
            "marks": {
              "bold": true
            },
            "toCodePoint": 31,
            "fromCodePoint": 16
          },
          {
            "type": "marks",
            "marks": {
              "bold": true
            },
            "toCodePoint": 116,
            "fromCodePoint": 106
          }
        ],
        "cell_id": "4676c635158744c3912262c7d1408f75",
        "deepnote_cell_type": "text-cell-p",
        "id": "DqxDf6-2wlVo"
      },
      "source": [
        "    Решение: Мы не отвергаем H₀, так как p-value > 0.05.\n",
        "    Вывод: В регионе France сумма покупок в день не зависит от типа устройства."
      ]
    },
    {
      "cell_type": "markdown",
      "metadata": {
        "formattedRanges": [],
        "cell_id": "1226eb154d7e4c658822e3ab53992152",
        "deepnote_cell_type": "text-cell-p",
        "id": "z5ciA169wlVo"
      },
      "source": [
        "3. Регион Germany: p-value = 0.6543"
      ]
    },
    {
      "cell_type": "markdown",
      "metadata": {
        "formattedRanges": [
          {
            "type": "marks",
            "marks": {
              "bold": true
            },
            "toCodePoint": 31,
            "fromCodePoint": 16
          },
          {
            "type": "marks",
            "marks": {
              "bold": true
            },
            "toCodePoint": 117,
            "fromCodePoint": 107
          }
        ],
        "cell_id": "0aecad15b160422582fa7d2334063958",
        "deepnote_cell_type": "text-cell-p",
        "id": "E0QyobflwlVo"
      },
      "source": [
        "    Решение: Мы не отвергаем H₀, так как p-value > 0.05.\n",
        "    Вывод: В регионе Germany сумма покупок в день не зависит от типа устройства."
      ]
    },
    {
      "cell_type": "markdown",
      "metadata": {
        "formattedRanges": [],
        "cell_id": "3f751ef3fa234bdb8901676b12a1e117",
        "deepnote_cell_type": "text-cell-p",
        "id": "tflZACn6wlVo"
      },
      "source": [
        "4. Регион UK: p-value = 0.5422"
      ]
    },
    {
      "cell_type": "markdown",
      "metadata": {
        "formattedRanges": [
          {
            "type": "marks",
            "marks": {
              "bold": true
            },
            "toCodePoint": 31,
            "fromCodePoint": 16
          },
          {
            "type": "marks",
            "marks": {
              "bold": true
            },
            "toCodePoint": 112,
            "fromCodePoint": 102
          }
        ],
        "cell_id": "330b60915d564e5baad2705d3dd7431a",
        "deepnote_cell_type": "text-cell-p",
        "id": "j6-22namwlVo"
      },
      "source": [
        "    Решение: Мы не отвергаем H₀, так как p-value > 0.05.\n",
        "    Вывод: В регионе UK сумма покупок в день не зависит от типа устройства."
      ]
    },
    {
      "cell_type": "markdown",
      "metadata": {
        "formattedRanges": [],
        "cell_id": "39b88980d97b4fa6a132c3668b5eb0a8",
        "deepnote_cell_type": "text-cell-p",
        "id": "bgtE1Gz0wlVo"
      },
      "source": []
    },
    {
      "cell_type": "markdown",
      "metadata": {
        "formattedRanges": [],
        "cell_id": "52328c76713f4e0daedaa5c8810b6f4c",
        "deepnote_cell_type": "text-cell-h3",
        "id": "GfCYjOGxwlVo"
      },
      "source": [
        "### Влияет ли тип рекламного канала на продолжительность сессии?"
      ]
    },
    {
      "cell_type": "markdown",
      "metadata": {
        "formattedRanges": [],
        "cell_id": "321d0636a6fc4015b22e54be212b7cae",
        "deepnote_cell_type": "text-cell-p",
        "id": "8D4gySPawlVo"
      },
      "source": [
        "    H₀ (нулевая гипотеза): Продолжительность сессии не зависит от типа рекламного канала\n",
        "    H₁ (альтернативная гипотеза): Продолжительность сессии зависит от типа рекламного канала"
      ]
    },
    {
      "cell_type": "markdown",
      "metadata": {
        "formattedRanges": [],
        "cell_id": "28fc09020ff84a6b9a9d0deb27e586a5",
        "deepnote_cell_type": "text-cell-p",
        "id": "z4YrE_3zwlVo"
      },
      "source": [
        "Тип рекламного канала (channel) - номинальная шкала\n",
        "Продолжительность сессии - количественная шкала\n",
        "Используем либо ANOVA, либо критерий Краскела-Уоллиса"
      ]
    },
    {
      "cell_type": "markdown",
      "metadata": {
        "formattedRanges": [
          {
            "type": "marks",
            "marks": {
              "bold": true
            },
            "toCodePoint": 25,
            "fromCodePoint": 0
          }
        ],
        "cell_id": "5d50274319694112a307eaf641602e3f",
        "deepnote_cell_type": "text-cell-p",
        "id": "3GKxbBH4wlVo"
      },
      "source": [
        "Проверяем на нормальность"
      ]
    },
    {
      "cell_type": "code",
      "metadata": {
        "source_hash": "65649077",
        "execution_start": 1745325071785,
        "execution_millis": 0,
        "execution_context_id": "97b0769b-0061-424c-b558-cfb7d22a56a9",
        "cell_id": "5a9e07c21b9d4d3482dfa91fd5f6ff31",
        "deepnote_cell_type": "code",
        "id": "e-Mu9IAXwlVo",
        "outputId": "13fa2504-d0c0-40f9-c8f6-ac15223a9732"
      },
      "source": [
        "data_by_channel = {}\n",
        "for channel, group in data.groupby('channel'):\n",
        "    data_by_channel[channel] = group['sessiondurationsec']\n",
        "\n",
        "print(\"Результаты проверки нормальности (p-value):\")\n",
        "normality_results = check_normality(data_by_channel)\n",
        "\n",
        "for channel, p_value in normality_results.items():\n",
        "    print(f\"Рекламный канал: {channel}, p-value = {p_value:.4f}\")"
      ],
      "execution_count": null,
      "outputs": [
        {
          "name": "stdout",
          "text": "Результаты проверки нормальности (p-value):\nРекламный канал: email-рассылки, p-value = 0.0012\nРекламный канал: organic, p-value = 0.0000\nРекламный канал: контекстная реклама, p-value = 0.0000\nРекламный канал: реклама у блогеров, p-value = 0.0000\nРекламный канал: социальные сети, p-value = 0.0000\n",
          "output_type": "stream"
        }
      ]
    },
    {
      "cell_type": "markdown",
      "metadata": {
        "formattedRanges": [
          {
            "type": "marks",
            "marks": {
              "bold": true
            },
            "toCodePoint": 63,
            "fromCodePoint": 0
          }
        ],
        "cell_id": "bc0135fe2bb94babb8d8f332f0c45e2a",
        "deepnote_cell_type": "text-cell-p",
        "id": "T0ZExIDIwlVo"
      },
      "source": [
        "Дата - ненормальная, тогда используем критерий Краскела-Уоллиса"
      ]
    },
    {
      "cell_type": "code",
      "metadata": {
        "source_hash": "13909ac1",
        "execution_start": 1745325071834,
        "execution_millis": 0,
        "execution_context_id": "97b0769b-0061-424c-b558-cfb7d22a56a9",
        "cell_id": "6893ff2559f6462785c82879df2c8e15",
        "deepnote_cell_type": "code",
        "id": "kR_9XQuvwlVo",
        "outputId": "696823a2-21c6-4476-f550-9d77bbc189ad"
      },
      "source": [
        "def test_channel_effect_on_duration(df):\n",
        "    print(\"Результаты проверки гипотезы:\")\n",
        "    groups = [group['sessiondurationsec'] for _, group in df.groupby('channel')]\n",
        "\n",
        "    stat, p_value = kruskal(*groups)\n",
        "    print(f\"Краскел-Уоллис: p-value = {p_value:.4f}\")\n",
        "\n",
        "test_channel_effect_on_duration(data)"
      ],
      "execution_count": null,
      "outputs": [
        {
          "name": "stdout",
          "text": "Результаты проверки гипотезы:\nКраскел-Уоллис: p-value = 0.3979\n",
          "output_type": "stream"
        }
      ]
    },
    {
      "cell_type": "markdown",
      "metadata": {
        "formattedRanges": [
          {
            "type": "marks",
            "marks": {
              "bold": true
            },
            "toCodePoint": 27,
            "fromCodePoint": 12
          },
          {
            "type": "marks",
            "marks": {
              "bold": true
            },
            "toCodePoint": 95,
            "fromCodePoint": 85
          }
        ],
        "cell_id": "e579b6dab18d4a72a1e692d200675def",
        "deepnote_cell_type": "text-cell-p",
        "id": "pTkpBf1BwlVo"
      },
      "source": [
        "Решение: Мы не отвергаем H₀, так как p-value > 0.05.\n",
        "Вывод: Продолжительность сессии не зависит от типа рекламного канала"
      ]
    },
    {
      "cell_type": "markdown",
      "metadata": {
        "formattedRanges": [],
        "cell_id": "ffe4d13cd12749d2a7f8d009440f716b",
        "deepnote_cell_type": "text-cell-p",
        "id": "RU-tIeqDwlVp"
      },
      "source": []
    },
    {
      "cell_type": "markdown",
      "metadata": {
        "formattedRanges": [
          {
            "type": "marks",
            "marks": {
              "bold": true
            },
            "toCodePoint": 27,
            "fromCodePoint": 0
          }
        ],
        "cell_id": "ced3ed36f21f47cda22a4fb211032f7b",
        "deepnote_cell_type": "text-cell-h1",
        "id": "lBjAwRLrwlVp"
      },
      "source": [
        "# Регрессионное моделирование"
      ]
    },
    {
      "cell_type": "code",
      "metadata": {
        "source_hash": "1a45785e",
        "execution_start": 1745325071884,
        "execution_millis": 148,
        "deepnote_table_state": {
          "sortBy": [],
          "filters": [],
          "pageSize": 100,
          "pageIndex": 0,
          "columnOrder": [
            "user_id",
            "region",
            "device",
            "channel",
            "session_start",
            "session_end",
            "sessiondurationsec",
            "session_date",
            "month",
            "day",
            "hour_of_day",
            "order_dt",
            "revenue",
            "payment_type",
            "promo_code",
            "total_revenue",
            "time_of_day",
            "payer"
          ],
          "hiddenColumnIds": [],
          "columnDisplayNames": [],
          "conditionalFilters": [],
          "cellFormattingRules": [],
          "wrappedTextColumnIds": []
        },
        "execution_context_id": "97b0769b-0061-424c-b558-cfb7d22a56a9",
        "deepnote_table_loading": false,
        "cell_id": "73d9f0fefe5f44c5862d2212e59c393a",
        "deepnote_cell_type": "code",
        "id": "NOPEam9xwlVp"
      },
      "source": [
        "import pandas as pd\n",
        "from sklearn.linear_model import LinearRegression\n",
        "from sklearn.model_selection import train_test_split\n",
        "from sklearn.metrics import mean_absolute_error, r2_score\n",
        "from sklearn.preprocessing import OneHotEncoder"
      ],
      "execution_count": null,
      "outputs": []
    },
    {
      "cell_type": "markdown",
      "metadata": {
        "formattedRanges": [],
        "cell_id": "8e90f1803519494b910955544991d45c",
        "deepnote_cell_type": "text-cell-h3",
        "id": "ShAcbtlawlVp"
      },
      "source": [
        "### Мы решили создать модель линейной регрессии для предсказания количества покупателей и общей выручки по месяцам на следующий год"
      ]
    },
    {
      "cell_type": "markdown",
      "metadata": {
        "formattedRanges": [],
        "cell_id": "47d26e5b009244d1a689da8c8b96f3ad",
        "deepnote_cell_type": "text-cell-h3",
        "id": "kKF4Ae_CwlVp"
      },
      "source": [
        "### Количество покупателей по регионам и каналам в существующих месяцах"
      ]
    },
    {
      "cell_type": "code",
      "metadata": {
        "source_hash": "9e2fda30",
        "execution_start": 1745325072094,
        "execution_millis": 0,
        "execution_context_id": "97b0769b-0061-424c-b558-cfb7d22a56a9",
        "cell_id": "3dfa293013a54711ba5d2602d7aaed89",
        "deepnote_cell_type": "code",
        "id": "j-QoRxTWwlVp",
        "outputId": "ff647c50-3dfa-438f-f230-636da40bc850"
      },
      "source": [
        "payers_data = data[data['payer'] == 1]\n",
        "\n",
        "payers_region_month = payers_data.groupby(\n",
        "    ['region', 'month']\n",
        ")['user_id'].count().reset_index(name='payers_count')\n",
        "\n",
        "pivot_region = payers_region_month.pivot(\n",
        "    index='region',\n",
        "    columns='month',\n",
        "    values='payers_count'\n",
        ").fillna(0)\n",
        "\n",
        "print(\"1. Количество покупателей по регионам и месяцам:\")\n",
        "print(pivot_region)\n",
        "\n",
        "payers_channel_month = payers_data.groupby(\n",
        "    ['channel', 'month']\n",
        ")['user_id'].count().reset_index(name='payers_count')\n",
        "\n",
        "pivot_channel = payers_channel_month.pivot(\n",
        "    index='channel',\n",
        "    columns='month',\n",
        "    values='payers_count'\n",
        ").fillna(0)\n",
        "\n",
        "print(\"\\n2. Количество покупателей по каналам и месяцам:\")\n",
        "print(pivot_channel)\n"
      ],
      "execution_count": null,
      "outputs": [
        {
          "name": "stdout",
          "text": "1. Количество покупателей по регионам и месяцам:\nmonth          5   6   7   8   9   10\nregion                               \nFrance          4   7   1   4   4   6\nGermany         3   5   2   9   4   2\nUK              2   7   5  11   2   7\nUnited States  23  30  35  48  28  32\n\n2. Количество покупателей по каналам и месяцам:\nmonth                  5     6     7     8     9     10\nchannel                                                \nemail-рассылки        2.0   1.0   0.0   1.0   1.0   2.0\norganic              13.0  20.0  13.0  24.0  10.0   8.0\nконтекстная реклама   1.0   9.0   4.0  16.0   7.0   8.0\nреклама у блогеров    6.0   5.0   4.0   7.0   3.0   4.0\nсоциальные сети      10.0  14.0  22.0  24.0  17.0  25.0\n",
          "output_type": "stream"
        }
      ]
    },
    {
      "cell_type": "markdown",
      "metadata": {
        "formattedRanges": [],
        "cell_id": "23049e8486904796bc064d72f26f45e7",
        "deepnote_cell_type": "text-cell-h3",
        "id": "iw7kgdBqwlVp"
      },
      "source": [
        "### Линейная регрессия по количеству покупателей"
      ]
    },
    {
      "cell_type": "code",
      "metadata": {
        "source_hash": "d793eed6",
        "execution_start": 1745327187195,
        "execution_millis": 3,
        "execution_context_id": "97b0769b-0061-424c-b558-cfb7d22a56a9",
        "cell_id": "efcd2f45b1db4794be9941b52dddef5f",
        "deepnote_cell_type": "code",
        "id": "CqqOEGKpwlVp",
        "outputId": "f5ed4d3e-284f-45f0-c6d6-33fe207ecc3d"
      },
      "source": [
        "region_data = pivot_region.reset_index().melt(id_vars='region', var_name='month', value_name='payers')\n",
        "channel_data = pivot_channel.reset_index().melt(id_vars='channel', var_name='month', value_name='payers')\n",
        "\n",
        "def predict_next_year(data, group_col, months_to_predict=range(11, 25)):\n",
        "    results = {}\n",
        "    metrics = []\n",
        "\n",
        "    for group in data[group_col].unique():\n",
        "        group_df = data[data[group_col] == group]\n",
        "        X = group_df['month'].values.reshape(-1, 1)\n",
        "        y = group_df['payers'].values\n",
        "\n",
        "        model = LinearRegression()\n",
        "        model.fit(X, y)\n",
        "\n",
        "        y_pred = model.predict(X)\n",
        "        r2 = r2_score(y, y_pred)\n",
        "        mae = mean_absolute_error(y, y_pred)\n",
        "\n",
        "        future_months = np.array(months_to_predict).reshape(-1, 1)\n",
        "        future_pred = model.predict(future_months)\n",
        "\n",
        "        results[group] = dict(zip(months_to_predict, np.round(future_pred).astype(int)))\n",
        "\n",
        "        metrics.append({\n",
        "            group_col: group,\n",
        "            'r2_score': round(r2, 3),\n",
        "            'mae': round(mae, 1),\n",
        "        })\n",
        "\n",
        "        metrics_df = pd.DataFrame(metrics)\n",
        "\n",
        "    return pd.DataFrame(results), metrics_df\n",
        "\n",
        "region_forecast, region_metrics = predict_next_year(region_data, 'region')\n",
        "print(\"Прогноз по регионам (ноябрь 2019 - декабрь 2020):\")\n",
        "print(region_forecast)\n",
        "print(\"\\nR² по регионам:\")\n",
        "print(region_metrics.sort_values('r2_score', ascending=False))\n",
        "\n",
        "channel_forecast, channel_metrics = predict_next_year(channel_data, 'channel')\n",
        "print(\"\\nПрогноз по каналам (ноябрь 2019 - декабрь 2020):\")\n",
        "print(channel_forecast)\n",
        "print(\"\\nR² по каналам:\")\n",
        "print(channel_metrics.sort_values('r2_score', ascending=False))"
      ],
      "execution_count": null,
      "outputs": [
        {
          "name": "stdout",
          "text": "Прогноз по регионам (ноябрь 2019 - декабрь 2020):\n    France  Germany  UK  United States\n11       5        4   7             38\n12       5        4   8             39\n13       5        4   8             41\n14       5        4   9             42\n15       5        4   9             44\n16       5        4  10             45\n17       5        4  10             47\n18       6        4  10             48\n19       6        4  11             50\n20       6        4  11             51\n21       6        4  12             53\n22       6        4  12             54\n23       6        4  13             56\n24       6        4  13             57\n\nR² по регионам:\n          region  r2_score  mae\n3  United States     0.106  5.9\n2             UK     0.062  2.4\n0         France     0.011  1.4\n1        Germany     0.000  1.9\n\nПрогноз по каналам (ноябрь 2019 - декабрь 2020):\n    email-рассылки  organic  контекстная реклама  реклама у блогеров  \\\n11               1       10                   12                   4   \n12               1        9                   13                   3   \n13               1        8                   14                   3   \n14               1        6                   15                   2   \n15               1        5                   16                   2   \n16               1        4                   17                   2   \n17               1        3                   19                   1   \n18               1        1                   20                   1   \n19               1        0                   21                   1   \n20               2       -1                   22                   0   \n21               2       -2                   23                   0   \n22               2       -4                   24                  -1   \n23               2       -5                   26                  -1   \n24               2       -6                   27                  -1   \n\n    социальные сети  \n11               27  \n12               30  \n13               32  \n14               35  \n15               37  \n16               40  \n17               42  \n18               44  \n19               47  \n20               49  \n21               52  \n22               54  \n23               57  \n24               59  \n\nR² по каналам:\n               channel  r2_score  mae\n4      социальные сети     0.589  3.0\n3   реклама у блогеров     0.223  0.9\n2  контекстная реклама     0.185  3.7\n1              organic     0.148  4.5\n0       email-рассылки     0.005  0.6\n",
          "output_type": "stream"
        }
      ]
    },
    {
      "cell_type": "markdown",
      "metadata": {
        "formattedRanges": [],
        "cell_id": "6fe171336f9b4d52b9a42d63e153d941",
        "deepnote_cell_type": "text-cell-h3",
        "id": "i3GpGEGbwlVp"
      },
      "source": [
        "### Общая выручка по регионам и каналам в существующих месяцах"
      ]
    },
    {
      "cell_type": "code",
      "metadata": {
        "source_hash": "bb5a8737",
        "execution_start": 1745325072214,
        "execution_millis": 1,
        "execution_context_id": "97b0769b-0061-424c-b558-cfb7d22a56a9",
        "cell_id": "9d44a25e49cc42868f2616b5787fc884",
        "deepnote_cell_type": "code",
        "id": "dkxRT7i-wlVp",
        "outputId": "b6953ca7-78ac-47ec-dd5f-66dbf7983e35"
      },
      "source": [
        "revenue_region_month = payers_data.groupby(\n",
        "    ['region', 'month']\n",
        ")['revenue'].sum().reset_index(name='payers_count')\n",
        "\n",
        "pivot_revenue_region = revenue_region_month.pivot(\n",
        "    index='region',\n",
        "    columns='month',\n",
        "    values='payers_count'\n",
        ").fillna(0)\n",
        "\n",
        "print(\"1. Общая выручка по регионам и месяцам:\")\n",
        "print(pivot_revenue_region)\n",
        "\n",
        "revenue_channel_month = payers_data.groupby(\n",
        "    ['channel', 'month']\n",
        ")['revenue'].sum().reset_index(name='payers_count')\n",
        "\n",
        "pivot_revenue_channel = revenue_channel_month.pivot(\n",
        "    index='channel',\n",
        "    columns='month',\n",
        "    values='payers_count'\n",
        ").fillna(0)\n",
        "\n",
        "print(\"\\n2. Общая выручка по каналам и месяцам:\")\n",
        "print(pivot_revenue_channel)\n"
      ],
      "execution_count": null,
      "outputs": [
        {
          "name": "stdout",
          "text": "1. Общая выручка по регионам и месяцам:\nmonth                5         6         7         8         9         10\nregion                                                                   \nFrance          21996.0   38993.0    4999.0   20996.0   19996.0   31994.0\nGermany         14997.0   28995.0   14998.0   46991.0   20996.0    9998.0\nUK              10998.0   37993.0   25995.0   61989.0    9998.0   42993.0\nUnited States  143977.0  169970.0  186965.0  274952.0  149972.0  168968.0\n\n2. Общая выручка по каналам и месяцам:\nmonth                     5         6         7         8        9         10\nchannel                                                                      \nemail-рассылки       10998.0    5999.0       0.0    4999.0   4999.0   10998.0\norganic              66987.0  115980.0   72987.0  134976.0  51990.0   47992.0\nконтекстная реклама   4999.0   48991.0   20996.0   87984.0  34993.0   40992.0\nреклама у блогеров   36994.0   25995.0   19996.0   37993.0  15997.0   20996.0\nсоциальные сети      71990.0   78986.0  118978.0  138976.0  92983.0  132975.0\n",
          "output_type": "stream"
        }
      ]
    },
    {
      "cell_type": "markdown",
      "metadata": {
        "formattedRanges": [],
        "cell_id": "efcb7d2e6d5b48c5a365d81464be25b8",
        "deepnote_cell_type": "text-cell-h3",
        "id": "zedDW_lBwlVp"
      },
      "source": [
        "### Линейная регрессия по общей выручке"
      ]
    },
    {
      "cell_type": "code",
      "metadata": {
        "source_hash": "76e5ef42",
        "execution_start": 1745325072275,
        "execution_millis": 1,
        "execution_context_id": "97b0769b-0061-424c-b558-cfb7d22a56a9",
        "cell_id": "5337580105f343acb360234d936adda5",
        "deepnote_cell_type": "code",
        "id": "K9PfEyfuwlVp",
        "outputId": "439f48ae-e1d8-4e2f-860c-fd13580de57d"
      },
      "source": [
        "region_data = pivot_revenue_region.reset_index().melt(id_vars='region', var_name='month', value_name='revenue')\n",
        "channel_data = pivot_revenue_channel.reset_index().melt(id_vars='channel', var_name='month', value_name='revenue')\n",
        "\n",
        "def predict_next_year(data, group_col, months_to_predict=range(11, 25)):\n",
        "    results = {}\n",
        "    metrics = []\n",
        "\n",
        "    for group in data[group_col].unique():\n",
        "        group_df = data[data[group_col] == group]\n",
        "        X = group_df['month'].values.reshape(-1, 1)\n",
        "        y = group_df['revenue'].values\n",
        "\n",
        "        model = LinearRegression()\n",
        "        model.fit(X, y)\n",
        "\n",
        "        y_pred = model.predict(X)\n",
        "        r2 = r2_score(y, y_pred)\n",
        "        mae = mean_absolute_error(y, y_pred)\n",
        "\n",
        "        future_months = np.array(months_to_predict).reshape(-1, 1)\n",
        "        future_pred = model.predict(future_months)\n",
        "\n",
        "        results[group] = dict(zip(months_to_predict, np.round(future_pred).astype(int)))\n",
        "        metrics.append({\n",
        "            group_col: group,\n",
        "            'r2_score': round(r2, 3),\n",
        "            'mae': round(mae, 1),\n",
        "        })\n",
        "\n",
        "        metrics_df = pd.DataFrame(metrics)\n",
        "\n",
        "    return pd.DataFrame(results), metrics_df\n",
        "\n",
        "region_forecast, region_metrics = predict_next_year(region_data, 'region')\n",
        "print(\"Прогноз по регионам (ноябрь 2019 - декабрь 2020):\")\n",
        "print(region_forecast)\n",
        "print(\"\\nR² по регионам:\")\n",
        "print(region_metrics.sort_values('r2_score',ascending=False))\n",
        "\n",
        "channel_forecast, channel_metrics = predict_next_year(channel_data, 'channel')\n",
        "print(\"\\nПрогноз по каналам (ноябрь 2019 - декабрь 2020):\")\n",
        "print(channel_forecast)\n",
        "print(\"\\nR² по каналам:\")\n",
        "print(channel_metrics.sort_values('r2_score', ascending=False))"
      ],
      "execution_count": null,
      "outputs": [
        {
          "name": "stdout",
          "text": "Прогноз по регионам (ноябрь 2019 - декабрь 2020):\n    France  Germany     UK  United States\n11   24062    21129  42859         197762\n12   24319    20644  46059         202132\n13   24576    20158  49258         206502\n14   24833    19672  52458         210872\n15   25090    19187  55658         215242\n16   25347    18701  58857         219612\n17   25604    18215  62057         223982\n18   25861    17729  65256         228352\n19   26118    17244  68456         232722\n20   26375    16758  71655         237092\n21   26632    16272  74855         241462\n22   26889    15787  78054         245832\n23   27146    15301  81254         250201\n24   27403    14815  84453         254571\n\nR² по регионам:\n          region  r2_score      mae\n2             UK     0.089  14397.6\n3  United States     0.029  32327.4\n1        Germany     0.005   9947.3\n0         France     0.002   8135.1\n\nПрогноз по каналам (ноябрь 2019 - декабрь 2020):\n    email-рассылки  organic  контекстная реклама  реклама у блогеров  \\\n11            6532    59323                60322               17130   \n12            6589    52896                66178               14502   \n13            6646    46468                72034               11873   \n14            6703    40041                77890                9245   \n15            6761    33614                83746                6617   \n16            6818    27186                89602                3989   \n17            6875    20759                95458                1361   \n18            6932    14332               101314               -1268   \n19            6989     7905               107170               -3896   \n20            7046     1477               113025               -6524   \n21            7103    -4950               118881               -9152   \n22            7160   -11377               124737              -11780   \n23            7217   -17805               130593              -14409   \n24            7275   -24232               136449              -17037   \n\n    социальные сети  \n11           142506  \n12           152989  \n13           163473  \n14           173956  \n15           184439  \n16           194922  \n17           205406  \n18           215889  \n19           226372  \n20           236855  \n21           247339  \n22           257822  \n23           268305  \n24           278788  \n\nR² по каналам:\n               channel  r2_score      mae\n4      социальные сети     0.476  15759.0\n3   реклама у блогеров     0.284   6103.9\n2  контекстная реклама     0.150  21059.8\n1              organic     0.114  26963.8\n0       email-рассылки     0.001   3110.6\n",
          "output_type": "stream"
        }
      ]
    },
    {
      "cell_type": "markdown",
      "metadata": {
        "formattedRanges": [
          {
            "type": "marks",
            "marks": {
              "bold": true
            },
            "toCodePoint": 9,
            "fromCodePoint": 0
          }
        ],
        "cell_id": "c47cd64084c54560a03dfc870e63e362",
        "deepnote_cell_type": "text-cell-p",
        "id": "UhTp3VwZwlVq"
      },
      "source": [
        "Решение: Так как месяцев мало, мы не стали разбивать данные с помощью train_test_split, также итоговый r2_score является низким, что указывает на неточность предсказанных данных. Мы решили, что линейная регрессия не является фактором, влияющем на выбор в какой регион и канал вкладываться. Для более точного предсказания, требуется больше данных о выручке и количестве покупателей по месяцам."
      ]
    },
    {
      "cell_type": "markdown",
      "metadata": {
        "formattedRanges": [],
        "cell_id": "98e81e429fce4b4db24aa5621dea41a9",
        "deepnote_cell_type": "text-cell-h2",
        "id": "EabNogOmwlVq"
      },
      "source": [
        "## Вывод"
      ]
    },
    {
      "cell_type": "markdown",
      "metadata": {
        "formattedRanges": [
          {
            "type": "marks",
            "marks": {
              "bold": true
            },
            "toCodePoint": 293,
            "fromCodePoint": 286
          }
        ],
        "cell_id": "ff58fa306e8c40438d0b966aef85d084",
        "deepnote_cell_type": "text-cell-h3",
        "id": "jNqhwR5VwlVq"
      },
      "source": [
        "### Рекламный канал социальные сети обладает большей долей продаж, и, основываясь на прогнозе, может принести большую выручку в сравнении с другими каналами\n",
        "\n",
        "Регион United States имеет большую долю продаж и большее количество покупателей.\n",
        "В регионе United States количество покупок в день зависит от типа устройства и рекламного канала."
      ]
    },
    {
      "cell_type": "code",
      "metadata": {
        "source_hash": "68e44da7",
        "execution_start": 1745325072324,
        "execution_millis": 1,
        "execution_context_id": "97b0769b-0061-424c-b558-cfb7d22a56a9",
        "cell_id": "bd0ce3cda18a470a9aa951f18805d402",
        "deepnote_cell_type": "code",
        "id": "0rvpmJ_4wlVq",
        "outputId": "9dc455d6-1827-4950-af55-c6466757ddea"
      },
      "source": [
        "revenue_by_region_channel = data.pivot_table(index='region', columns='channel', values='revenue', aggfunc='sum', fill_value=0)\n",
        "print(revenue_by_region_channel)"
      ],
      "execution_count": null,
      "outputs": [
        {
          "name": "stdout",
          "text": "channel        email-рассылки   organic  контекстная реклама  \\\nregion                                                         \nFrance                22996.0   16997.0              62988.0   \nGermany                4999.0   46992.0              51990.0   \nUK                     9998.0   60991.0              87983.0   \nUnited States             0.0  365932.0              35994.0   \n\nchannel        реклама у блогеров  социальные сети  \nregion                                              \nFrance                    35993.0              0.0  \nGermany                   32994.0              0.0  \nUK                        30994.0              0.0  \nUnited States             57990.0         634888.0  \n",
          "output_type": "stream"
        }
      ]
    },
    {
      "cell_type": "code",
      "metadata": {
        "source_hash": "9b72066b",
        "execution_start": 1745063942667,
        "execution_millis": 0,
        "execution_context_id": "77307e8e-292b-44a8-871a-2f4f5762ac4b",
        "cell_id": "a60f64842fcd441d99da8b5f57ea7fa7",
        "deepnote_cell_type": "code",
        "id": "XIeBL_s0wlVq",
        "outputId": "e246a4d1-644c-40dc-a693-6c4a4bd007af"
      },
      "source": [
        "payers_by_region_channel = data.pivot_table(index='region', columns='channel', values='payer', aggfunc='sum', fill_value=0)\n",
        "print(payers_by_region_channel)"
      ],
      "execution_count": null,
      "outputs": [
        {
          "name": "stdout",
          "text": "channel        email-рассылки  organic  контекстная реклама  \\\nregion                                                        \nFrance                      4        3                   12   \nGermany                     1        8                   10   \nUK                          2        9                   17   \nUnited States               0       68                    6   \n\nchannel        реклама у блогеров  социальные сети  \nregion                                              \nFrance                          7                0  \nGermany                         6                0  \nUK                              6                0  \nUnited States                  10              112  \n",
          "output_type": "stream"
        }
      ]
    }
  ],
  "metadata": {
    "deepnote_persisted_session": {
      "createdAt": "2025-04-22T13:33:34.976Z"
    },
    "deepnote_notebook_id": "5c7f65e969f84b389e628d80b2a767f2",
    "colab": {
      "provenance": []
    },
    "language_info": {
      "name": "python"
    },
    "kernelspec": {
      "name": "python3",
      "display_name": "Python 3"
    }
  },
  "nbformat": 4,
  "nbformat_minor": 0
}